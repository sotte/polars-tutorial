{
 "cells": [
  {
   "cell_type": "markdown",
   "id": "6825deda",
   "metadata": {},
   "source": [
    "# My Small [Polars](https://www.pola.rs/) Tutorial\n",
    "\n",
    "This is a small polars tutorial.\n",
    "It covers basic concepts as well as some random (hopefully) useful things.\n",
    "\n",
    "It is based on the great\n",
    "[polars cheat sheet](https://franzdiebold.github.io/polars-cheat-sheet/Polars_cheat_sheet.pdf)\n",
    "but is heavily extended and restructured."
   ]
  },
  {
   "cell_type": "markdown",
   "id": "59956e53",
   "metadata": {},
   "source": [
    "Here are some important facts that you should know when you work with polars.\n",
    "\n",
    "**polars DataFrames don't have an index**. Aka no `.reset_index()` every third line and less complexity due to no multi-index,\n",
    "but some operartions are a bit more cumbersome in return.\n",
    "\n",
    "There are two main concepts in polars: expressions and contect.\n",
    "\n",
    "- **expression**: what to do with the data without actually knowing the data, e.g. `pl.col(\"foo\").sort().head(2)`\n",
    "- **context**: the context in which an expression is evaluated, e.g. in a `group_by`\n",
    "\n",
    "Because of the expression/context setup **method chaining** makes even more sense than with pandas.\n",
    "\n",
    "These seven verbs cover most things you want to do with polars:\n",
    "\n",
    "```python\n",
    "select        # select columns (and add new ones)\n",
    "with_columns  # like select but keep existing columns\n",
    "sort          # sort rows\n",
    "filter        # filter rows\n",
    "group_by      # group dataframe\n",
    "agg           # aggregate groups\n",
    "join          # join/merge another dataframe\n",
    "```\n",
    "\n",
    "As always, [read the friendly manual](https://docs.pola.rs/) to really understand how to use polars.\n",
    "\n",
    "IMO reading manuals is a super power and everybody can attain it. :shrug:"
   ]
  },
  {
   "cell_type": "markdown",
   "id": "e7ec4061",
   "metadata": {},
   "source": [
    "## Setup"
   ]
  },
  {
   "cell_type": "markdown",
   "id": "200cb386",
   "metadata": {},
   "source": [
    "### Install"
   ]
  },
  {
   "cell_type": "code",
   "execution_count": 1,
   "id": "5919876f",
   "metadata": {
    "execution": {
     "iopub.execute_input": "2024-05-15T11:40:45.887030Z",
     "iopub.status.busy": "2024-05-15T11:40:45.886852Z",
     "iopub.status.idle": "2024-05-15T11:40:52.842327Z",
     "shell.execute_reply": "2024-05-15T11:40:52.840990Z"
    }
   },
   "outputs": [
    {
     "name": "stdout",
     "output_type": "stream",
     "text": [
      "Requirement already satisfied: polars==0.20.25 in ./.venv/lib/python3.11/site-packages (0.20.25)\r\n"
     ]
    },
    {
     "name": "stdout",
     "output_type": "stream",
     "text": [
      "Requirement already satisfied: polars==0.20.25 in ./.venv/lib/python3.11/site-packages (from polars[plot,pyarrow]==0.20.25) (0.20.25)\r\n"
     ]
    },
    {
     "name": "stdout",
     "output_type": "stream",
     "text": [
      "Requirement already satisfied: hvplot>=0.9.1 in ./.venv/lib/python3.11/site-packages (from polars[plot,pyarrow]==0.20.25) (0.10.0)\r\n",
      "Requirement already satisfied: pyarrow>=7.0.0 in ./.venv/lib/python3.11/site-packages (from polars[plot,pyarrow]==0.20.25) (16.1.0)\r\n"
     ]
    },
    {
     "name": "stdout",
     "output_type": "stream",
     "text": [
      "Requirement already satisfied: bokeh>=1.0.0 in ./.venv/lib/python3.11/site-packages (from hvplot>=0.9.1->polars[plot,pyarrow]==0.20.25) (3.4.1)\r\n",
      "Requirement already satisfied: colorcet>=2 in ./.venv/lib/python3.11/site-packages (from hvplot>=0.9.1->polars[plot,pyarrow]==0.20.25) (3.1.0)\r\n",
      "Requirement already satisfied: holoviews>=1.11.0 in ./.venv/lib/python3.11/site-packages (from hvplot>=0.9.1->polars[plot,pyarrow]==0.20.25) (1.18.3)\r\n",
      "Requirement already satisfied: numpy>=1.15 in ./.venv/lib/python3.11/site-packages (from hvplot>=0.9.1->polars[plot,pyarrow]==0.20.25) (1.26.4)\r\n",
      "Requirement already satisfied: packaging in ./.venv/lib/python3.11/site-packages (from hvplot>=0.9.1->polars[plot,pyarrow]==0.20.25) (24.0)\r\n",
      "Requirement already satisfied: pandas in ./.venv/lib/python3.11/site-packages (from hvplot>=0.9.1->polars[plot,pyarrow]==0.20.25) (2.2.2)\r\n",
      "Requirement already satisfied: panel>=0.11.0 in ./.venv/lib/python3.11/site-packages (from hvplot>=0.9.1->polars[plot,pyarrow]==0.20.25) (1.4.2)\r\n",
      "Requirement already satisfied: param<3.0,>=1.12.0 in ./.venv/lib/python3.11/site-packages (from hvplot>=0.9.1->polars[plot,pyarrow]==0.20.25) (2.1.0)\r\n",
      "Requirement already satisfied: Jinja2>=2.9 in ./.venv/lib/python3.11/site-packages (from bokeh>=1.0.0->hvplot>=0.9.1->polars[plot,pyarrow]==0.20.25) (3.1.4)\r\n",
      "Requirement already satisfied: contourpy>=1.2 in ./.venv/lib/python3.11/site-packages (from bokeh>=1.0.0->hvplot>=0.9.1->polars[plot,pyarrow]==0.20.25) (1.2.1)\r\n",
      "Requirement already satisfied: pillow>=7.1.0 in ./.venv/lib/python3.11/site-packages (from bokeh>=1.0.0->hvplot>=0.9.1->polars[plot,pyarrow]==0.20.25) (10.3.0)\r\n",
      "Requirement already satisfied: PyYAML>=3.10 in ./.venv/lib/python3.11/site-packages (from bokeh>=1.0.0->hvplot>=0.9.1->polars[plot,pyarrow]==0.20.25) (6.0.1)\r\n",
      "Requirement already satisfied: tornado>=6.2 in ./.venv/lib/python3.11/site-packages (from bokeh>=1.0.0->hvplot>=0.9.1->polars[plot,pyarrow]==0.20.25) (6.4)\r\n",
      "Requirement already satisfied: xyzservices>=2021.09.1 in ./.venv/lib/python3.11/site-packages (from bokeh>=1.0.0->hvplot>=0.9.1->polars[plot,pyarrow]==0.20.25) (2024.4.0)\r\n"
     ]
    },
    {
     "name": "stdout",
     "output_type": "stream",
     "text": [
      "Requirement already satisfied: pyviz-comms>=0.7.4 in ./.venv/lib/python3.11/site-packages (from holoviews>=1.11.0->hvplot>=0.9.1->polars[plot,pyarrow]==0.20.25) (3.0.2)\r\n"
     ]
    },
    {
     "name": "stdout",
     "output_type": "stream",
     "text": [
      "Requirement already satisfied: python-dateutil>=2.8.2 in ./.venv/lib/python3.11/site-packages (from pandas->hvplot>=0.9.1->polars[plot,pyarrow]==0.20.25) (2.9.0.post0)\r\n",
      "Requirement already satisfied: pytz>=2020.1 in ./.venv/lib/python3.11/site-packages (from pandas->hvplot>=0.9.1->polars[plot,pyarrow]==0.20.25) (2024.1)\r\n",
      "Requirement already satisfied: tzdata>=2022.7 in ./.venv/lib/python3.11/site-packages (from pandas->hvplot>=0.9.1->polars[plot,pyarrow]==0.20.25) (2024.1)\r\n"
     ]
    },
    {
     "name": "stdout",
     "output_type": "stream",
     "text": [
      "Requirement already satisfied: markdown in ./.venv/lib/python3.11/site-packages (from panel>=0.11.0->hvplot>=0.9.1->polars[plot,pyarrow]==0.20.25) (3.6)\r\n",
      "Requirement already satisfied: markdown-it-py in ./.venv/lib/python3.11/site-packages (from panel>=0.11.0->hvplot>=0.9.1->polars[plot,pyarrow]==0.20.25) (3.0.0)\r\n",
      "Requirement already satisfied: linkify-it-py in ./.venv/lib/python3.11/site-packages (from panel>=0.11.0->hvplot>=0.9.1->polars[plot,pyarrow]==0.20.25) (2.0.3)\r\n",
      "Requirement already satisfied: mdit-py-plugins in ./.venv/lib/python3.11/site-packages (from panel>=0.11.0->hvplot>=0.9.1->polars[plot,pyarrow]==0.20.25) (0.4.1)\r\n",
      "Requirement already satisfied: requests in ./.venv/lib/python3.11/site-packages (from panel>=0.11.0->hvplot>=0.9.1->polars[plot,pyarrow]==0.20.25) (2.31.0)\r\n",
      "Requirement already satisfied: tqdm>=4.48.0 in ./.venv/lib/python3.11/site-packages (from panel>=0.11.0->hvplot>=0.9.1->polars[plot,pyarrow]==0.20.25) (4.66.4)\r\n",
      "Requirement already satisfied: bleach in ./.venv/lib/python3.11/site-packages (from panel>=0.11.0->hvplot>=0.9.1->polars[plot,pyarrow]==0.20.25) (6.1.0)\r\n",
      "Requirement already satisfied: typing-extensions in ./.venv/lib/python3.11/site-packages (from panel>=0.11.0->hvplot>=0.9.1->polars[plot,pyarrow]==0.20.25) (4.11.0)\r\n"
     ]
    },
    {
     "name": "stdout",
     "output_type": "stream",
     "text": [
      "Requirement already satisfied: MarkupSafe>=2.0 in ./.venv/lib/python3.11/site-packages (from Jinja2>=2.9->bokeh>=1.0.0->hvplot>=0.9.1->polars[plot,pyarrow]==0.20.25) (2.1.5)\r\n"
     ]
    },
    {
     "name": "stdout",
     "output_type": "stream",
     "text": [
      "Requirement already satisfied: six>=1.5 in ./.venv/lib/python3.11/site-packages (from python-dateutil>=2.8.2->pandas->hvplot>=0.9.1->polars[plot,pyarrow]==0.20.25) (1.16.0)\r\n",
      "Requirement already satisfied: webencodings in ./.venv/lib/python3.11/site-packages (from bleach->panel>=0.11.0->hvplot>=0.9.1->polars[plot,pyarrow]==0.20.25) (0.5.1)\r\n",
      "Requirement already satisfied: uc-micro-py in ./.venv/lib/python3.11/site-packages (from linkify-it-py->panel>=0.11.0->hvplot>=0.9.1->polars[plot,pyarrow]==0.20.25) (1.0.3)\r\n"
     ]
    },
    {
     "name": "stdout",
     "output_type": "stream",
     "text": [
      "Requirement already satisfied: mdurl~=0.1 in ./.venv/lib/python3.11/site-packages (from markdown-it-py->panel>=0.11.0->hvplot>=0.9.1->polars[plot,pyarrow]==0.20.25) (0.1.2)\r\n",
      "Requirement already satisfied: charset-normalizer<4,>=2 in ./.venv/lib/python3.11/site-packages (from requests->panel>=0.11.0->hvplot>=0.9.1->polars[plot,pyarrow]==0.20.25) (3.3.2)\r\n",
      "Requirement already satisfied: idna<4,>=2.5 in ./.venv/lib/python3.11/site-packages (from requests->panel>=0.11.0->hvplot>=0.9.1->polars[plot,pyarrow]==0.20.25) (3.7)\r\n",
      "Requirement already satisfied: urllib3<3,>=1.21.1 in ./.venv/lib/python3.11/site-packages (from requests->panel>=0.11.0->hvplot>=0.9.1->polars[plot,pyarrow]==0.20.25) (2.2.1)\r\n",
      "Requirement already satisfied: certifi>=2017.4.17 in ./.venv/lib/python3.11/site-packages (from requests->panel>=0.11.0->hvplot>=0.9.1->polars[plot,pyarrow]==0.20.25) (2024.2.2)\r\n"
     ]
    },
    {
     "name": "stdout",
     "output_type": "stream",
     "text": [
      "Requirement already satisfied: pandera==0.19.2 in ./.venv/lib/python3.11/site-packages (from pandera[polars]==0.19.2) (0.19.2)\r\n"
     ]
    },
    {
     "name": "stdout",
     "output_type": "stream",
     "text": [
      "Requirement already satisfied: multimethod<=1.10.0 in ./.venv/lib/python3.11/site-packages (from pandera==0.19.2->pandera[polars]==0.19.2) (1.10)\r\n",
      "Requirement already satisfied: numpy>=1.19.0 in ./.venv/lib/python3.11/site-packages (from pandera==0.19.2->pandera[polars]==0.19.2) (1.26.4)\r\n",
      "Requirement already satisfied: packaging>=20.0 in ./.venv/lib/python3.11/site-packages (from pandera==0.19.2->pandera[polars]==0.19.2) (24.0)\r\n",
      "Requirement already satisfied: pandas>=1.2.0 in ./.venv/lib/python3.11/site-packages (from pandera==0.19.2->pandera[polars]==0.19.2) (2.2.2)\r\n",
      "Requirement already satisfied: pydantic in ./.venv/lib/python3.11/site-packages (from pandera==0.19.2->pandera[polars]==0.19.2) (2.7.1)\r\n",
      "Requirement already satisfied: typeguard in ./.venv/lib/python3.11/site-packages (from pandera==0.19.2->pandera[polars]==0.19.2) (4.2.1)\r\n",
      "Requirement already satisfied: typing-inspect>=0.6.0 in ./.venv/lib/python3.11/site-packages (from pandera==0.19.2->pandera[polars]==0.19.2) (0.9.0)\r\n",
      "Requirement already satisfied: wrapt in ./.venv/lib/python3.11/site-packages (from pandera==0.19.2->pandera[polars]==0.19.2) (1.16.0)\r\n"
     ]
    },
    {
     "name": "stdout",
     "output_type": "stream",
     "text": [
      "Requirement already satisfied: polars>=0.20.0 in ./.venv/lib/python3.11/site-packages (from pandera[polars]==0.19.2) (0.20.25)\r\n"
     ]
    },
    {
     "name": "stdout",
     "output_type": "stream",
     "text": [
      "Requirement already satisfied: python-dateutil>=2.8.2 in ./.venv/lib/python3.11/site-packages (from pandas>=1.2.0->pandera==0.19.2->pandera[polars]==0.19.2) (2.9.0.post0)\r\n",
      "Requirement already satisfied: pytz>=2020.1 in ./.venv/lib/python3.11/site-packages (from pandas>=1.2.0->pandera==0.19.2->pandera[polars]==0.19.2) (2024.1)\r\n",
      "Requirement already satisfied: tzdata>=2022.7 in ./.venv/lib/python3.11/site-packages (from pandas>=1.2.0->pandera==0.19.2->pandera[polars]==0.19.2) (2024.1)\r\n"
     ]
    },
    {
     "name": "stdout",
     "output_type": "stream",
     "text": [
      "Requirement already satisfied: mypy-extensions>=0.3.0 in ./.venv/lib/python3.11/site-packages (from typing-inspect>=0.6.0->pandera==0.19.2->pandera[polars]==0.19.2) (1.0.0)\r\n",
      "Requirement already satisfied: typing-extensions>=3.7.4 in ./.venv/lib/python3.11/site-packages (from typing-inspect>=0.6.0->pandera==0.19.2->pandera[polars]==0.19.2) (4.11.0)\r\n",
      "Requirement already satisfied: annotated-types>=0.4.0 in ./.venv/lib/python3.11/site-packages (from pydantic->pandera==0.19.2->pandera[polars]==0.19.2) (0.6.0)\r\n",
      "Requirement already satisfied: pydantic-core==2.18.2 in ./.venv/lib/python3.11/site-packages (from pydantic->pandera==0.19.2->pandera[polars]==0.19.2) (2.18.2)\r\n",
      "Requirement already satisfied: six>=1.5 in ./.venv/lib/python3.11/site-packages (from python-dateutil>=2.8.2->pandas>=1.2.0->pandera==0.19.2->pandera[polars]==0.19.2) (1.16.0)\r\n"
     ]
    }
   ],
   "source": [
    "!pip install polars==0.20.25\n",
    "\n",
    "# we'll install a bit more for later parts of the tutorial\n",
    "\n",
    "# we want to plot dataframes\n",
    "!pip install \"polars[plot,pyarrow]==0.20.25\"\n",
    "\n",
    "# we want to validate dataframes with pandera\n",
    "!pip install \"pandera[polars]==0.19.2\""
   ]
  },
  {
   "cell_type": "markdown",
   "id": "dd309d03",
   "metadata": {},
   "source": [
    "### Import"
   ]
  },
  {
   "cell_type": "code",
   "execution_count": 2,
   "id": "e947bc9e",
   "metadata": {
    "execution": {
     "iopub.execute_input": "2024-05-15T11:40:52.848163Z",
     "iopub.status.busy": "2024-05-15T11:40:52.847694Z",
     "iopub.status.idle": "2024-05-15T11:40:52.938970Z",
     "shell.execute_reply": "2024-05-15T11:40:52.938057Z"
    },
    "pycharm": {
     "is_executing": true
    }
   },
   "outputs": [],
   "source": [
    "import polars as pl\n",
    "\n",
    "# I personally like to import col as c to shorten some expressions\n",
    "from polars import col as c"
   ]
  },
  {
   "cell_type": "markdown",
   "id": "1a99715e",
   "metadata": {},
   "source": [
    "## Basics"
   ]
  },
  {
   "cell_type": "markdown",
   "id": "980e1444",
   "metadata": {},
   "source": [
    "### Creating/Reading/Saving DataFrames"
   ]
  },
  {
   "cell_type": "code",
   "execution_count": 3,
   "id": "a596f388",
   "metadata": {
    "execution": {
     "iopub.execute_input": "2024-05-15T11:40:52.943373Z",
     "iopub.status.busy": "2024-05-15T11:40:52.942776Z",
     "iopub.status.idle": "2024-05-15T11:40:52.953031Z",
     "shell.execute_reply": "2024-05-15T11:40:52.952199Z"
    }
   },
   "outputs": [
    {
     "data": {
      "text/html": [
       "<div><style>\n",
       ".dataframe > thead > tr,\n",
       ".dataframe > tbody > tr {\n",
       "  text-align: right;\n",
       "  white-space: pre-wrap;\n",
       "}\n",
       "</style>\n",
       "<small>shape: (5, 4)</small><table border=\"1\" class=\"dataframe\"><thead><tr><th>nrs</th><th>names</th><th>random</th><th>groups</th></tr><tr><td>i64</td><td>str</td><td>f64</td><td>str</td></tr></thead><tbody><tr><td>1</td><td>&quot;foo&quot;</td><td>0.3</td><td>&quot;A&quot;</td></tr><tr><td>2</td><td>&quot;ham&quot;</td><td>0.7</td><td>&quot;A&quot;</td></tr><tr><td>3</td><td>&quot;spam&quot;</td><td>0.1</td><td>&quot;B&quot;</td></tr><tr><td>null</td><td>&quot;egg&quot;</td><td>0.9</td><td>&quot;C&quot;</td></tr><tr><td>5</td><td>null</td><td>0.6</td><td>&quot;B&quot;</td></tr></tbody></table></div>"
      ],
      "text/plain": [
       "shape: (5, 4)\n",
       "┌──────┬───────┬────────┬────────┐\n",
       "│ nrs  ┆ names ┆ random ┆ groups │\n",
       "│ ---  ┆ ---   ┆ ---    ┆ ---    │\n",
       "│ i64  ┆ str   ┆ f64    ┆ str    │\n",
       "╞══════╪═══════╪════════╪════════╡\n",
       "│ 1    ┆ foo   ┆ 0.3    ┆ A      │\n",
       "│ 2    ┆ ham   ┆ 0.7    ┆ A      │\n",
       "│ 3    ┆ spam  ┆ 0.1    ┆ B      │\n",
       "│ null ┆ egg   ┆ 0.9    ┆ C      │\n",
       "│ 5    ┆ null  ┆ 0.6    ┆ B      │\n",
       "└──────┴───────┴────────┴────────┘"
      ]
     },
     "execution_count": 3,
     "metadata": {},
     "output_type": "execute_result"
    }
   ],
   "source": [
    "# Create DataFrame\n",
    "df = pl.DataFrame(\n",
    "    {\n",
    "        \"nrs\": [1, 2, 3, None, 5],\n",
    "        \"names\": [\"foo\", \"ham\", \"spam\", \"egg\", None],\n",
    "        \"random\": [0.3, 0.7, 0.1, 0.9, 0.6],\n",
    "        \"groups\": [\"A\", \"A\", \"B\", \"C\", \"B\"],\n",
    "    }\n",
    ")\n",
    "df"
   ]
  },
  {
   "cell_type": "code",
   "execution_count": 4,
   "id": "97d8a5bd",
   "metadata": {
    "execution": {
     "iopub.execute_input": "2024-05-15T11:40:52.956748Z",
     "iopub.status.busy": "2024-05-15T11:40:52.956565Z",
     "iopub.status.idle": "2024-05-15T11:40:52.962694Z",
     "shell.execute_reply": "2024-05-15T11:40:52.961792Z"
    }
   },
   "outputs": [],
   "source": [
    "# Save dataframes as csv\n",
    "# (do yourself a favour and switch to parquet instead of CSV!)\n",
    "df.write_csv(\"df.csv\")"
   ]
  },
  {
   "cell_type": "code",
   "execution_count": 5,
   "id": "a9eacda1",
   "metadata": {
    "execution": {
     "iopub.execute_input": "2024-05-15T11:40:52.965085Z",
     "iopub.status.busy": "2024-05-15T11:40:52.964830Z",
     "iopub.status.idle": "2024-05-15T11:40:52.971687Z",
     "shell.execute_reply": "2024-05-15T11:40:52.970786Z"
    }
   },
   "outputs": [
    {
     "data": {
      "text/plain": [
       "True"
      ]
     },
     "execution_count": 5,
     "metadata": {},
     "output_type": "execute_result"
    }
   ],
   "source": [
    "# Read CSV\n",
    "(pl.read_csv(\"df.csv\", columns=[\"nrs\", \"names\", \"random\", \"groups\"]).equals(df))"
   ]
  },
  {
   "cell_type": "code",
   "execution_count": 6,
   "id": "6de80200",
   "metadata": {
    "execution": {
     "iopub.execute_input": "2024-05-15T11:40:52.973895Z",
     "iopub.status.busy": "2024-05-15T11:40:52.973641Z",
     "iopub.status.idle": "2024-05-15T11:40:52.978286Z",
     "shell.execute_reply": "2024-05-15T11:40:52.977529Z"
    }
   },
   "outputs": [],
   "source": [
    "# Save dataframe as parquet\n",
    "df.write_parquet(\"df.parquet\")"
   ]
  },
  {
   "cell_type": "code",
   "execution_count": 7,
   "id": "bd8c7ba3",
   "metadata": {
    "execution": {
     "iopub.execute_input": "2024-05-15T11:40:52.980732Z",
     "iopub.status.busy": "2024-05-15T11:40:52.980490Z",
     "iopub.status.idle": "2024-05-15T11:40:52.986733Z",
     "shell.execute_reply": "2024-05-15T11:40:52.985887Z"
    }
   },
   "outputs": [
    {
     "data": {
      "text/plain": [
       "True"
      ]
     },
     "execution_count": 7,
     "metadata": {},
     "output_type": "execute_result"
    }
   ],
   "source": [
    "# Read parquet\n",
    "# Note: you can also read multiple frames with wildcards\n",
    "(pl.read_parquet(\"df*.parquet\").equals(df))"
   ]
  },
  {
   "cell_type": "markdown",
   "id": "14c19029",
   "metadata": {},
   "source": [
    "### Select columns - `select()`"
   ]
  },
  {
   "cell_type": "code",
   "execution_count": 8,
   "id": "1896808e",
   "metadata": {
    "execution": {
     "iopub.execute_input": "2024-05-15T11:40:52.989462Z",
     "iopub.status.busy": "2024-05-15T11:40:52.988927Z",
     "iopub.status.idle": "2024-05-15T11:40:52.994965Z",
     "shell.execute_reply": "2024-05-15T11:40:52.994239Z"
    }
   },
   "outputs": [
    {
     "data": {
      "text/html": [
       "<div><style>\n",
       ".dataframe > thead > tr,\n",
       ".dataframe > tbody > tr {\n",
       "  text-align: right;\n",
       "  white-space: pre-wrap;\n",
       "}\n",
       "</style>\n",
       "<small>shape: (5, 2)</small><table border=\"1\" class=\"dataframe\"><thead><tr><th>nrs</th><th>names</th></tr><tr><td>i64</td><td>str</td></tr></thead><tbody><tr><td>1</td><td>&quot;foo&quot;</td></tr><tr><td>2</td><td>&quot;ham&quot;</td></tr><tr><td>3</td><td>&quot;spam&quot;</td></tr><tr><td>null</td><td>&quot;egg&quot;</td></tr><tr><td>5</td><td>null</td></tr></tbody></table></div>"
      ],
      "text/plain": [
       "shape: (5, 2)\n",
       "┌──────┬───────┐\n",
       "│ nrs  ┆ names │\n",
       "│ ---  ┆ ---   │\n",
       "│ i64  ┆ str   │\n",
       "╞══════╪═══════╡\n",
       "│ 1    ┆ foo   │\n",
       "│ 2    ┆ ham   │\n",
       "│ 3    ┆ spam  │\n",
       "│ null ┆ egg   │\n",
       "│ 5    ┆ null  │\n",
       "└──────┴───────┘"
      ]
     },
     "execution_count": 8,
     "metadata": {},
     "output_type": "execute_result"
    }
   ],
   "source": [
    "# Select multiple columns with specific names\n",
    "df.select(\"nrs\", \"names\")\n",
    "# equivalent\n",
    "df.select(pl.col(\"nrs\"), pl.col(\"names\"))\n",
    "df.select(pl.col.nrs, pl.col.names)"
   ]
  },
  {
   "cell_type": "code",
   "execution_count": 9,
   "id": "a6a6c8cf",
   "metadata": {
    "execution": {
     "iopub.execute_input": "2024-05-15T11:40:52.997256Z",
     "iopub.status.busy": "2024-05-15T11:40:52.996982Z",
     "iopub.status.idle": "2024-05-15T11:40:53.002446Z",
     "shell.execute_reply": "2024-05-15T11:40:53.001886Z"
    }
   },
   "outputs": [
    {
     "data": {
      "text/html": [
       "<div><style>\n",
       ".dataframe > thead > tr,\n",
       ".dataframe > tbody > tr {\n",
       "  text-align: right;\n",
       "  white-space: pre-wrap;\n",
       "}\n",
       "</style>\n",
       "<small>shape: (5, 3)</small><table border=\"1\" class=\"dataframe\"><thead><tr><th>nrs</th><th>names</th><th>groups</th></tr><tr><td>i64</td><td>str</td><td>str</td></tr></thead><tbody><tr><td>1</td><td>&quot;foo&quot;</td><td>&quot;A&quot;</td></tr><tr><td>2</td><td>&quot;ham&quot;</td><td>&quot;A&quot;</td></tr><tr><td>3</td><td>&quot;spam&quot;</td><td>&quot;B&quot;</td></tr><tr><td>null</td><td>&quot;egg&quot;</td><td>&quot;C&quot;</td></tr><tr><td>5</td><td>null</td><td>&quot;B&quot;</td></tr></tbody></table></div>"
      ],
      "text/plain": [
       "shape: (5, 3)\n",
       "┌──────┬───────┬────────┐\n",
       "│ nrs  ┆ names ┆ groups │\n",
       "│ ---  ┆ ---   ┆ ---    │\n",
       "│ i64  ┆ str   ┆ str    │\n",
       "╞══════╪═══════╪════════╡\n",
       "│ 1    ┆ foo   ┆ A      │\n",
       "│ 2    ┆ ham   ┆ A      │\n",
       "│ 3    ┆ spam  ┆ B      │\n",
       "│ null ┆ egg   ┆ C      │\n",
       "│ 5    ┆ null  ┆ B      │\n",
       "└──────┴───────┴────────┘"
      ]
     },
     "execution_count": 9,
     "metadata": {},
     "output_type": "execute_result"
    }
   ],
   "source": [
    "df.select(pl.all().exclude(\"random\"))"
   ]
  },
  {
   "cell_type": "code",
   "execution_count": 10,
   "id": "baffff7b",
   "metadata": {
    "execution": {
     "iopub.execute_input": "2024-05-15T11:40:53.004786Z",
     "iopub.status.busy": "2024-05-15T11:40:53.004600Z",
     "iopub.status.idle": "2024-05-15T11:40:53.009902Z",
     "shell.execute_reply": "2024-05-15T11:40:53.009074Z"
    }
   },
   "outputs": [
    {
     "data": {
      "text/html": [
       "<div><style>\n",
       ".dataframe > thead > tr,\n",
       ".dataframe > tbody > tr {\n",
       "  text-align: right;\n",
       "  white-space: pre-wrap;\n",
       "}\n",
       "</style>\n",
       "<small>shape: (5, 2)</small><table border=\"1\" class=\"dataframe\"><thead><tr><th>nrs</th><th>names</th></tr><tr><td>i64</td><td>str</td></tr></thead><tbody><tr><td>1</td><td>&quot;foo&quot;</td></tr><tr><td>2</td><td>&quot;ham&quot;</td></tr><tr><td>3</td><td>&quot;spam&quot;</td></tr><tr><td>null</td><td>&quot;egg&quot;</td></tr><tr><td>5</td><td>null</td></tr></tbody></table></div>"
      ],
      "text/plain": [
       "shape: (5, 2)\n",
       "┌──────┬───────┐\n",
       "│ nrs  ┆ names │\n",
       "│ ---  ┆ ---   │\n",
       "│ i64  ┆ str   │\n",
       "╞══════╪═══════╡\n",
       "│ 1    ┆ foo   │\n",
       "│ 2    ┆ ham   │\n",
       "│ 3    ┆ spam  │\n",
       "│ null ┆ egg   │\n",
       "│ 5    ┆ null  │\n",
       "└──────┴───────┘"
      ]
     },
     "execution_count": 10,
     "metadata": {},
     "output_type": "execute_result"
    }
   ],
   "source": [
    "# Select columns whose name matches regular expression regex.\n",
    "df.select(pl.col(\"^n.*$\"))"
   ]
  },
  {
   "cell_type": "markdown",
   "id": "159baef2",
   "metadata": {},
   "source": [
    "### Add New Columns - `select()` and `with_columns()`"
   ]
  },
  {
   "cell_type": "code",
   "execution_count": 11,
   "id": "0745b15a",
   "metadata": {
    "execution": {
     "iopub.execute_input": "2024-05-15T11:40:53.013686Z",
     "iopub.status.busy": "2024-05-15T11:40:53.013510Z",
     "iopub.status.idle": "2024-05-15T11:40:53.019892Z",
     "shell.execute_reply": "2024-05-15T11:40:53.018557Z"
    }
   },
   "outputs": [
    {
     "data": {
      "text/html": [
       "<div><style>\n",
       ".dataframe > thead > tr,\n",
       ".dataframe > tbody > tr {\n",
       "  text-align: right;\n",
       "  white-space: pre-wrap;\n",
       "}\n",
       "</style>\n",
       "<small>shape: (5, 1)</small><table border=\"1\" class=\"dataframe\"><thead><tr><th>NAMES</th></tr><tr><td>str</td></tr></thead><tbody><tr><td>&quot;foo&quot;</td></tr><tr><td>&quot;ham&quot;</td></tr><tr><td>&quot;spam&quot;</td></tr><tr><td>&quot;egg&quot;</td></tr><tr><td>null</td></tr></tbody></table></div>"
      ],
      "text/plain": [
       "shape: (5, 1)\n",
       "┌───────┐\n",
       "│ NAMES │\n",
       "│ ---   │\n",
       "│ str   │\n",
       "╞═══════╡\n",
       "│ foo   │\n",
       "│ ham   │\n",
       "│ spam  │\n",
       "│ egg   │\n",
       "│ null  │\n",
       "└───────┘"
      ]
     },
     "execution_count": 11,
     "metadata": {},
     "output_type": "execute_result"
    }
   ],
   "source": [
    "df.select(NAMES=c.names)\n",
    "df.select(c(\"names\").alias(\"NAMES\"))"
   ]
  },
  {
   "cell_type": "code",
   "execution_count": 12,
   "id": "39be6e70",
   "metadata": {
    "execution": {
     "iopub.execute_input": "2024-05-15T11:40:53.024794Z",
     "iopub.status.busy": "2024-05-15T11:40:53.024384Z",
     "iopub.status.idle": "2024-05-15T11:40:53.034980Z",
     "shell.execute_reply": "2024-05-15T11:40:53.033733Z"
    }
   },
   "outputs": [
    {
     "data": {
      "text/html": [
       "<div><style>\n",
       ".dataframe > thead > tr,\n",
       ".dataframe > tbody > tr {\n",
       "  text-align: right;\n",
       "  white-space: pre-wrap;\n",
       "}\n",
       "</style>\n",
       "<small>shape: (5, 5)</small><table border=\"1\" class=\"dataframe\"><thead><tr><th>nrs</th><th>names</th><th>random</th><th>groups</th><th>product</th></tr><tr><td>i64</td><td>str</td><td>f64</td><td>str</td><td>f64</td></tr></thead><tbody><tr><td>1</td><td>&quot;foo&quot;</td><td>0.3</td><td>&quot;A&quot;</td><td>0.3</td></tr><tr><td>2</td><td>&quot;ham&quot;</td><td>0.7</td><td>&quot;A&quot;</td><td>1.4</td></tr><tr><td>3</td><td>&quot;spam&quot;</td><td>0.1</td><td>&quot;B&quot;</td><td>0.3</td></tr><tr><td>null</td><td>&quot;egg&quot;</td><td>0.9</td><td>&quot;C&quot;</td><td>null</td></tr><tr><td>5</td><td>null</td><td>0.6</td><td>&quot;B&quot;</td><td>3.0</td></tr></tbody></table></div>"
      ],
      "text/plain": [
       "shape: (5, 5)\n",
       "┌──────┬───────┬────────┬────────┬─────────┐\n",
       "│ nrs  ┆ names ┆ random ┆ groups ┆ product │\n",
       "│ ---  ┆ ---   ┆ ---    ┆ ---    ┆ ---     │\n",
       "│ i64  ┆ str   ┆ f64    ┆ str    ┆ f64     │\n",
       "╞══════╪═══════╪════════╪════════╪═════════╡\n",
       "│ 1    ┆ foo   ┆ 0.3    ┆ A      ┆ 0.3     │\n",
       "│ 2    ┆ ham   ┆ 0.7    ┆ A      ┆ 1.4     │\n",
       "│ 3    ┆ spam  ┆ 0.1    ┆ B      ┆ 0.3     │\n",
       "│ null ┆ egg   ┆ 0.9    ┆ C      ┆ null    │\n",
       "│ 5    ┆ null  ┆ 0.6    ┆ B      ┆ 3.0     │\n",
       "└──────┴───────┴────────┴────────┴─────────┘"
      ]
     },
     "execution_count": 12,
     "metadata": {},
     "output_type": "execute_result"
    }
   ],
   "source": [
    "# Keep existing and add new columns with `with_columns`\n",
    "df.with_columns((pl.col(\"random\") * pl.col(\"nrs\")).alias(\"product\"))\n",
    "df.with_columns(product=pl.col(\"random\") * pl.col(\"nrs\"))"
   ]
  },
  {
   "cell_type": "code",
   "execution_count": 13,
   "id": "3c51268e",
   "metadata": {
    "execution": {
     "iopub.execute_input": "2024-05-15T11:40:53.039886Z",
     "iopub.status.busy": "2024-05-15T11:40:53.039024Z",
     "iopub.status.idle": "2024-05-15T11:40:53.048931Z",
     "shell.execute_reply": "2024-05-15T11:40:53.047780Z"
    }
   },
   "outputs": [
    {
     "data": {
      "text/html": [
       "<div><style>\n",
       ".dataframe > thead > tr,\n",
       ".dataframe > tbody > tr {\n",
       "  text-align: right;\n",
       "  white-space: pre-wrap;\n",
       "}\n",
       "</style>\n",
       "<small>shape: (5, 6)</small><table border=\"1\" class=\"dataframe\"><thead><tr><th>nrs</th><th>names</th><th>random</th><th>groups</th><th>product</th><th>names_len_bytes</th></tr><tr><td>i64</td><td>str</td><td>f64</td><td>str</td><td>f64</td><td>u32</td></tr></thead><tbody><tr><td>1</td><td>&quot;foo&quot;</td><td>0.3</td><td>&quot;A&quot;</td><td>0.3</td><td>3</td></tr><tr><td>2</td><td>&quot;ham&quot;</td><td>0.7</td><td>&quot;A&quot;</td><td>1.4</td><td>3</td></tr><tr><td>3</td><td>&quot;spam&quot;</td><td>0.1</td><td>&quot;B&quot;</td><td>0.3</td><td>4</td></tr><tr><td>null</td><td>&quot;egg&quot;</td><td>0.9</td><td>&quot;C&quot;</td><td>null</td><td>3</td></tr><tr><td>5</td><td>null</td><td>0.6</td><td>&quot;B&quot;</td><td>3.0</td><td>null</td></tr></tbody></table></div>"
      ],
      "text/plain": [
       "shape: (5, 6)\n",
       "┌──────┬───────┬────────┬────────┬─────────┬─────────────────┐\n",
       "│ nrs  ┆ names ┆ random ┆ groups ┆ product ┆ names_len_bytes │\n",
       "│ ---  ┆ ---   ┆ ---    ┆ ---    ┆ ---     ┆ ---             │\n",
       "│ i64  ┆ str   ┆ f64    ┆ str    ┆ f64     ┆ u32             │\n",
       "╞══════╪═══════╪════════╪════════╪═════════╪═════════════════╡\n",
       "│ 1    ┆ foo   ┆ 0.3    ┆ A      ┆ 0.3     ┆ 3               │\n",
       "│ 2    ┆ ham   ┆ 0.7    ┆ A      ┆ 1.4     ┆ 3               │\n",
       "│ 3    ┆ spam  ┆ 0.1    ┆ B      ┆ 0.3     ┆ 4               │\n",
       "│ null ┆ egg   ┆ 0.9    ┆ C      ┆ null    ┆ 3               │\n",
       "│ 5    ┆ null  ┆ 0.6    ┆ B      ┆ 3.0     ┆ null            │\n",
       "└──────┴───────┴────────┴────────┴─────────┴─────────────────┘"
      ]
     },
     "execution_count": 13,
     "metadata": {},
     "output_type": "execute_result"
    }
   ],
   "source": [
    "# Add several new columns to the DataFrame\n",
    "df.with_columns(\n",
    "    product=(pl.col(\"random\") * pl.col(\"nrs\")),\n",
    "    names_len_bytes=pl.col(\"names\").str.len_bytes(),\n",
    ")"
   ]
  },
  {
   "cell_type": "code",
   "execution_count": 14,
   "id": "6c814619",
   "metadata": {
    "execution": {
     "iopub.execute_input": "2024-05-15T11:40:53.053420Z",
     "iopub.status.busy": "2024-05-15T11:40:53.052796Z",
     "iopub.status.idle": "2024-05-15T11:40:53.060541Z",
     "shell.execute_reply": "2024-05-15T11:40:53.059385Z"
    }
   },
   "outputs": [
    {
     "data": {
      "text/html": [
       "<div><style>\n",
       ".dataframe > thead > tr,\n",
       ".dataframe > tbody > tr {\n",
       "  text-align: right;\n",
       "  white-space: pre-wrap;\n",
       "}\n",
       "</style>\n",
       "<small>shape: (5, 5)</small><table border=\"1\" class=\"dataframe\"><thead><tr><th>index</th><th>nrs</th><th>names</th><th>random</th><th>groups</th></tr><tr><td>u32</td><td>i64</td><td>str</td><td>f64</td><td>str</td></tr></thead><tbody><tr><td>0</td><td>1</td><td>&quot;foo&quot;</td><td>0.3</td><td>&quot;A&quot;</td></tr><tr><td>1</td><td>2</td><td>&quot;ham&quot;</td><td>0.7</td><td>&quot;A&quot;</td></tr><tr><td>2</td><td>3</td><td>&quot;spam&quot;</td><td>0.1</td><td>&quot;B&quot;</td></tr><tr><td>3</td><td>null</td><td>&quot;egg&quot;</td><td>0.9</td><td>&quot;C&quot;</td></tr><tr><td>4</td><td>5</td><td>null</td><td>0.6</td><td>&quot;B&quot;</td></tr></tbody></table></div>"
      ],
      "text/plain": [
       "shape: (5, 5)\n",
       "┌───────┬──────┬───────┬────────┬────────┐\n",
       "│ index ┆ nrs  ┆ names ┆ random ┆ groups │\n",
       "│ ---   ┆ ---  ┆ ---   ┆ ---    ┆ ---    │\n",
       "│ u32   ┆ i64  ┆ str   ┆ f64    ┆ str    │\n",
       "╞═══════╪══════╪═══════╪════════╪════════╡\n",
       "│ 0     ┆ 1    ┆ foo   ┆ 0.3    ┆ A      │\n",
       "│ 1     ┆ 2    ┆ ham   ┆ 0.7    ┆ A      │\n",
       "│ 2     ┆ 3    ┆ spam  ┆ 0.1    ┆ B      │\n",
       "│ 3     ┆ null ┆ egg   ┆ 0.9    ┆ C      │\n",
       "│ 4     ┆ 5    ┆ null  ┆ 0.6    ┆ B      │\n",
       "└───────┴──────┴───────┴────────┴────────┘"
      ]
     },
     "execution_count": 14,
     "metadata": {},
     "output_type": "execute_result"
    }
   ],
   "source": [
    "# Add a column 'index' that enumerates the rows\n",
    "df.with_row_index()"
   ]
  },
  {
   "cell_type": "markdown",
   "id": "95ff09f1",
   "metadata": {},
   "source": [
    "### Select rows - `filter()` and friends"
   ]
  },
  {
   "cell_type": "code",
   "execution_count": 15,
   "id": "90ab56fc",
   "metadata": {
    "execution": {
     "iopub.execute_input": "2024-05-15T11:40:53.065137Z",
     "iopub.status.busy": "2024-05-15T11:40:53.064523Z",
     "iopub.status.idle": "2024-05-15T11:40:53.073338Z",
     "shell.execute_reply": "2024-05-15T11:40:53.072343Z"
    }
   },
   "outputs": [
    {
     "data": {
      "text/html": [
       "<div><style>\n",
       ".dataframe > thead > tr,\n",
       ".dataframe > tbody > tr {\n",
       "  text-align: right;\n",
       "  white-space: pre-wrap;\n",
       "}\n",
       "</style>\n",
       "<small>shape: (3, 4)</small><table border=\"1\" class=\"dataframe\"><thead><tr><th>nrs</th><th>names</th><th>random</th><th>groups</th></tr><tr><td>i64</td><td>str</td><td>f64</td><td>str</td></tr></thead><tbody><tr><td>2</td><td>&quot;ham&quot;</td><td>0.7</td><td>&quot;A&quot;</td></tr><tr><td>null</td><td>&quot;egg&quot;</td><td>0.9</td><td>&quot;C&quot;</td></tr><tr><td>5</td><td>null</td><td>0.6</td><td>&quot;B&quot;</td></tr></tbody></table></div>"
      ],
      "text/plain": [
       "shape: (3, 4)\n",
       "┌──────┬───────┬────────┬────────┐\n",
       "│ nrs  ┆ names ┆ random ┆ groups │\n",
       "│ ---  ┆ ---   ┆ ---    ┆ ---    │\n",
       "│ i64  ┆ str   ┆ f64    ┆ str    │\n",
       "╞══════╪═══════╪════════╪════════╡\n",
       "│ 2    ┆ ham   ┆ 0.7    ┆ A      │\n",
       "│ null ┆ egg   ┆ 0.9    ┆ C      │\n",
       "│ 5    ┆ null  ┆ 0.6    ┆ B      │\n",
       "└──────┴───────┴────────┴────────┘"
      ]
     },
     "execution_count": 15,
     "metadata": {},
     "output_type": "execute_result"
    }
   ],
   "source": [
    "# Filter: Extract rows that meet logical criteria.\n",
    "df.filter(pl.col(\"random\") > 0.5)\n",
    "df.filter(c(\"random\") > 0.5)\n",
    "df.filter(c.random > 0.5)"
   ]
  },
  {
   "cell_type": "code",
   "execution_count": 16,
   "id": "b0885931",
   "metadata": {
    "execution": {
     "iopub.execute_input": "2024-05-15T11:40:53.076580Z",
     "iopub.status.busy": "2024-05-15T11:40:53.076193Z",
     "iopub.status.idle": "2024-05-15T11:40:53.084459Z",
     "shell.execute_reply": "2024-05-15T11:40:53.083427Z"
    }
   },
   "outputs": [
    {
     "data": {
      "text/html": [
       "<div><style>\n",
       ".dataframe > thead > tr,\n",
       ".dataframe > tbody > tr {\n",
       "  text-align: right;\n",
       "  white-space: pre-wrap;\n",
       "}\n",
       "</style>\n",
       "<small>shape: (1, 4)</small><table border=\"1\" class=\"dataframe\"><thead><tr><th>nrs</th><th>names</th><th>random</th><th>groups</th></tr><tr><td>i64</td><td>str</td><td>f64</td><td>str</td></tr></thead><tbody><tr><td>5</td><td>null</td><td>0.6</td><td>&quot;B&quot;</td></tr></tbody></table></div>"
      ],
      "text/plain": [
       "shape: (1, 4)\n",
       "┌─────┬───────┬────────┬────────┐\n",
       "│ nrs ┆ names ┆ random ┆ groups │\n",
       "│ --- ┆ ---   ┆ ---    ┆ ---    │\n",
       "│ i64 ┆ str   ┆ f64    ┆ str    │\n",
       "╞═════╪═══════╪════════╪════════╡\n",
       "│ 5   ┆ null  ┆ 0.6    ┆ B      │\n",
       "└─────┴───────┴────────┴────────┘"
      ]
     },
     "execution_count": 16,
     "metadata": {},
     "output_type": "execute_result"
    }
   ],
   "source": [
    "df.filter((pl.col(\"groups\") == \"B\") & (pl.col(\"random\") > 0.5))"
   ]
  },
  {
   "cell_type": "code",
   "execution_count": 17,
   "id": "af6f8aec",
   "metadata": {
    "execution": {
     "iopub.execute_input": "2024-05-15T11:40:53.087751Z",
     "iopub.status.busy": "2024-05-15T11:40:53.087363Z",
     "iopub.status.idle": "2024-05-15T11:40:53.094856Z",
     "shell.execute_reply": "2024-05-15T11:40:53.094032Z"
    }
   },
   "outputs": [
    {
     "data": {
      "text/html": [
       "<div><style>\n",
       ".dataframe > thead > tr,\n",
       ".dataframe > tbody > tr {\n",
       "  text-align: right;\n",
       "  white-space: pre-wrap;\n",
       "}\n",
       "</style>\n",
       "<small>shape: (2, 4)</small><table border=\"1\" class=\"dataframe\"><thead><tr><th>nrs</th><th>names</th><th>random</th><th>groups</th></tr><tr><td>i64</td><td>str</td><td>f64</td><td>str</td></tr></thead><tbody><tr><td>3</td><td>&quot;spam&quot;</td><td>0.1</td><td>&quot;B&quot;</td></tr><tr><td>1</td><td>&quot;foo&quot;</td><td>0.3</td><td>&quot;A&quot;</td></tr></tbody></table></div>"
      ],
      "text/plain": [
       "shape: (2, 4)\n",
       "┌─────┬───────┬────────┬────────┐\n",
       "│ nrs ┆ names ┆ random ┆ groups │\n",
       "│ --- ┆ ---   ┆ ---    ┆ ---    │\n",
       "│ i64 ┆ str   ┆ f64    ┆ str    │\n",
       "╞═════╪═══════╪════════╪════════╡\n",
       "│ 3   ┆ spam  ┆ 0.1    ┆ B      │\n",
       "│ 1   ┆ foo   ┆ 0.3    ┆ A      │\n",
       "└─────┴───────┴────────┴────────┘"
      ]
     },
     "execution_count": 17,
     "metadata": {},
     "output_type": "execute_result"
    }
   ],
   "source": [
    "# Randomly select fraction of rows.\n",
    "df.sample(fraction=0.5)"
   ]
  },
  {
   "cell_type": "code",
   "execution_count": 18,
   "id": "7bd9a285",
   "metadata": {
    "execution": {
     "iopub.execute_input": "2024-05-15T11:40:53.097575Z",
     "iopub.status.busy": "2024-05-15T11:40:53.097173Z",
     "iopub.status.idle": "2024-05-15T11:40:53.102796Z",
     "shell.execute_reply": "2024-05-15T11:40:53.101959Z"
    }
   },
   "outputs": [
    {
     "data": {
      "text/html": [
       "<div><style>\n",
       ".dataframe > thead > tr,\n",
       ".dataframe > tbody > tr {\n",
       "  text-align: right;\n",
       "  white-space: pre-wrap;\n",
       "}\n",
       "</style>\n",
       "<small>shape: (2, 4)</small><table border=\"1\" class=\"dataframe\"><thead><tr><th>nrs</th><th>names</th><th>random</th><th>groups</th></tr><tr><td>i64</td><td>str</td><td>f64</td><td>str</td></tr></thead><tbody><tr><td>null</td><td>&quot;egg&quot;</td><td>0.9</td><td>&quot;C&quot;</td></tr><tr><td>5</td><td>null</td><td>0.6</td><td>&quot;B&quot;</td></tr></tbody></table></div>"
      ],
      "text/plain": [
       "shape: (2, 4)\n",
       "┌──────┬───────┬────────┬────────┐\n",
       "│ nrs  ┆ names ┆ random ┆ groups │\n",
       "│ ---  ┆ ---   ┆ ---    ┆ ---    │\n",
       "│ i64  ┆ str   ┆ f64    ┆ str    │\n",
       "╞══════╪═══════╪════════╪════════╡\n",
       "│ null ┆ egg   ┆ 0.9    ┆ C      │\n",
       "│ 5    ┆ null  ┆ 0.6    ┆ B      │\n",
       "└──────┴───────┴────────┴────────┘"
      ]
     },
     "execution_count": 18,
     "metadata": {},
     "output_type": "execute_result"
    }
   ],
   "source": [
    "# Randomly select n rows.\n",
    "df.sample(n=2)"
   ]
  },
  {
   "cell_type": "code",
   "execution_count": 19,
   "id": "041a1f0b",
   "metadata": {
    "execution": {
     "iopub.execute_input": "2024-05-15T11:40:53.105441Z",
     "iopub.status.busy": "2024-05-15T11:40:53.105234Z",
     "iopub.status.idle": "2024-05-15T11:40:53.110852Z",
     "shell.execute_reply": "2024-05-15T11:40:53.110029Z"
    }
   },
   "outputs": [
    {
     "data": {
      "text/html": [
       "<div><style>\n",
       ".dataframe > thead > tr,\n",
       ".dataframe > tbody > tr {\n",
       "  text-align: right;\n",
       "  white-space: pre-wrap;\n",
       "}\n",
       "</style>\n",
       "<small>shape: (2, 4)</small><table border=\"1\" class=\"dataframe\"><thead><tr><th>nrs</th><th>names</th><th>random</th><th>groups</th></tr><tr><td>i64</td><td>str</td><td>f64</td><td>str</td></tr></thead><tbody><tr><td>null</td><td>&quot;egg&quot;</td><td>0.9</td><td>&quot;C&quot;</td></tr><tr><td>5</td><td>null</td><td>0.6</td><td>&quot;B&quot;</td></tr></tbody></table></div>"
      ],
      "text/plain": [
       "shape: (2, 4)\n",
       "┌──────┬───────┬────────┬────────┐\n",
       "│ nrs  ┆ names ┆ random ┆ groups │\n",
       "│ ---  ┆ ---   ┆ ---    ┆ ---    │\n",
       "│ i64  ┆ str   ┆ f64    ┆ str    │\n",
       "╞══════╪═══════╪════════╪════════╡\n",
       "│ null ┆ egg   ┆ 0.9    ┆ C      │\n",
       "│ 5    ┆ null  ┆ 0.6    ┆ B      │\n",
       "└──────┴───────┴────────┴────────┘"
      ]
     },
     "execution_count": 19,
     "metadata": {},
     "output_type": "execute_result"
    }
   ],
   "source": [
    "# Select first n rows\n",
    "df.head(n=2)\n",
    "\n",
    "# Select last n rows.\n",
    "df.tail(n=2)"
   ]
  },
  {
   "cell_type": "markdown",
   "id": "34b8cea9",
   "metadata": {},
   "source": [
    "### Select rows and columns"
   ]
  },
  {
   "cell_type": "code",
   "execution_count": 20,
   "id": "cedaaa13",
   "metadata": {
    "execution": {
     "iopub.execute_input": "2024-05-15T11:40:53.113516Z",
     "iopub.status.busy": "2024-05-15T11:40:53.113218Z",
     "iopub.status.idle": "2024-05-15T11:40:53.118714Z",
     "shell.execute_reply": "2024-05-15T11:40:53.117877Z"
    }
   },
   "outputs": [
    {
     "data": {
      "text/html": [
       "<div><style>\n",
       ".dataframe > thead > tr,\n",
       ".dataframe > tbody > tr {\n",
       "  text-align: right;\n",
       "  white-space: pre-wrap;\n",
       "}\n",
       "</style>\n",
       "<small>shape: (2, 4)</small><table border=\"1\" class=\"dataframe\"><thead><tr><th>nrs</th><th>names</th><th>random</th><th>groups</th></tr><tr><td>i64</td><td>str</td><td>f64</td><td>str</td></tr></thead><tbody><tr><td>3</td><td>&quot;spam&quot;</td><td>0.1</td><td>&quot;B&quot;</td></tr><tr><td>null</td><td>&quot;egg&quot;</td><td>0.9</td><td>&quot;C&quot;</td></tr></tbody></table></div>"
      ],
      "text/plain": [
       "shape: (2, 4)\n",
       "┌──────┬───────┬────────┬────────┐\n",
       "│ nrs  ┆ names ┆ random ┆ groups │\n",
       "│ ---  ┆ ---   ┆ ---    ┆ ---    │\n",
       "│ i64  ┆ str   ┆ f64    ┆ str    │\n",
       "╞══════╪═══════╪════════╪════════╡\n",
       "│ 3    ┆ spam  ┆ 0.1    ┆ B      │\n",
       "│ null ┆ egg   ┆ 0.9    ┆ C      │\n",
       "└──────┴───────┴────────┴────────┘"
      ]
     },
     "execution_count": 20,
     "metadata": {},
     "output_type": "execute_result"
    }
   ],
   "source": [
    "# Select rows 2-4\n",
    "df[2:4, :]"
   ]
  },
  {
   "cell_type": "code",
   "execution_count": 21,
   "id": "dd3cdb29",
   "metadata": {
    "execution": {
     "iopub.execute_input": "2024-05-15T11:40:53.121257Z",
     "iopub.status.busy": "2024-05-15T11:40:53.121046Z",
     "iopub.status.idle": "2024-05-15T11:40:53.126726Z",
     "shell.execute_reply": "2024-05-15T11:40:53.125880Z"
    }
   },
   "outputs": [
    {
     "data": {
      "text/html": [
       "<div><style>\n",
       ".dataframe > thead > tr,\n",
       ".dataframe > tbody > tr {\n",
       "  text-align: right;\n",
       "  white-space: pre-wrap;\n",
       "}\n",
       "</style>\n",
       "<small>shape: (5, 2)</small><table border=\"1\" class=\"dataframe\"><thead><tr><th>names</th><th>groups</th></tr><tr><td>str</td><td>str</td></tr></thead><tbody><tr><td>&quot;foo&quot;</td><td>&quot;A&quot;</td></tr><tr><td>&quot;ham&quot;</td><td>&quot;A&quot;</td></tr><tr><td>&quot;spam&quot;</td><td>&quot;B&quot;</td></tr><tr><td>&quot;egg&quot;</td><td>&quot;C&quot;</td></tr><tr><td>null</td><td>&quot;B&quot;</td></tr></tbody></table></div>"
      ],
      "text/plain": [
       "shape: (5, 2)\n",
       "┌───────┬────────┐\n",
       "│ names ┆ groups │\n",
       "│ ---   ┆ ---    │\n",
       "│ str   ┆ str    │\n",
       "╞═══════╪════════╡\n",
       "│ foo   ┆ A      │\n",
       "│ ham   ┆ A      │\n",
       "│ spam  ┆ B      │\n",
       "│ egg   ┆ C      │\n",
       "│ null  ┆ B      │\n",
       "└───────┴────────┘"
      ]
     },
     "execution_count": 21,
     "metadata": {},
     "output_type": "execute_result"
    }
   ],
   "source": [
    "# Select columns in positions 1 and 3 (first column is 0).\n",
    "df[:, [1, 3]]"
   ]
  },
  {
   "cell_type": "code",
   "execution_count": 22,
   "id": "9e1e997c",
   "metadata": {
    "execution": {
     "iopub.execute_input": "2024-05-15T11:40:53.129378Z",
     "iopub.status.busy": "2024-05-15T11:40:53.129166Z",
     "iopub.status.idle": "2024-05-15T11:40:53.135084Z",
     "shell.execute_reply": "2024-05-15T11:40:53.134250Z"
    }
   },
   "outputs": [
    {
     "data": {
      "text/html": [
       "<div><style>\n",
       ".dataframe > thead > tr,\n",
       ".dataframe > tbody > tr {\n",
       "  text-align: right;\n",
       "  white-space: pre-wrap;\n",
       "}\n",
       "</style>\n",
       "<small>shape: (3, 2)</small><table border=\"1\" class=\"dataframe\"><thead><tr><th>names</th><th>groups</th></tr><tr><td>str</td><td>str</td></tr></thead><tbody><tr><td>&quot;ham&quot;</td><td>&quot;A&quot;</td></tr><tr><td>&quot;egg&quot;</td><td>&quot;C&quot;</td></tr><tr><td>null</td><td>&quot;B&quot;</td></tr></tbody></table></div>"
      ],
      "text/plain": [
       "shape: (3, 2)\n",
       "┌───────┬────────┐\n",
       "│ names ┆ groups │\n",
       "│ ---   ┆ ---    │\n",
       "│ str   ┆ str    │\n",
       "╞═══════╪════════╡\n",
       "│ ham   ┆ A      │\n",
       "│ egg   ┆ C      │\n",
       "│ null  ┆ B      │\n",
       "└───────┴────────┘"
      ]
     },
     "execution_count": 22,
     "metadata": {},
     "output_type": "execute_result"
    }
   ],
   "source": [
    "# Select rows meeting logical condition, and only the specific columns.\n",
    "(df.filter(pl.col(\"random\") > 0.5).select(\"names\", \"groups\"))"
   ]
  },
  {
   "cell_type": "code",
   "execution_count": 23,
   "id": "9449e2cd",
   "metadata": {
    "execution": {
     "iopub.execute_input": "2024-05-15T11:40:53.137840Z",
     "iopub.status.busy": "2024-05-15T11:40:53.137638Z",
     "iopub.status.idle": "2024-05-15T11:40:53.143823Z",
     "shell.execute_reply": "2024-05-15T11:40:53.143014Z"
    }
   },
   "outputs": [
    {
     "name": "stdout",
     "output_type": "stream",
     "text": [
      "<class 'polars.series.series.Series'>\n"
     ]
    },
    {
     "data": {
      "text/html": [
       "<div><style>\n",
       ".dataframe > thead > tr,\n",
       ".dataframe > tbody > tr {\n",
       "  text-align: right;\n",
       "  white-space: pre-wrap;\n",
       "}\n",
       "</style>\n",
       "<small>shape: (5,)</small><table border=\"1\" class=\"dataframe\"><thead><tr><th>names</th></tr><tr><td>str</td></tr></thead><tbody><tr><td>&quot;foo&quot;</td></tr><tr><td>&quot;ham&quot;</td></tr><tr><td>&quot;spam&quot;</td></tr><tr><td>&quot;egg&quot;</td></tr><tr><td>null</td></tr></tbody></table></div>"
      ],
      "text/plain": [
       "shape: (5,)\n",
       "Series: 'names' [str]\n",
       "[\n",
       "\t\"foo\"\n",
       "\t\"ham\"\n",
       "\t\"spam\"\n",
       "\t\"egg\"\n",
       "\tnull\n",
       "]"
      ]
     },
     "execution_count": 23,
     "metadata": {},
     "output_type": "execute_result"
    }
   ],
   "source": [
    "# Select one columns as Series\n",
    "print(type(df[\"names\"]))\n",
    "df[\"names\"]"
   ]
  },
  {
   "cell_type": "markdown",
   "id": "ddfc65a3",
   "metadata": {},
   "source": [
    "### Sort rows - `sort()`"
   ]
  },
  {
   "cell_type": "code",
   "execution_count": 24,
   "id": "181a0591",
   "metadata": {
    "execution": {
     "iopub.execute_input": "2024-05-15T11:40:53.146649Z",
     "iopub.status.busy": "2024-05-15T11:40:53.146450Z",
     "iopub.status.idle": "2024-05-15T11:40:53.152270Z",
     "shell.execute_reply": "2024-05-15T11:40:53.151457Z"
    }
   },
   "outputs": [
    {
     "data": {
      "text/html": [
       "<div><style>\n",
       ".dataframe > thead > tr,\n",
       ".dataframe > tbody > tr {\n",
       "  text-align: right;\n",
       "  white-space: pre-wrap;\n",
       "}\n",
       "</style>\n",
       "<small>shape: (5, 4)</small><table border=\"1\" class=\"dataframe\"><thead><tr><th>nrs</th><th>names</th><th>random</th><th>groups</th></tr><tr><td>i64</td><td>str</td><td>f64</td><td>str</td></tr></thead><tbody><tr><td>null</td><td>&quot;egg&quot;</td><td>0.9</td><td>&quot;C&quot;</td></tr><tr><td>2</td><td>&quot;ham&quot;</td><td>0.7</td><td>&quot;A&quot;</td></tr><tr><td>5</td><td>null</td><td>0.6</td><td>&quot;B&quot;</td></tr><tr><td>1</td><td>&quot;foo&quot;</td><td>0.3</td><td>&quot;A&quot;</td></tr><tr><td>3</td><td>&quot;spam&quot;</td><td>0.1</td><td>&quot;B&quot;</td></tr></tbody></table></div>"
      ],
      "text/plain": [
       "shape: (5, 4)\n",
       "┌──────┬───────┬────────┬────────┐\n",
       "│ nrs  ┆ names ┆ random ┆ groups │\n",
       "│ ---  ┆ ---   ┆ ---    ┆ ---    │\n",
       "│ i64  ┆ str   ┆ f64    ┆ str    │\n",
       "╞══════╪═══════╪════════╪════════╡\n",
       "│ null ┆ egg   ┆ 0.9    ┆ C      │\n",
       "│ 2    ┆ ham   ┆ 0.7    ┆ A      │\n",
       "│ 5    ┆ null  ┆ 0.6    ┆ B      │\n",
       "│ 1    ┆ foo   ┆ 0.3    ┆ A      │\n",
       "│ 3    ┆ spam  ┆ 0.1    ┆ B      │\n",
       "└──────┴───────┴────────┴────────┘"
      ]
     },
     "execution_count": 24,
     "metadata": {},
     "output_type": "execute_result"
    }
   ],
   "source": [
    "# Order rows by values of a column (high to low)\n",
    "df.sort(\"random\", descending=True)"
   ]
  },
  {
   "cell_type": "code",
   "execution_count": 25,
   "id": "25b19b91",
   "metadata": {
    "execution": {
     "iopub.execute_input": "2024-05-15T11:40:53.155024Z",
     "iopub.status.busy": "2024-05-15T11:40:53.154809Z",
     "iopub.status.idle": "2024-05-15T11:40:53.160644Z",
     "shell.execute_reply": "2024-05-15T11:40:53.159844Z"
    }
   },
   "outputs": [
    {
     "data": {
      "text/html": [
       "<div><style>\n",
       ".dataframe > thead > tr,\n",
       ".dataframe > tbody > tr {\n",
       "  text-align: right;\n",
       "  white-space: pre-wrap;\n",
       "}\n",
       "</style>\n",
       "<small>shape: (5, 4)</small><table border=\"1\" class=\"dataframe\"><thead><tr><th>nrs</th><th>names</th><th>random</th><th>groups</th></tr><tr><td>i64</td><td>str</td><td>f64</td><td>str</td></tr></thead><tbody><tr><td>1</td><td>&quot;foo&quot;</td><td>0.3</td><td>&quot;A&quot;</td></tr><tr><td>2</td><td>&quot;ham&quot;</td><td>0.7</td><td>&quot;A&quot;</td></tr><tr><td>3</td><td>&quot;spam&quot;</td><td>0.1</td><td>&quot;B&quot;</td></tr><tr><td>5</td><td>null</td><td>0.6</td><td>&quot;B&quot;</td></tr><tr><td>null</td><td>&quot;egg&quot;</td><td>0.9</td><td>&quot;C&quot;</td></tr></tbody></table></div>"
      ],
      "text/plain": [
       "shape: (5, 4)\n",
       "┌──────┬───────┬────────┬────────┐\n",
       "│ nrs  ┆ names ┆ random ┆ groups │\n",
       "│ ---  ┆ ---   ┆ ---    ┆ ---    │\n",
       "│ i64  ┆ str   ┆ f64    ┆ str    │\n",
       "╞══════╪═══════╪════════╪════════╡\n",
       "│ 1    ┆ foo   ┆ 0.3    ┆ A      │\n",
       "│ 2    ┆ ham   ┆ 0.7    ┆ A      │\n",
       "│ 3    ┆ spam  ┆ 0.1    ┆ B      │\n",
       "│ 5    ┆ null  ┆ 0.6    ┆ B      │\n",
       "│ null ┆ egg   ┆ 0.9    ┆ C      │\n",
       "└──────┴───────┴────────┴────────┘"
      ]
     },
     "execution_count": 25,
     "metadata": {},
     "output_type": "execute_result"
    }
   ],
   "source": [
    "# Order by multiple rows\n",
    "df.sort(\"groups\", \"random\")"
   ]
  },
  {
   "cell_type": "markdown",
   "id": "b16edacb",
   "metadata": {},
   "source": [
    "### Summarize Data"
   ]
  },
  {
   "cell_type": "code",
   "execution_count": 26,
   "id": "1dc1a74b",
   "metadata": {
    "execution": {
     "iopub.execute_input": "2024-05-15T11:40:53.164248Z",
     "iopub.status.busy": "2024-05-15T11:40:53.164039Z",
     "iopub.status.idle": "2024-05-15T11:40:53.169052Z",
     "shell.execute_reply": "2024-05-15T11:40:53.168246Z"
    }
   },
   "outputs": [
    {
     "data": {
      "text/plain": [
       "(5, 4)"
      ]
     },
     "execution_count": 26,
     "metadata": {},
     "output_type": "execute_result"
    }
   ],
   "source": [
    "# Tuple of # of rows, # of columns in DataFrame\n",
    "df.shape"
   ]
  },
  {
   "cell_type": "code",
   "execution_count": 27,
   "id": "9e1cadf6",
   "metadata": {
    "execution": {
     "iopub.execute_input": "2024-05-15T11:40:53.172664Z",
     "iopub.status.busy": "2024-05-15T11:40:53.172456Z",
     "iopub.status.idle": "2024-05-15T11:40:53.177498Z",
     "shell.execute_reply": "2024-05-15T11:40:53.176698Z"
    }
   },
   "outputs": [
    {
     "data": {
      "text/plain": [
       "5"
      ]
     },
     "execution_count": 27,
     "metadata": {},
     "output_type": "execute_result"
    }
   ],
   "source": [
    "# number of rows in DataFrame\n",
    "len(df)\n",
    "df.height"
   ]
  },
  {
   "cell_type": "code",
   "execution_count": 28,
   "id": "552a95c3",
   "metadata": {
    "execution": {
     "iopub.execute_input": "2024-05-15T11:40:53.181034Z",
     "iopub.status.busy": "2024-05-15T11:40:53.180828Z",
     "iopub.status.idle": "2024-05-15T11:40:53.185615Z",
     "shell.execute_reply": "2024-05-15T11:40:53.184911Z"
    }
   },
   "outputs": [
    {
     "data": {
      "text/plain": [
       "4"
      ]
     },
     "execution_count": 28,
     "metadata": {},
     "output_type": "execute_result"
    }
   ],
   "source": [
    "# number of cols in DataFrame\n",
    "df.width"
   ]
  },
  {
   "cell_type": "code",
   "execution_count": 29,
   "id": "edb908fc",
   "metadata": {
    "execution": {
     "iopub.execute_input": "2024-05-15T11:40:53.189046Z",
     "iopub.status.busy": "2024-05-15T11:40:53.188844Z",
     "iopub.status.idle": "2024-05-15T11:40:53.194292Z",
     "shell.execute_reply": "2024-05-15T11:40:53.193483Z"
    }
   },
   "outputs": [
    {
     "data": {
      "text/html": [
       "<div><style>\n",
       ".dataframe > thead > tr,\n",
       ".dataframe > tbody > tr {\n",
       "  text-align: right;\n",
       "  white-space: pre-wrap;\n",
       "}\n",
       "</style>\n",
       "<small>shape: (3, 2)</small><table border=\"1\" class=\"dataframe\"><thead><tr><th>groups</th><th>count</th></tr><tr><td>str</td><td>u32</td></tr></thead><tbody><tr><td>&quot;A&quot;</td><td>2</td></tr><tr><td>&quot;C&quot;</td><td>1</td></tr><tr><td>&quot;B&quot;</td><td>2</td></tr></tbody></table></div>"
      ],
      "text/plain": [
       "shape: (3, 2)\n",
       "┌────────┬───────┐\n",
       "│ groups ┆ count │\n",
       "│ ---    ┆ ---   │\n",
       "│ str    ┆ u32   │\n",
       "╞════════╪═══════╡\n",
       "│ A      ┆ 2     │\n",
       "│ C      ┆ 1     │\n",
       "│ B      ┆ 2     │\n",
       "└────────┴───────┘"
      ]
     },
     "execution_count": 29,
     "metadata": {},
     "output_type": "execute_result"
    }
   ],
   "source": [
    "# Count number of rows with each unique value of variable\n",
    "df[\"groups\"].value_counts()"
   ]
  },
  {
   "cell_type": "code",
   "execution_count": 30,
   "id": "40718dd7",
   "metadata": {
    "execution": {
     "iopub.execute_input": "2024-05-15T11:40:53.197991Z",
     "iopub.status.busy": "2024-05-15T11:40:53.197773Z",
     "iopub.status.idle": "2024-05-15T11:40:53.202872Z",
     "shell.execute_reply": "2024-05-15T11:40:53.202059Z"
    }
   },
   "outputs": [
    {
     "data": {
      "text/plain": [
       "3"
      ]
     },
     "execution_count": 30,
     "metadata": {},
     "output_type": "execute_result"
    }
   ],
   "source": [
    "# # of distinct values in a column\n",
    "df[\"groups\"].n_unique()"
   ]
  },
  {
   "cell_type": "code",
   "execution_count": 31,
   "id": "d5578b83",
   "metadata": {
    "execution": {
     "iopub.execute_input": "2024-05-15T11:40:53.206389Z",
     "iopub.status.busy": "2024-05-15T11:40:53.206164Z",
     "iopub.status.idle": "2024-05-15T11:40:53.215824Z",
     "shell.execute_reply": "2024-05-15T11:40:53.214784Z"
    }
   },
   "outputs": [
    {
     "data": {
      "text/html": [
       "<div><style>\n",
       ".dataframe > thead > tr,\n",
       ".dataframe > tbody > tr {\n",
       "  text-align: right;\n",
       "  white-space: pre-wrap;\n",
       "}\n",
       "</style>\n",
       "<small>shape: (9, 5)</small><table border=\"1\" class=\"dataframe\"><thead><tr><th>statistic</th><th>nrs</th><th>names</th><th>random</th><th>groups</th></tr><tr><td>str</td><td>f64</td><td>str</td><td>f64</td><td>str</td></tr></thead><tbody><tr><td>&quot;count&quot;</td><td>4.0</td><td>&quot;4&quot;</td><td>5.0</td><td>&quot;5&quot;</td></tr><tr><td>&quot;null_count&quot;</td><td>1.0</td><td>&quot;1&quot;</td><td>0.0</td><td>&quot;0&quot;</td></tr><tr><td>&quot;mean&quot;</td><td>2.75</td><td>null</td><td>0.52</td><td>null</td></tr><tr><td>&quot;std&quot;</td><td>1.707825</td><td>null</td><td>0.319374</td><td>null</td></tr><tr><td>&quot;min&quot;</td><td>1.0</td><td>&quot;egg&quot;</td><td>0.1</td><td>&quot;A&quot;</td></tr><tr><td>&quot;25%&quot;</td><td>2.0</td><td>null</td><td>0.3</td><td>null</td></tr><tr><td>&quot;50%&quot;</td><td>3.0</td><td>null</td><td>0.6</td><td>null</td></tr><tr><td>&quot;75%&quot;</td><td>3.0</td><td>null</td><td>0.7</td><td>null</td></tr><tr><td>&quot;max&quot;</td><td>5.0</td><td>&quot;spam&quot;</td><td>0.9</td><td>&quot;C&quot;</td></tr></tbody></table></div>"
      ],
      "text/plain": [
       "shape: (9, 5)\n",
       "┌────────────┬──────────┬───────┬──────────┬────────┐\n",
       "│ statistic  ┆ nrs      ┆ names ┆ random   ┆ groups │\n",
       "│ ---        ┆ ---      ┆ ---   ┆ ---      ┆ ---    │\n",
       "│ str        ┆ f64      ┆ str   ┆ f64      ┆ str    │\n",
       "╞════════════╪══════════╪═══════╪══════════╪════════╡\n",
       "│ count      ┆ 4.0      ┆ 4     ┆ 5.0      ┆ 5      │\n",
       "│ null_count ┆ 1.0      ┆ 1     ┆ 0.0      ┆ 0      │\n",
       "│ mean       ┆ 2.75     ┆ null  ┆ 0.52     ┆ null   │\n",
       "│ std        ┆ 1.707825 ┆ null  ┆ 0.319374 ┆ null   │\n",
       "│ min        ┆ 1.0      ┆ egg   ┆ 0.1      ┆ A      │\n",
       "│ 25%        ┆ 2.0      ┆ null  ┆ 0.3      ┆ null   │\n",
       "│ 50%        ┆ 3.0      ┆ null  ┆ 0.6      ┆ null   │\n",
       "│ 75%        ┆ 3.0      ┆ null  ┆ 0.7      ┆ null   │\n",
       "│ max        ┆ 5.0      ┆ spam  ┆ 0.9      ┆ C      │\n",
       "└────────────┴──────────┴───────┴──────────┴────────┘"
      ]
     },
     "execution_count": 31,
     "metadata": {},
     "output_type": "execute_result"
    }
   ],
   "source": [
    "# Basic descriptive and statistics for each column\n",
    "df.describe()"
   ]
  },
  {
   "cell_type": "code",
   "execution_count": 32,
   "id": "5b33c50e",
   "metadata": {
    "execution": {
     "iopub.execute_input": "2024-05-15T11:40:53.220320Z",
     "iopub.status.busy": "2024-05-15T11:40:53.219911Z",
     "iopub.status.idle": "2024-05-15T11:40:53.233524Z",
     "shell.execute_reply": "2024-05-15T11:40:53.232397Z"
    }
   },
   "outputs": [
    {
     "data": {
      "text/html": [
       "<div><style>\n",
       ".dataframe > thead > tr,\n",
       ".dataframe > tbody > tr {\n",
       "  text-align: right;\n",
       "  white-space: pre-wrap;\n",
       "}\n",
       "</style>\n",
       "<small>shape: (1, 11)</small><table border=\"1\" class=\"dataframe\"><thead><tr><th>sum</th><th>min</th><th>max</th><th>other_max</th><th>std_dev</th><th>variance</th><th>median</th><th>mean</th><th>quantile_0.75</th><th>other_quantile_0.75</th><th>first</th></tr><tr><td>f64</td><td>f64</td><td>f64</td><td>f64</td><td>f64</td><td>f64</td><td>f64</td><td>f64</td><td>f64</td><td>f64</td><td>f64</td></tr></thead><tbody><tr><td>2.6</td><td>0.1</td><td>0.9</td><td>0.9</td><td>0.319374</td><td>0.102</td><td>0.6</td><td>0.52</td><td>0.7</td><td>0.7</td><td>0.3</td></tr></tbody></table></div>"
      ],
      "text/plain": [
       "shape: (1, 11)\n",
       "┌─────┬─────┬─────┬───────────┬───┬──────┬───────────────┬─────────────────────┬───────┐\n",
       "│ sum ┆ min ┆ max ┆ other_max ┆ … ┆ mean ┆ quantile_0.75 ┆ other_quantile_0.75 ┆ first │\n",
       "│ --- ┆ --- ┆ --- ┆ ---       ┆   ┆ ---  ┆ ---           ┆ ---                 ┆ ---   │\n",
       "│ f64 ┆ f64 ┆ f64 ┆ f64       ┆   ┆ f64  ┆ f64           ┆ f64                 ┆ f64   │\n",
       "╞═════╪═════╪═════╪═══════════╪═══╪══════╪═══════════════╪═════════════════════╪═══════╡\n",
       "│ 2.6 ┆ 0.1 ┆ 0.9 ┆ 0.9       ┆ … ┆ 0.52 ┆ 0.7           ┆ 0.7                 ┆ 0.3   │\n",
       "└─────┴─────┴─────┴───────────┴───┴──────┴───────────────┴─────────────────────┴───────┘"
      ]
     },
     "execution_count": 32,
     "metadata": {},
     "output_type": "execute_result"
    }
   ],
   "source": [
    "# Aggregation functions\n",
    "df.select(\n",
    "    # Sum values\n",
    "    pl.sum(\"random\").alias(\"sum\"),\n",
    "    # Minimum value\n",
    "    pl.min(\"random\").alias(\"min\"),\n",
    "    # Maximum value\n",
    "    pl.max(\"random\").alias(\"max\"),\n",
    "    # or\n",
    "    pl.col(\"random\").max().alias(\"other_max\"),\n",
    "    # Standard deviation\n",
    "    pl.std(\"random\").alias(\"std_dev\"),\n",
    "    # Variance\n",
    "    pl.var(\"random\").alias(\"variance\"),\n",
    "    # Median\n",
    "    pl.median(\"random\").alias(\"median\"),\n",
    "    # Mean\n",
    "    pl.mean(\"random\").alias(\"mean\"),\n",
    "    # Quantile\n",
    "    pl.quantile(\"random\", 0.75).alias(\"quantile_0.75\"),\n",
    "    # or\n",
    "    pl.col(\"random\").quantile(0.75).alias(\"other_quantile_0.75\"),\n",
    "    # First value\n",
    "    pl.first(\"random\").alias(\"first\"),\n",
    ")"
   ]
  },
  {
   "cell_type": "markdown",
   "id": "ea95d664",
   "metadata": {},
   "source": [
    "### Group And Aggregate Data - `group_by()` and `agg()`"
   ]
  },
  {
   "cell_type": "code",
   "execution_count": 33,
   "id": "c61ae193",
   "metadata": {
    "execution": {
     "iopub.execute_input": "2024-05-15T11:40:53.238422Z",
     "iopub.status.busy": "2024-05-15T11:40:53.238006Z",
     "iopub.status.idle": "2024-05-15T11:40:53.244752Z",
     "shell.execute_reply": "2024-05-15T11:40:53.243757Z"
    }
   },
   "outputs": [
    {
     "data": {
      "text/plain": [
       "<polars.dataframe.group_by.GroupBy at 0x76415b517310>"
      ]
     },
     "execution_count": 33,
     "metadata": {},
     "output_type": "execute_result"
    }
   ],
   "source": [
    "# Group by values in column named \"col\", returning a GroupBy object\n",
    "df.group_by(\"groups\")"
   ]
  },
  {
   "cell_type": "code",
   "execution_count": 34,
   "id": "2aad4543",
   "metadata": {
    "execution": {
     "iopub.execute_input": "2024-05-15T11:40:53.249307Z",
     "iopub.status.busy": "2024-05-15T11:40:53.248918Z",
     "iopub.status.idle": "2024-05-15T11:40:53.262459Z",
     "shell.execute_reply": "2024-05-15T11:40:53.261450Z"
    }
   },
   "outputs": [
    {
     "data": {
      "text/html": [
       "<div><style>\n",
       ".dataframe > thead > tr,\n",
       ".dataframe > tbody > tr {\n",
       "  text-align: right;\n",
       "  white-space: pre-wrap;\n",
       "}\n",
       "</style>\n",
       "<small>shape: (3, 12)</small><table border=\"1\" class=\"dataframe\"><thead><tr><th>groups</th><th>sum</th><th>min</th><th>max</th><th>other_max</th><th>std_dev</th><th>variance</th><th>median</th><th>mean</th><th>quantile_0.75</th><th>other_quantile_0.75</th><th>first</th></tr><tr><td>str</td><td>f64</td><td>f64</td><td>f64</td><td>f64</td><td>f64</td><td>f64</td><td>f64</td><td>f64</td><td>f64</td><td>f64</td><td>f64</td></tr></thead><tbody><tr><td>&quot;B&quot;</td><td>0.7</td><td>0.1</td><td>0.6</td><td>0.6</td><td>0.353553</td><td>0.125</td><td>0.35</td><td>0.35</td><td>0.6</td><td>0.6</td><td>0.1</td></tr><tr><td>&quot;A&quot;</td><td>1.0</td><td>0.3</td><td>0.7</td><td>0.7</td><td>0.282843</td><td>0.08</td><td>0.5</td><td>0.5</td><td>0.7</td><td>0.7</td><td>0.3</td></tr><tr><td>&quot;C&quot;</td><td>0.9</td><td>0.9</td><td>0.9</td><td>0.9</td><td>null</td><td>null</td><td>0.9</td><td>0.9</td><td>0.9</td><td>0.9</td><td>0.9</td></tr></tbody></table></div>"
      ],
      "text/plain": [
       "shape: (3, 12)\n",
       "┌────────┬─────┬─────┬─────┬───┬──────┬───────────────┬─────────────────────┬───────┐\n",
       "│ groups ┆ sum ┆ min ┆ max ┆ … ┆ mean ┆ quantile_0.75 ┆ other_quantile_0.75 ┆ first │\n",
       "│ ---    ┆ --- ┆ --- ┆ --- ┆   ┆ ---  ┆ ---           ┆ ---                 ┆ ---   │\n",
       "│ str    ┆ f64 ┆ f64 ┆ f64 ┆   ┆ f64  ┆ f64           ┆ f64                 ┆ f64   │\n",
       "╞════════╪═════╪═════╪═════╪═══╪══════╪═══════════════╪═════════════════════╪═══════╡\n",
       "│ B      ┆ 0.7 ┆ 0.1 ┆ 0.6 ┆ … ┆ 0.35 ┆ 0.6           ┆ 0.6                 ┆ 0.1   │\n",
       "│ A      ┆ 1.0 ┆ 0.3 ┆ 0.7 ┆ … ┆ 0.5  ┆ 0.7           ┆ 0.7                 ┆ 0.3   │\n",
       "│ C      ┆ 0.9 ┆ 0.9 ┆ 0.9 ┆ … ┆ 0.9  ┆ 0.9           ┆ 0.9                 ┆ 0.9   │\n",
       "└────────┴─────┴─────┴─────┴───┴──────┴───────────────┴─────────────────────┴───────┘"
      ]
     },
     "execution_count": 34,
     "metadata": {},
     "output_type": "execute_result"
    }
   ],
   "source": [
    "# All of the aggregation functions from above can be applied to a group as well\n",
    "df.group_by(\"groups\").agg(\n",
    "    # Sum values\n",
    "    pl.sum(\"random\").alias(\"sum\"),\n",
    "    # Minimum value\n",
    "    pl.min(\"random\").alias(\"min\"),\n",
    "    # Maximum value\n",
    "    pl.max(\"random\").alias(\"max\"),\n",
    "    # or\n",
    "    pl.col(\"random\").max().alias(\"other_max\"),\n",
    "    # Standard deviation\n",
    "    pl.std(\"random\").alias(\"std_dev\"),\n",
    "    # Variance\n",
    "    pl.var(\"random\").alias(\"variance\"),\n",
    "    # Median\n",
    "    pl.median(\"random\").alias(\"median\"),\n",
    "    # Mean\n",
    "    pl.mean(\"random\").alias(\"mean\"),\n",
    "    # Quantile\n",
    "    pl.quantile(\"random\", 0.75).alias(\"quantile_0.75\"),\n",
    "    # or\n",
    "    pl.col(\"random\").quantile(0.75).alias(\"other_quantile_0.75\"),\n",
    "    # First value\n",
    "    pl.first(\"random\").alias(\"first\"),\n",
    ")"
   ]
  },
  {
   "cell_type": "code",
   "execution_count": 35,
   "id": "731149a9",
   "metadata": {
    "execution": {
     "iopub.execute_input": "2024-05-15T11:40:53.267018Z",
     "iopub.status.busy": "2024-05-15T11:40:53.266207Z",
     "iopub.status.idle": "2024-05-15T11:40:53.280574Z",
     "shell.execute_reply": "2024-05-15T11:40:53.279599Z"
    }
   },
   "outputs": [
    {
     "data": {
      "text/html": [
       "<div><style>\n",
       ".dataframe > thead > tr,\n",
       ".dataframe > tbody > tr {\n",
       "  text-align: right;\n",
       "  white-space: pre-wrap;\n",
       "}\n",
       "</style>\n",
       "<small>shape: (3, 3)</small><table border=\"1\" class=\"dataframe\"><thead><tr><th>groups</th><th>size</th><th>names</th></tr><tr><td>str</td><td>u32</td><td>str</td></tr></thead><tbody><tr><td>&quot;B&quot;</td><td>2</td><td>&quot;spam&quot;</td></tr><tr><td>&quot;C&quot;</td><td>1</td><td>&quot;egg&quot;</td></tr><tr><td>&quot;A&quot;</td><td>2</td><td>&quot;ham&quot;</td></tr></tbody></table></div>"
      ],
      "text/plain": [
       "shape: (3, 3)\n",
       "┌────────┬──────┬───────┐\n",
       "│ groups ┆ size ┆ names │\n",
       "│ ---    ┆ ---  ┆ ---   │\n",
       "│ str    ┆ u32  ┆ str   │\n",
       "╞════════╪══════╪═══════╡\n",
       "│ B      ┆ 2    ┆ spam  │\n",
       "│ C      ┆ 1    ┆ egg   │\n",
       "│ A      ┆ 2    ┆ ham   │\n",
       "└────────┴──────┴───────┘"
      ]
     },
     "execution_count": 35,
     "metadata": {},
     "output_type": "execute_result"
    }
   ],
   "source": [
    "# Additional GroupBy functions\n",
    "(\n",
    "    df.group_by(\"groups\").agg(\n",
    "        # Count the number of values in each group\n",
    "        pl.count(\"random\").alias(\"size\"),\n",
    "        # Sample one element in each group\n",
    "        # (favour `map_elements` over `apply`)\n",
    "        pl.col(\"names\").map_elements(\n",
    "            lambda group_df: group_df.sample(1).item(0), return_dtype=pl.String\n",
    "        ),\n",
    "    )\n",
    ")"
   ]
  },
  {
   "cell_type": "code",
   "execution_count": 36,
   "id": "5e3a0aed",
   "metadata": {
    "execution": {
     "iopub.execute_input": "2024-05-15T11:40:53.284569Z",
     "iopub.status.busy": "2024-05-15T11:40:53.284182Z",
     "iopub.status.idle": "2024-05-15T11:40:53.292176Z",
     "shell.execute_reply": "2024-05-15T11:40:53.291322Z"
    }
   },
   "outputs": [
    {
     "data": {
      "text/html": [
       "<div><style>\n",
       ".dataframe > thead > tr,\n",
       ".dataframe > tbody > tr {\n",
       "  text-align: right;\n",
       "  white-space: pre-wrap;\n",
       "}\n",
       "</style>\n",
       "<small>shape: (3, 2)</small><table border=\"1\" class=\"dataframe\"><thead><tr><th>groups</th><th>foo</th></tr><tr><td>str</td><td>list[str]</td></tr></thead><tbody><tr><td>&quot;C&quot;</td><td>[&quot;egg&quot;]</td></tr><tr><td>&quot;A&quot;</td><td>[&quot;ham&quot;]</td></tr><tr><td>&quot;B&quot;</td><td>[&quot;spam&quot;]</td></tr></tbody></table></div>"
      ],
      "text/plain": [
       "shape: (3, 2)\n",
       "┌────────┬───────────┐\n",
       "│ groups ┆ foo       │\n",
       "│ ---    ┆ ---       │\n",
       "│ str    ┆ list[str] │\n",
       "╞════════╪═══════════╡\n",
       "│ C      ┆ [\"egg\"]   │\n",
       "│ A      ┆ [\"ham\"]   │\n",
       "│ B      ┆ [\"spam\"]  │\n",
       "└────────┴───────────┘"
      ]
     },
     "execution_count": 36,
     "metadata": {},
     "output_type": "execute_result"
    }
   ],
   "source": [
    "(df.group_by(\"groups\").agg(pl.col(\"names\").sample(1).alias(\"foo\")))"
   ]
  },
  {
   "cell_type": "markdown",
   "id": "8a9f5c73",
   "metadata": {},
   "source": [
    "### Reshaping Data – Change Layout and Renaming"
   ]
  },
  {
   "cell_type": "code",
   "execution_count": 37,
   "id": "11dfc173",
   "metadata": {
    "execution": {
     "iopub.execute_input": "2024-05-15T11:40:53.295734Z",
     "iopub.status.busy": "2024-05-15T11:40:53.295557Z",
     "iopub.status.idle": "2024-05-15T11:40:53.301358Z",
     "shell.execute_reply": "2024-05-15T11:40:53.300549Z"
    }
   },
   "outputs": [
    {
     "data": {
      "text/html": [
       "<div><style>\n",
       ".dataframe > thead > tr,\n",
       ".dataframe > tbody > tr {\n",
       "  text-align: right;\n",
       "  white-space: pre-wrap;\n",
       "}\n",
       "</style>\n",
       "<small>shape: (5, 4)</small><table border=\"1\" class=\"dataframe\"><thead><tr><th>idx</th><th>names</th><th>random</th><th>groups</th></tr><tr><td>i64</td><td>str</td><td>f64</td><td>str</td></tr></thead><tbody><tr><td>1</td><td>&quot;foo&quot;</td><td>0.3</td><td>&quot;A&quot;</td></tr><tr><td>2</td><td>&quot;ham&quot;</td><td>0.7</td><td>&quot;A&quot;</td></tr><tr><td>3</td><td>&quot;spam&quot;</td><td>0.1</td><td>&quot;B&quot;</td></tr><tr><td>null</td><td>&quot;egg&quot;</td><td>0.9</td><td>&quot;C&quot;</td></tr><tr><td>5</td><td>null</td><td>0.6</td><td>&quot;B&quot;</td></tr></tbody></table></div>"
      ],
      "text/plain": [
       "shape: (5, 4)\n",
       "┌──────┬───────┬────────┬────────┐\n",
       "│ idx  ┆ names ┆ random ┆ groups │\n",
       "│ ---  ┆ ---   ┆ ---    ┆ ---    │\n",
       "│ i64  ┆ str   ┆ f64    ┆ str    │\n",
       "╞══════╪═══════╪════════╪════════╡\n",
       "│ 1    ┆ foo   ┆ 0.3    ┆ A      │\n",
       "│ 2    ┆ ham   ┆ 0.7    ┆ A      │\n",
       "│ 3    ┆ spam  ┆ 0.1    ┆ B      │\n",
       "│ null ┆ egg   ┆ 0.9    ┆ C      │\n",
       "│ 5    ┆ null  ┆ 0.6    ┆ B      │\n",
       "└──────┴───────┴────────┴────────┘"
      ]
     },
     "execution_count": 37,
     "metadata": {},
     "output_type": "execute_result"
    }
   ],
   "source": [
    "# Rename the columns of a DataFrame\n",
    "df.rename({\"nrs\": \"idx\"})"
   ]
  },
  {
   "cell_type": "code",
   "execution_count": 38,
   "id": "eab249ae",
   "metadata": {
    "execution": {
     "iopub.execute_input": "2024-05-15T11:40:53.305292Z",
     "iopub.status.busy": "2024-05-15T11:40:53.305119Z",
     "iopub.status.idle": "2024-05-15T11:40:53.311241Z",
     "shell.execute_reply": "2024-05-15T11:40:53.310197Z"
    }
   },
   "outputs": [
    {
     "data": {
      "text/html": [
       "<div><style>\n",
       ".dataframe > thead > tr,\n",
       ".dataframe > tbody > tr {\n",
       "  text-align: right;\n",
       "  white-space: pre-wrap;\n",
       "}\n",
       "</style>\n",
       "<small>shape: (5, 2)</small><table border=\"1\" class=\"dataframe\"><thead><tr><th>nrs</th><th>groups</th></tr><tr><td>i64</td><td>str</td></tr></thead><tbody><tr><td>1</td><td>&quot;A&quot;</td></tr><tr><td>2</td><td>&quot;A&quot;</td></tr><tr><td>3</td><td>&quot;B&quot;</td></tr><tr><td>null</td><td>&quot;C&quot;</td></tr><tr><td>5</td><td>&quot;B&quot;</td></tr></tbody></table></div>"
      ],
      "text/plain": [
       "shape: (5, 2)\n",
       "┌──────┬────────┐\n",
       "│ nrs  ┆ groups │\n",
       "│ ---  ┆ ---    │\n",
       "│ i64  ┆ str    │\n",
       "╞══════╪════════╡\n",
       "│ 1    ┆ A      │\n",
       "│ 2    ┆ A      │\n",
       "│ 3    ┆ B      │\n",
       "│ null ┆ C      │\n",
       "│ 5    ┆ B      │\n",
       "└──────┴────────┘"
      ]
     },
     "execution_count": 38,
     "metadata": {},
     "output_type": "execute_result"
    }
   ],
   "source": [
    "# Drop columns from DataFrame\n",
    "df.drop([\"names\", \"random\"])"
   ]
  },
  {
   "cell_type": "code",
   "execution_count": 39,
   "id": "a5c7d061",
   "metadata": {
    "execution": {
     "iopub.execute_input": "2024-05-15T11:40:53.315551Z",
     "iopub.status.busy": "2024-05-15T11:40:53.315156Z",
     "iopub.status.idle": "2024-05-15T11:40:53.321809Z",
     "shell.execute_reply": "2024-05-15T11:40:53.320781Z"
    }
   },
   "outputs": [],
   "source": [
    "df2 = pl.DataFrame(\n",
    "    {\n",
    "        \"nrs\": [6],\n",
    "        \"names\": [\"wow\"],\n",
    "        \"random\": [0.9],\n",
    "        \"groups\": [\"B\"],\n",
    "    }\n",
    ")\n",
    "\n",
    "df3 = pl.DataFrame(\n",
    "    {\n",
    "        \"primes\": [2, 3, 5, 7, 11],\n",
    "    }\n",
    ")"
   ]
  },
  {
   "cell_type": "code",
   "execution_count": 40,
   "id": "6f1a1c20",
   "metadata": {
    "execution": {
     "iopub.execute_input": "2024-05-15T11:40:53.326409Z",
     "iopub.status.busy": "2024-05-15T11:40:53.325781Z",
     "iopub.status.idle": "2024-05-15T11:40:53.333335Z",
     "shell.execute_reply": "2024-05-15T11:40:53.332359Z"
    }
   },
   "outputs": [
    {
     "data": {
      "text/html": [
       "<div><style>\n",
       ".dataframe > thead > tr,\n",
       ".dataframe > tbody > tr {\n",
       "  text-align: right;\n",
       "  white-space: pre-wrap;\n",
       "}\n",
       "</style>\n",
       "<small>shape: (6, 4)</small><table border=\"1\" class=\"dataframe\"><thead><tr><th>nrs</th><th>names</th><th>random</th><th>groups</th></tr><tr><td>i64</td><td>str</td><td>f64</td><td>str</td></tr></thead><tbody><tr><td>1</td><td>&quot;foo&quot;</td><td>0.3</td><td>&quot;A&quot;</td></tr><tr><td>2</td><td>&quot;ham&quot;</td><td>0.7</td><td>&quot;A&quot;</td></tr><tr><td>3</td><td>&quot;spam&quot;</td><td>0.1</td><td>&quot;B&quot;</td></tr><tr><td>null</td><td>&quot;egg&quot;</td><td>0.9</td><td>&quot;C&quot;</td></tr><tr><td>5</td><td>null</td><td>0.6</td><td>&quot;B&quot;</td></tr><tr><td>6</td><td>&quot;wow&quot;</td><td>0.9</td><td>&quot;B&quot;</td></tr></tbody></table></div>"
      ],
      "text/plain": [
       "shape: (6, 4)\n",
       "┌──────┬───────┬────────┬────────┐\n",
       "│ nrs  ┆ names ┆ random ┆ groups │\n",
       "│ ---  ┆ ---   ┆ ---    ┆ ---    │\n",
       "│ i64  ┆ str   ┆ f64    ┆ str    │\n",
       "╞══════╪═══════╪════════╪════════╡\n",
       "│ 1    ┆ foo   ┆ 0.3    ┆ A      │\n",
       "│ 2    ┆ ham   ┆ 0.7    ┆ A      │\n",
       "│ 3    ┆ spam  ┆ 0.1    ┆ B      │\n",
       "│ null ┆ egg   ┆ 0.9    ┆ C      │\n",
       "│ 5    ┆ null  ┆ 0.6    ┆ B      │\n",
       "│ 6    ┆ wow   ┆ 0.9    ┆ B      │\n",
       "└──────┴───────┴────────┴────────┘"
      ]
     },
     "execution_count": 40,
     "metadata": {},
     "output_type": "execute_result"
    }
   ],
   "source": [
    "# Append rows of DataFrames.\n",
    "pl.concat([df, df2])"
   ]
  },
  {
   "cell_type": "code",
   "execution_count": 41,
   "id": "feb42390",
   "metadata": {
    "execution": {
     "iopub.execute_input": "2024-05-15T11:40:53.337613Z",
     "iopub.status.busy": "2024-05-15T11:40:53.336991Z",
     "iopub.status.idle": "2024-05-15T11:40:53.344663Z",
     "shell.execute_reply": "2024-05-15T11:40:53.343679Z"
    }
   },
   "outputs": [
    {
     "data": {
      "text/html": [
       "<div><style>\n",
       ".dataframe > thead > tr,\n",
       ".dataframe > tbody > tr {\n",
       "  text-align: right;\n",
       "  white-space: pre-wrap;\n",
       "}\n",
       "</style>\n",
       "<small>shape: (5, 5)</small><table border=\"1\" class=\"dataframe\"><thead><tr><th>nrs</th><th>names</th><th>random</th><th>groups</th><th>primes</th></tr><tr><td>i64</td><td>str</td><td>f64</td><td>str</td><td>i64</td></tr></thead><tbody><tr><td>1</td><td>&quot;foo&quot;</td><td>0.3</td><td>&quot;A&quot;</td><td>2</td></tr><tr><td>2</td><td>&quot;ham&quot;</td><td>0.7</td><td>&quot;A&quot;</td><td>3</td></tr><tr><td>3</td><td>&quot;spam&quot;</td><td>0.1</td><td>&quot;B&quot;</td><td>5</td></tr><tr><td>null</td><td>&quot;egg&quot;</td><td>0.9</td><td>&quot;C&quot;</td><td>7</td></tr><tr><td>5</td><td>null</td><td>0.6</td><td>&quot;B&quot;</td><td>11</td></tr></tbody></table></div>"
      ],
      "text/plain": [
       "shape: (5, 5)\n",
       "┌──────┬───────┬────────┬────────┬────────┐\n",
       "│ nrs  ┆ names ┆ random ┆ groups ┆ primes │\n",
       "│ ---  ┆ ---   ┆ ---    ┆ ---    ┆ ---    │\n",
       "│ i64  ┆ str   ┆ f64    ┆ str    ┆ i64    │\n",
       "╞══════╪═══════╪════════╪════════╪════════╡\n",
       "│ 1    ┆ foo   ┆ 0.3    ┆ A      ┆ 2      │\n",
       "│ 2    ┆ ham   ┆ 0.7    ┆ A      ┆ 3      │\n",
       "│ 3    ┆ spam  ┆ 0.1    ┆ B      ┆ 5      │\n",
       "│ null ┆ egg   ┆ 0.9    ┆ C      ┆ 7      │\n",
       "│ 5    ┆ null  ┆ 0.6    ┆ B      ┆ 11     │\n",
       "└──────┴───────┴────────┴────────┴────────┘"
      ]
     },
     "execution_count": 41,
     "metadata": {},
     "output_type": "execute_result"
    }
   ],
   "source": [
    "# Append columns of DataFrames\n",
    "pl.concat([df, df3], how=\"horizontal\")"
   ]
  },
  {
   "cell_type": "code",
   "execution_count": 42,
   "id": "e3f5c89a",
   "metadata": {
    "execution": {
     "iopub.execute_input": "2024-05-15T11:40:53.348823Z",
     "iopub.status.busy": "2024-05-15T11:40:53.348432Z",
     "iopub.status.idle": "2024-05-15T11:40:53.356470Z",
     "shell.execute_reply": "2024-05-15T11:40:53.355495Z"
    }
   },
   "outputs": [
    {
     "data": {
      "text/html": [
       "<div><style>\n",
       ".dataframe > thead > tr,\n",
       ".dataframe > tbody > tr {\n",
       "  text-align: right;\n",
       "  white-space: pre-wrap;\n",
       "}\n",
       "</style>\n",
       "<small>shape: (10, 3)</small><table border=\"1\" class=\"dataframe\"><thead><tr><th>nrs</th><th>variable</th><th>value</th></tr><tr><td>i64</td><td>str</td><td>str</td></tr></thead><tbody><tr><td>1</td><td>&quot;names&quot;</td><td>&quot;foo&quot;</td></tr><tr><td>2</td><td>&quot;names&quot;</td><td>&quot;ham&quot;</td></tr><tr><td>3</td><td>&quot;names&quot;</td><td>&quot;spam&quot;</td></tr><tr><td>null</td><td>&quot;names&quot;</td><td>&quot;egg&quot;</td></tr><tr><td>5</td><td>&quot;names&quot;</td><td>null</td></tr><tr><td>1</td><td>&quot;groups&quot;</td><td>&quot;A&quot;</td></tr><tr><td>2</td><td>&quot;groups&quot;</td><td>&quot;A&quot;</td></tr><tr><td>3</td><td>&quot;groups&quot;</td><td>&quot;B&quot;</td></tr><tr><td>null</td><td>&quot;groups&quot;</td><td>&quot;C&quot;</td></tr><tr><td>5</td><td>&quot;groups&quot;</td><td>&quot;B&quot;</td></tr></tbody></table></div>"
      ],
      "text/plain": [
       "shape: (10, 3)\n",
       "┌──────┬──────────┬───────┐\n",
       "│ nrs  ┆ variable ┆ value │\n",
       "│ ---  ┆ ---      ┆ ---   │\n",
       "│ i64  ┆ str      ┆ str   │\n",
       "╞══════╪══════════╪═══════╡\n",
       "│ 1    ┆ names    ┆ foo   │\n",
       "│ 2    ┆ names    ┆ ham   │\n",
       "│ 3    ┆ names    ┆ spam  │\n",
       "│ null ┆ names    ┆ egg   │\n",
       "│ 5    ┆ names    ┆ null  │\n",
       "│ 1    ┆ groups   ┆ A     │\n",
       "│ 2    ┆ groups   ┆ A     │\n",
       "│ 3    ┆ groups   ┆ B     │\n",
       "│ null ┆ groups   ┆ C     │\n",
       "│ 5    ┆ groups   ┆ B     │\n",
       "└──────┴──────────┴───────┘"
      ]
     },
     "execution_count": 42,
     "metadata": {},
     "output_type": "execute_result"
    }
   ],
   "source": [
    "# Gather columns into rows\n",
    "df.melt(id_vars=\"nrs\", value_vars=[\"names\", \"groups\"])"
   ]
  },
  {
   "cell_type": "code",
   "execution_count": 43,
   "id": "f982543f",
   "metadata": {
    "execution": {
     "iopub.execute_input": "2024-05-15T11:40:53.360409Z",
     "iopub.status.busy": "2024-05-15T11:40:53.360022Z",
     "iopub.status.idle": "2024-05-15T11:40:53.368627Z",
     "shell.execute_reply": "2024-05-15T11:40:53.367605Z"
    }
   },
   "outputs": [
    {
     "data": {
      "text/html": [
       "<div><style>\n",
       ".dataframe > thead > tr,\n",
       ".dataframe > tbody > tr {\n",
       "  text-align: right;\n",
       "  white-space: pre-wrap;\n",
       "}\n",
       "</style>\n",
       "<small>shape: (3, 6)</small><table border=\"1\" class=\"dataframe\"><thead><tr><th>groups</th><th>foo</th><th>ham</th><th>spam</th><th>egg</th><th>null</th></tr><tr><td>str</td><td>i64</td><td>i64</td><td>i64</td><td>i64</td><td>i64</td></tr></thead><tbody><tr><td>&quot;A&quot;</td><td>1</td><td>2</td><td>null</td><td>null</td><td>null</td></tr><tr><td>&quot;B&quot;</td><td>null</td><td>null</td><td>3</td><td>null</td><td>5</td></tr><tr><td>&quot;C&quot;</td><td>null</td><td>null</td><td>null</td><td>null</td><td>null</td></tr></tbody></table></div>"
      ],
      "text/plain": [
       "shape: (3, 6)\n",
       "┌────────┬──────┬──────┬──────┬──────┬──────┐\n",
       "│ groups ┆ foo  ┆ ham  ┆ spam ┆ egg  ┆ null │\n",
       "│ ---    ┆ ---  ┆ ---  ┆ ---  ┆ ---  ┆ ---  │\n",
       "│ str    ┆ i64  ┆ i64  ┆ i64  ┆ i64  ┆ i64  │\n",
       "╞════════╪══════╪══════╪══════╪══════╪══════╡\n",
       "│ A      ┆ 1    ┆ 2    ┆ null ┆ null ┆ null │\n",
       "│ B      ┆ null ┆ null ┆ 3    ┆ null ┆ 5    │\n",
       "│ C      ┆ null ┆ null ┆ null ┆ null ┆ null │\n",
       "└────────┴──────┴──────┴──────┴──────┴──────┘"
      ]
     },
     "execution_count": 43,
     "metadata": {},
     "output_type": "execute_result"
    }
   ],
   "source": [
    "# Spread rows into columns\n",
    "df.pivot(values=\"nrs\", index=\"groups\", columns=\"names\")"
   ]
  },
  {
   "cell_type": "markdown",
   "id": "3b55c804",
   "metadata": {},
   "source": [
    "### Reshaping Data - Join Data Sets"
   ]
  },
  {
   "cell_type": "code",
   "execution_count": 44,
   "id": "5b3dcea7",
   "metadata": {
    "execution": {
     "iopub.execute_input": "2024-05-15T11:40:53.372129Z",
     "iopub.status.busy": "2024-05-15T11:40:53.371746Z",
     "iopub.status.idle": "2024-05-15T11:40:53.377365Z",
     "shell.execute_reply": "2024-05-15T11:40:53.376322Z"
    }
   },
   "outputs": [],
   "source": [
    "df4 = pl.DataFrame(\n",
    "    {\n",
    "        \"nrs\": [1, 2, 5, 6],\n",
    "        \"animals\": [\"cheetah\", \"lion\", \"leopard\", \"tiger\"],\n",
    "    }\n",
    ")"
   ]
  },
  {
   "cell_type": "code",
   "execution_count": 45,
   "id": "ef617658",
   "metadata": {
    "execution": {
     "iopub.execute_input": "2024-05-15T11:40:53.380915Z",
     "iopub.status.busy": "2024-05-15T11:40:53.380541Z",
     "iopub.status.idle": "2024-05-15T11:40:53.389843Z",
     "shell.execute_reply": "2024-05-15T11:40:53.388773Z"
    }
   },
   "outputs": [
    {
     "data": {
      "text/html": [
       "<div><style>\n",
       ".dataframe > thead > tr,\n",
       ".dataframe > tbody > tr {\n",
       "  text-align: right;\n",
       "  white-space: pre-wrap;\n",
       "}\n",
       "</style>\n",
       "<small>shape: (3, 5)</small><table border=\"1\" class=\"dataframe\"><thead><tr><th>nrs</th><th>names</th><th>random</th><th>groups</th><th>animals</th></tr><tr><td>i64</td><td>str</td><td>f64</td><td>str</td><td>str</td></tr></thead><tbody><tr><td>1</td><td>&quot;foo&quot;</td><td>0.3</td><td>&quot;A&quot;</td><td>&quot;cheetah&quot;</td></tr><tr><td>2</td><td>&quot;ham&quot;</td><td>0.7</td><td>&quot;A&quot;</td><td>&quot;lion&quot;</td></tr><tr><td>5</td><td>null</td><td>0.6</td><td>&quot;B&quot;</td><td>&quot;leopard&quot;</td></tr></tbody></table></div>"
      ],
      "text/plain": [
       "shape: (3, 5)\n",
       "┌─────┬───────┬────────┬────────┬─────────┐\n",
       "│ nrs ┆ names ┆ random ┆ groups ┆ animals │\n",
       "│ --- ┆ ---   ┆ ---    ┆ ---    ┆ ---     │\n",
       "│ i64 ┆ str   ┆ f64    ┆ str    ┆ str     │\n",
       "╞═════╪═══════╪════════╪════════╪═════════╡\n",
       "│ 1   ┆ foo   ┆ 0.3    ┆ A      ┆ cheetah │\n",
       "│ 2   ┆ ham   ┆ 0.7    ┆ A      ┆ lion    │\n",
       "│ 5   ┆ null  ┆ 0.6    ┆ B      ┆ leopard │\n",
       "└─────┴───────┴────────┴────────┴─────────┘"
      ]
     },
     "execution_count": 45,
     "metadata": {},
     "output_type": "execute_result"
    }
   ],
   "source": [
    "# Inner join\n",
    "# Retains only rows with a match in the other set.\n",
    "df.join(df4, on=\"nrs\")\n",
    "# or\n",
    "df.join(df4, on=\"nrs\", how=\"inner\")"
   ]
  },
  {
   "cell_type": "code",
   "execution_count": 46,
   "id": "6503c20d",
   "metadata": {
    "execution": {
     "iopub.execute_input": "2024-05-15T11:40:53.393298Z",
     "iopub.status.busy": "2024-05-15T11:40:53.393074Z",
     "iopub.status.idle": "2024-05-15T11:40:53.399496Z",
     "shell.execute_reply": "2024-05-15T11:40:53.398740Z"
    }
   },
   "outputs": [
    {
     "data": {
      "text/html": [
       "<div><style>\n",
       ".dataframe > thead > tr,\n",
       ".dataframe > tbody > tr {\n",
       "  text-align: right;\n",
       "  white-space: pre-wrap;\n",
       "}\n",
       "</style>\n",
       "<small>shape: (5, 5)</small><table border=\"1\" class=\"dataframe\"><thead><tr><th>nrs</th><th>names</th><th>random</th><th>groups</th><th>animals</th></tr><tr><td>i64</td><td>str</td><td>f64</td><td>str</td><td>str</td></tr></thead><tbody><tr><td>1</td><td>&quot;foo&quot;</td><td>0.3</td><td>&quot;A&quot;</td><td>&quot;cheetah&quot;</td></tr><tr><td>2</td><td>&quot;ham&quot;</td><td>0.7</td><td>&quot;A&quot;</td><td>&quot;lion&quot;</td></tr><tr><td>3</td><td>&quot;spam&quot;</td><td>0.1</td><td>&quot;B&quot;</td><td>null</td></tr><tr><td>null</td><td>&quot;egg&quot;</td><td>0.9</td><td>&quot;C&quot;</td><td>null</td></tr><tr><td>5</td><td>null</td><td>0.6</td><td>&quot;B&quot;</td><td>&quot;leopard&quot;</td></tr></tbody></table></div>"
      ],
      "text/plain": [
       "shape: (5, 5)\n",
       "┌──────┬───────┬────────┬────────┬─────────┐\n",
       "│ nrs  ┆ names ┆ random ┆ groups ┆ animals │\n",
       "│ ---  ┆ ---   ┆ ---    ┆ ---    ┆ ---     │\n",
       "│ i64  ┆ str   ┆ f64    ┆ str    ┆ str     │\n",
       "╞══════╪═══════╪════════╪════════╪═════════╡\n",
       "│ 1    ┆ foo   ┆ 0.3    ┆ A      ┆ cheetah │\n",
       "│ 2    ┆ ham   ┆ 0.7    ┆ A      ┆ lion    │\n",
       "│ 3    ┆ spam  ┆ 0.1    ┆ B      ┆ null    │\n",
       "│ null ┆ egg   ┆ 0.9    ┆ C      ┆ null    │\n",
       "│ 5    ┆ null  ┆ 0.6    ┆ B      ┆ leopard │\n",
       "└──────┴───────┴────────┴────────┴─────────┘"
      ]
     },
     "execution_count": 46,
     "metadata": {},
     "output_type": "execute_result"
    }
   ],
   "source": [
    "# Left join\n",
    "# Retains each row from \"left\" set (df).\n",
    "df.join(df4, on=\"nrs\", how=\"left\")"
   ]
  },
  {
   "cell_type": "code",
   "execution_count": 47,
   "id": "5faae7d7",
   "metadata": {
    "execution": {
     "iopub.execute_input": "2024-05-15T11:40:53.402129Z",
     "iopub.status.busy": "2024-05-15T11:40:53.401828Z",
     "iopub.status.idle": "2024-05-15T11:40:53.407011Z",
     "shell.execute_reply": "2024-05-15T11:40:53.406523Z"
    }
   },
   "outputs": [
    {
     "data": {
      "text/html": [
       "<div><style>\n",
       ".dataframe > thead > tr,\n",
       ".dataframe > tbody > tr {\n",
       "  text-align: right;\n",
       "  white-space: pre-wrap;\n",
       "}\n",
       "</style>\n",
       "<small>shape: (6, 6)</small><table border=\"1\" class=\"dataframe\"><thead><tr><th>nrs</th><th>names</th><th>random</th><th>groups</th><th>nrs_right</th><th>animals</th></tr><tr><td>i64</td><td>str</td><td>f64</td><td>str</td><td>i64</td><td>str</td></tr></thead><tbody><tr><td>1</td><td>&quot;foo&quot;</td><td>0.3</td><td>&quot;A&quot;</td><td>1</td><td>&quot;cheetah&quot;</td></tr><tr><td>2</td><td>&quot;ham&quot;</td><td>0.7</td><td>&quot;A&quot;</td><td>2</td><td>&quot;lion&quot;</td></tr><tr><td>3</td><td>&quot;spam&quot;</td><td>0.1</td><td>&quot;B&quot;</td><td>null</td><td>null</td></tr><tr><td>null</td><td>&quot;egg&quot;</td><td>0.9</td><td>&quot;C&quot;</td><td>null</td><td>null</td></tr><tr><td>5</td><td>null</td><td>0.6</td><td>&quot;B&quot;</td><td>5</td><td>&quot;leopard&quot;</td></tr><tr><td>null</td><td>null</td><td>null</td><td>null</td><td>6</td><td>&quot;tiger&quot;</td></tr></tbody></table></div>"
      ],
      "text/plain": [
       "shape: (6, 6)\n",
       "┌──────┬───────┬────────┬────────┬───────────┬─────────┐\n",
       "│ nrs  ┆ names ┆ random ┆ groups ┆ nrs_right ┆ animals │\n",
       "│ ---  ┆ ---   ┆ ---    ┆ ---    ┆ ---       ┆ ---     │\n",
       "│ i64  ┆ str   ┆ f64    ┆ str    ┆ i64       ┆ str     │\n",
       "╞══════╪═══════╪════════╪════════╪═══════════╪═════════╡\n",
       "│ 1    ┆ foo   ┆ 0.3    ┆ A      ┆ 1         ┆ cheetah │\n",
       "│ 2    ┆ ham   ┆ 0.7    ┆ A      ┆ 2         ┆ lion    │\n",
       "│ 3    ┆ spam  ┆ 0.1    ┆ B      ┆ null      ┆ null    │\n",
       "│ null ┆ egg   ┆ 0.9    ┆ C      ┆ null      ┆ null    │\n",
       "│ 5    ┆ null  ┆ 0.6    ┆ B      ┆ 5         ┆ leopard │\n",
       "│ null ┆ null  ┆ null   ┆ null   ┆ 6         ┆ tiger   │\n",
       "└──────┴───────┴────────┴────────┴───────────┴─────────┘"
      ]
     },
     "execution_count": 47,
     "metadata": {},
     "output_type": "execute_result"
    }
   ],
   "source": [
    "# Outer join\n",
    "# Retains each row, even if no other matching row exists.\n",
    "df.join(df4, on=\"nrs\", how=\"outer\")"
   ]
  },
  {
   "cell_type": "code",
   "execution_count": 48,
   "id": "3d6a4f49",
   "metadata": {
    "execution": {
     "iopub.execute_input": "2024-05-15T11:40:53.410848Z",
     "iopub.status.busy": "2024-05-15T11:40:53.410669Z",
     "iopub.status.idle": "2024-05-15T11:40:53.416556Z",
     "shell.execute_reply": "2024-05-15T11:40:53.415960Z"
    }
   },
   "outputs": [
    {
     "data": {
      "text/html": [
       "<div><style>\n",
       ".dataframe > thead > tr,\n",
       ".dataframe > tbody > tr {\n",
       "  text-align: right;\n",
       "  white-space: pre-wrap;\n",
       "}\n",
       "</style>\n",
       "<small>shape: (2, 4)</small><table border=\"1\" class=\"dataframe\"><thead><tr><th>nrs</th><th>names</th><th>random</th><th>groups</th></tr><tr><td>i64</td><td>str</td><td>f64</td><td>str</td></tr></thead><tbody><tr><td>3</td><td>&quot;spam&quot;</td><td>0.1</td><td>&quot;B&quot;</td></tr><tr><td>null</td><td>&quot;egg&quot;</td><td>0.9</td><td>&quot;C&quot;</td></tr></tbody></table></div>"
      ],
      "text/plain": [
       "shape: (2, 4)\n",
       "┌──────┬───────┬────────┬────────┐\n",
       "│ nrs  ┆ names ┆ random ┆ groups │\n",
       "│ ---  ┆ ---   ┆ ---    ┆ ---    │\n",
       "│ i64  ┆ str   ┆ f64    ┆ str    │\n",
       "╞══════╪═══════╪════════╪════════╡\n",
       "│ 3    ┆ spam  ┆ 0.1    ┆ B      │\n",
       "│ null ┆ egg   ┆ 0.9    ┆ C      │\n",
       "└──────┴───────┴────────┴────────┘"
      ]
     },
     "execution_count": 48,
     "metadata": {},
     "output_type": "execute_result"
    }
   ],
   "source": [
    "# Anti join\n",
    "# Contains all rows from df that do not have a match in df4.\n",
    "df.join(df4, on=\"nrs\", how=\"anti\")"
   ]
  },
  {
   "cell_type": "markdown",
   "id": "79836654",
   "metadata": {},
   "source": [
    "## Misc"
   ]
  },
  {
   "cell_type": "markdown",
   "id": "63053123",
   "metadata": {},
   "source": [
    "### Handling Missing Data"
   ]
  },
  {
   "cell_type": "code",
   "execution_count": 49,
   "id": "6813bb94",
   "metadata": {
    "execution": {
     "iopub.execute_input": "2024-05-15T11:40:53.420534Z",
     "iopub.status.busy": "2024-05-15T11:40:53.420314Z",
     "iopub.status.idle": "2024-05-15T11:40:53.424498Z",
     "shell.execute_reply": "2024-05-15T11:40:53.423908Z"
    }
   },
   "outputs": [
    {
     "data": {
      "text/html": [
       "<div><style>\n",
       ".dataframe > thead > tr,\n",
       ".dataframe > tbody > tr {\n",
       "  text-align: right;\n",
       "  white-space: pre-wrap;\n",
       "}\n",
       "</style>\n",
       "<small>shape: (1, 4)</small><table border=\"1\" class=\"dataframe\"><thead><tr><th>nrs</th><th>names</th><th>random</th><th>groups</th></tr><tr><td>u32</td><td>u32</td><td>u32</td><td>u32</td></tr></thead><tbody><tr><td>1</td><td>1</td><td>0</td><td>0</td></tr></tbody></table></div>"
      ],
      "text/plain": [
       "shape: (1, 4)\n",
       "┌─────┬───────┬────────┬────────┐\n",
       "│ nrs ┆ names ┆ random ┆ groups │\n",
       "│ --- ┆ ---   ┆ ---    ┆ ---    │\n",
       "│ u32 ┆ u32   ┆ u32    ┆ u32    │\n",
       "╞═════╪═══════╪════════╪════════╡\n",
       "│ 1   ┆ 1     ┆ 0      ┆ 0      │\n",
       "└─────┴───────┴────────┴────────┘"
      ]
     },
     "execution_count": 49,
     "metadata": {},
     "output_type": "execute_result"
    }
   ],
   "source": [
    "# How many nulls per column?\n",
    "df.null_count()"
   ]
  },
  {
   "cell_type": "code",
   "execution_count": 50,
   "id": "e77ef13c",
   "metadata": {
    "execution": {
     "iopub.execute_input": "2024-05-15T11:40:53.429236Z",
     "iopub.status.busy": "2024-05-15T11:40:53.429014Z",
     "iopub.status.idle": "2024-05-15T11:40:53.435800Z",
     "shell.execute_reply": "2024-05-15T11:40:53.434782Z"
    }
   },
   "outputs": [
    {
     "data": {
      "text/html": [
       "<div><style>\n",
       ".dataframe > thead > tr,\n",
       ".dataframe > tbody > tr {\n",
       "  text-align: right;\n",
       "  white-space: pre-wrap;\n",
       "}\n",
       "</style>\n",
       "<small>shape: (3, 4)</small><table border=\"1\" class=\"dataframe\"><thead><tr><th>nrs</th><th>names</th><th>random</th><th>groups</th></tr><tr><td>i64</td><td>str</td><td>f64</td><td>str</td></tr></thead><tbody><tr><td>1</td><td>&quot;foo&quot;</td><td>0.3</td><td>&quot;A&quot;</td></tr><tr><td>2</td><td>&quot;ham&quot;</td><td>0.7</td><td>&quot;A&quot;</td></tr><tr><td>3</td><td>&quot;spam&quot;</td><td>0.1</td><td>&quot;B&quot;</td></tr></tbody></table></div>"
      ],
      "text/plain": [
       "shape: (3, 4)\n",
       "┌─────┬───────┬────────┬────────┐\n",
       "│ nrs ┆ names ┆ random ┆ groups │\n",
       "│ --- ┆ ---   ┆ ---    ┆ ---    │\n",
       "│ i64 ┆ str   ┆ f64    ┆ str    │\n",
       "╞═════╪═══════╪════════╪════════╡\n",
       "│ 1   ┆ foo   ┆ 0.3    ┆ A      │\n",
       "│ 2   ┆ ham   ┆ 0.7    ┆ A      │\n",
       "│ 3   ┆ spam  ┆ 0.1    ┆ B      │\n",
       "└─────┴───────┴────────┴────────┘"
      ]
     },
     "execution_count": 50,
     "metadata": {},
     "output_type": "execute_result"
    }
   ],
   "source": [
    "# Drop rows with any column having a null value\n",
    "df.drop_nulls()"
   ]
  },
  {
   "cell_type": "code",
   "execution_count": 51,
   "id": "6cd17b1c",
   "metadata": {
    "execution": {
     "iopub.execute_input": "2024-05-15T11:40:53.440129Z",
     "iopub.status.busy": "2024-05-15T11:40:53.439748Z",
     "iopub.status.idle": "2024-05-15T11:40:53.447245Z",
     "shell.execute_reply": "2024-05-15T11:40:53.446271Z"
    }
   },
   "outputs": [
    {
     "data": {
      "text/html": [
       "<div><style>\n",
       ".dataframe > thead > tr,\n",
       ".dataframe > tbody > tr {\n",
       "  text-align: right;\n",
       "  white-space: pre-wrap;\n",
       "}\n",
       "</style>\n",
       "<small>shape: (5, 4)</small><table border=\"1\" class=\"dataframe\"><thead><tr><th>nrs</th><th>names</th><th>random</th><th>groups</th></tr><tr><td>i64</td><td>str</td><td>f64</td><td>str</td></tr></thead><tbody><tr><td>1</td><td>&quot;foo&quot;</td><td>0.3</td><td>&quot;A&quot;</td></tr><tr><td>2</td><td>&quot;ham&quot;</td><td>0.7</td><td>&quot;A&quot;</td></tr><tr><td>3</td><td>&quot;spam&quot;</td><td>0.1</td><td>&quot;B&quot;</td></tr><tr><td>42</td><td>&quot;egg&quot;</td><td>0.9</td><td>&quot;C&quot;</td></tr><tr><td>5</td><td>null</td><td>0.6</td><td>&quot;B&quot;</td></tr></tbody></table></div>"
      ],
      "text/plain": [
       "shape: (5, 4)\n",
       "┌─────┬───────┬────────┬────────┐\n",
       "│ nrs ┆ names ┆ random ┆ groups │\n",
       "│ --- ┆ ---   ┆ ---    ┆ ---    │\n",
       "│ i64 ┆ str   ┆ f64    ┆ str    │\n",
       "╞═════╪═══════╪════════╪════════╡\n",
       "│ 1   ┆ foo   ┆ 0.3    ┆ A      │\n",
       "│ 2   ┆ ham   ┆ 0.7    ┆ A      │\n",
       "│ 3   ┆ spam  ┆ 0.1    ┆ B      │\n",
       "│ 42  ┆ egg   ┆ 0.9    ┆ C      │\n",
       "│ 5   ┆ null  ┆ 0.6    ┆ B      │\n",
       "└─────┴───────┴────────┴────────┘"
      ]
     },
     "execution_count": 51,
     "metadata": {},
     "output_type": "execute_result"
    }
   ],
   "source": [
    "# Replace null values with given value\n",
    "df.fill_null(42)"
   ]
  },
  {
   "cell_type": "code",
   "execution_count": 52,
   "id": "46cbc77c",
   "metadata": {
    "execution": {
     "iopub.execute_input": "2024-05-15T11:40:53.450866Z",
     "iopub.status.busy": "2024-05-15T11:40:53.450102Z",
     "iopub.status.idle": "2024-05-15T11:40:53.458807Z",
     "shell.execute_reply": "2024-05-15T11:40:53.457688Z"
    }
   },
   "outputs": [
    {
     "data": {
      "text/html": [
       "<div><style>\n",
       ".dataframe > thead > tr,\n",
       ".dataframe > tbody > tr {\n",
       "  text-align: right;\n",
       "  white-space: pre-wrap;\n",
       "}\n",
       "</style>\n",
       "<small>shape: (5, 4)</small><table border=\"1\" class=\"dataframe\"><thead><tr><th>nrs</th><th>names</th><th>random</th><th>groups</th></tr><tr><td>i64</td><td>str</td><td>f64</td><td>str</td></tr></thead><tbody><tr><td>1</td><td>&quot;foo&quot;</td><td>0.3</td><td>&quot;A&quot;</td></tr><tr><td>2</td><td>&quot;ham&quot;</td><td>0.7</td><td>&quot;A&quot;</td></tr><tr><td>3</td><td>&quot;spam&quot;</td><td>0.1</td><td>&quot;B&quot;</td></tr><tr><td>3</td><td>&quot;egg&quot;</td><td>0.9</td><td>&quot;C&quot;</td></tr><tr><td>5</td><td>&quot;egg&quot;</td><td>0.6</td><td>&quot;B&quot;</td></tr></tbody></table></div>"
      ],
      "text/plain": [
       "shape: (5, 4)\n",
       "┌─────┬───────┬────────┬────────┐\n",
       "│ nrs ┆ names ┆ random ┆ groups │\n",
       "│ --- ┆ ---   ┆ ---    ┆ ---    │\n",
       "│ i64 ┆ str   ┆ f64    ┆ str    │\n",
       "╞═════╪═══════╪════════╪════════╡\n",
       "│ 1   ┆ foo   ┆ 0.3    ┆ A      │\n",
       "│ 2   ┆ ham   ┆ 0.7    ┆ A      │\n",
       "│ 3   ┆ spam  ┆ 0.1    ┆ B      │\n",
       "│ 3   ┆ egg   ┆ 0.9    ┆ C      │\n",
       "│ 5   ┆ egg   ┆ 0.6    ┆ B      │\n",
       "└─────┴───────┴────────┴────────┘"
      ]
     },
     "execution_count": 52,
     "metadata": {},
     "output_type": "execute_result"
    }
   ],
   "source": [
    "# Replace null values using forward strategy\n",
    "df.fill_null(strategy=\"forward\")\n",
    "# Other fill strategies are \"backward\", \"min\", \"max\", \"mean\", \"zero\" and \"one\""
   ]
  },
  {
   "cell_type": "code",
   "execution_count": 53,
   "id": "b62e224d",
   "metadata": {
    "execution": {
     "iopub.execute_input": "2024-05-15T11:40:53.462208Z",
     "iopub.status.busy": "2024-05-15T11:40:53.461792Z",
     "iopub.status.idle": "2024-05-15T11:40:53.469540Z",
     "shell.execute_reply": "2024-05-15T11:40:53.468457Z"
    }
   },
   "outputs": [
    {
     "data": {
      "text/html": [
       "<div><style>\n",
       ".dataframe > thead > tr,\n",
       ".dataframe > tbody > tr {\n",
       "  text-align: right;\n",
       "  white-space: pre-wrap;\n",
       "}\n",
       "</style>\n",
       "<small>shape: (5, 4)</small><table border=\"1\" class=\"dataframe\"><thead><tr><th>nrs</th><th>names</th><th>random</th><th>groups</th></tr><tr><td>i64</td><td>str</td><td>f64</td><td>str</td></tr></thead><tbody><tr><td>1</td><td>&quot;foo&quot;</td><td>0.3</td><td>&quot;A&quot;</td></tr><tr><td>2</td><td>&quot;ham&quot;</td><td>0.7</td><td>&quot;A&quot;</td></tr><tr><td>3</td><td>&quot;spam&quot;</td><td>0.1</td><td>&quot;B&quot;</td></tr><tr><td>null</td><td>&quot;egg&quot;</td><td>0.9</td><td>&quot;C&quot;</td></tr><tr><td>5</td><td>null</td><td>0.6</td><td>&quot;B&quot;</td></tr></tbody></table></div>"
      ],
      "text/plain": [
       "shape: (5, 4)\n",
       "┌──────┬───────┬────────┬────────┐\n",
       "│ nrs  ┆ names ┆ random ┆ groups │\n",
       "│ ---  ┆ ---   ┆ ---    ┆ ---    │\n",
       "│ i64  ┆ str   ┆ f64    ┆ str    │\n",
       "╞══════╪═══════╪════════╪════════╡\n",
       "│ 1    ┆ foo   ┆ 0.3    ┆ A      │\n",
       "│ 2    ┆ ham   ┆ 0.7    ┆ A      │\n",
       "│ 3    ┆ spam  ┆ 0.1    ┆ B      │\n",
       "│ null ┆ egg   ┆ 0.9    ┆ C      │\n",
       "│ 5    ┆ null  ┆ 0.6    ┆ B      │\n",
       "└──────┴───────┴────────┴────────┘"
      ]
     },
     "execution_count": 53,
     "metadata": {},
     "output_type": "execute_result"
    }
   ],
   "source": [
    "# Replace floating point NaN values with given value\n",
    "df.fill_nan(42)"
   ]
  },
  {
   "cell_type": "markdown",
   "id": "a9c3aff9",
   "metadata": {},
   "source": [
    "### Rolling Functions"
   ]
  },
  {
   "cell_type": "code",
   "execution_count": 54,
   "id": "63370638",
   "metadata": {
    "execution": {
     "iopub.execute_input": "2024-05-15T11:40:53.473522Z",
     "iopub.status.busy": "2024-05-15T11:40:53.473206Z",
     "iopub.status.idle": "2024-05-15T11:40:53.803143Z",
     "shell.execute_reply": "2024-05-15T11:40:53.802241Z"
    }
   },
   "outputs": [
    {
     "data": {
      "text/html": [
       "<div><style>\n",
       ".dataframe > thead > tr,\n",
       ".dataframe > tbody > tr {\n",
       "  text-align: right;\n",
       "  white-space: pre-wrap;\n",
       "}\n",
       "</style>\n",
       "<small>shape: (5, 11)</small><table border=\"1\" class=\"dataframe\"><thead><tr><th>random</th><th>rolling_max</th><th>rolling_mean</th><th>rolling_median</th><th>rolling_min</th><th>rolling_std</th><th>rolling_sum</th><th>rolling_var</th><th>rolling_quantile</th><th>rolling_skew</th><th>rolling_apply</th></tr><tr><td>f64</td><td>f64</td><td>f64</td><td>f64</td><td>f64</td><td>f64</td><td>f64</td><td>f64</td><td>f64</td><td>f64</td><td>f64</td></tr></thead><tbody><tr><td>0.3</td><td>null</td><td>null</td><td>null</td><td>null</td><td>null</td><td>null</td><td>null</td><td>null</td><td>null</td><td>null</td></tr><tr><td>0.7</td><td>0.7</td><td>0.5</td><td>0.5</td><td>0.3</td><td>0.282843</td><td>1.0</td><td>0.08</td><td>0.7</td><td>-4.3368e-16</td><td>0.2</td></tr><tr><td>0.1</td><td>0.7</td><td>0.4</td><td>0.4</td><td>0.1</td><td>0.424264</td><td>0.8</td><td>0.18</td><td>0.7</td><td>3.8549e-16</td><td>0.3</td></tr><tr><td>0.9</td><td>0.9</td><td>0.5</td><td>0.5</td><td>0.1</td><td>0.565685</td><td>1.0</td><td>0.32</td><td>0.9</td><td>0.0</td><td>0.4</td></tr><tr><td>0.6</td><td>0.9</td><td>0.75</td><td>0.75</td><td>0.6</td><td>0.212132</td><td>1.5</td><td>0.045</td><td>0.9</td><td>0.0</td><td>0.15</td></tr></tbody></table></div>"
      ],
      "text/plain": [
       "shape: (5, 11)\n",
       "┌────────┬────────────┬────────────┬───────────┬───┬───────────┬───────────┬───────────┬───────────┐\n",
       "│ random ┆ rolling_ma ┆ rolling_me ┆ rolling_m ┆ … ┆ rolling_v ┆ rolling_q ┆ rolling_s ┆ rolling_a │\n",
       "│ ---    ┆ x          ┆ an         ┆ edian     ┆   ┆ ar        ┆ uantile   ┆ kew       ┆ pply      │\n",
       "│ f64    ┆ ---        ┆ ---        ┆ ---       ┆   ┆ ---       ┆ ---       ┆ ---       ┆ ---       │\n",
       "│        ┆ f64        ┆ f64        ┆ f64       ┆   ┆ f64       ┆ f64       ┆ f64       ┆ f64       │\n",
       "╞════════╪════════════╪════════════╪═══════════╪═══╪═══════════╪═══════════╪═══════════╪═══════════╡\n",
       "│ 0.3    ┆ null       ┆ null       ┆ null      ┆ … ┆ null      ┆ null      ┆ null      ┆ null      │\n",
       "│ 0.7    ┆ 0.7        ┆ 0.5        ┆ 0.5       ┆ … ┆ 0.08      ┆ 0.7       ┆ -4.3368e- ┆ 0.2       │\n",
       "│        ┆            ┆            ┆           ┆   ┆           ┆           ┆ 16        ┆           │\n",
       "│ 0.1    ┆ 0.7        ┆ 0.4        ┆ 0.4       ┆ … ┆ 0.18      ┆ 0.7       ┆ 3.8549e-1 ┆ 0.3       │\n",
       "│        ┆            ┆            ┆           ┆   ┆           ┆           ┆ 6         ┆           │\n",
       "│ 0.9    ┆ 0.9        ┆ 0.5        ┆ 0.5       ┆ … ┆ 0.32      ┆ 0.9       ┆ 0.0       ┆ 0.4       │\n",
       "│ 0.6    ┆ 0.9        ┆ 0.75       ┆ 0.75      ┆ … ┆ 0.045     ┆ 0.9       ┆ 0.0       ┆ 0.15      │\n",
       "└────────┴────────────┴────────────┴───────────┴───┴───────────┴───────────┴───────────┴───────────┘"
      ]
     },
     "execution_count": 54,
     "metadata": {},
     "output_type": "execute_result"
    }
   ],
   "source": [
    "# The following rolling functions are available\n",
    "import numpy as np\n",
    "\n",
    "df.select(\n",
    "    pl.col(\"random\"),\n",
    "    # Rolling maximum value\n",
    "    pl.col(\"random\").rolling_max(window_size=2).alias(\"rolling_max\"),\n",
    "    # Rolling mean value\n",
    "    pl.col(\"random\").rolling_mean(window_size=2).alias(\"rolling_mean\"),\n",
    "    # Rolling median value\n",
    "    pl.col(\"random\")\n",
    "    .rolling_median(window_size=2, min_periods=2)\n",
    "    .alias(\"rolling_median\"),\n",
    "    # Rolling minimum value\n",
    "    pl.col(\"random\").rolling_min(window_size=2).alias(\"rolling_min\"),\n",
    "    # Rolling standard deviation\n",
    "    pl.col(\"random\").rolling_std(window_size=2).alias(\"rolling_std\"),\n",
    "    # Rolling sum values\n",
    "    pl.col(\"random\").rolling_sum(window_size=2).alias(\"rolling_sum\"),\n",
    "    # Rolling variance\n",
    "    pl.col(\"random\").rolling_var(window_size=2).alias(\"rolling_var\"),\n",
    "    # Rolling quantile\n",
    "    pl.col(\"random\")\n",
    "    .rolling_quantile(quantile=0.75, window_size=2, min_periods=2)\n",
    "    .alias(\"rolling_quantile\"),\n",
    "    # Rolling skew\n",
    "    pl.col(\"random\").rolling_skew(window_size=2).alias(\"rolling_skew\"),\n",
    "    # Rolling custom function\n",
    "    pl.col(\"random\")\n",
    "    .rolling_map(function=np.nanstd, window_size=2)\n",
    "    .alias(\"rolling_apply\"),\n",
    ")"
   ]
  },
  {
   "cell_type": "markdown",
   "id": "8e50a1b9",
   "metadata": {},
   "source": [
    "### Window Functions"
   ]
  },
  {
   "cell_type": "code",
   "execution_count": 55,
   "id": "6f37b6ee",
   "metadata": {
    "execution": {
     "iopub.execute_input": "2024-05-15T11:40:53.805591Z",
     "iopub.status.busy": "2024-05-15T11:40:53.805330Z",
     "iopub.status.idle": "2024-05-15T11:40:53.812263Z",
     "shell.execute_reply": "2024-05-15T11:40:53.811510Z"
    }
   },
   "outputs": [
    {
     "data": {
      "text/html": [
       "<div><style>\n",
       ".dataframe > thead > tr,\n",
       ".dataframe > tbody > tr {\n",
       "  text-align: right;\n",
       "  white-space: pre-wrap;\n",
       "}\n",
       "</style>\n",
       "<small>shape: (5, 5)</small><table border=\"1\" class=\"dataframe\"><thead><tr><th>names</th><th>groups</th><th>random</th><th>sum_by_names</th><th>sum_by_groups</th></tr><tr><td>str</td><td>str</td><td>f64</td><td>f64</td><td>f64</td></tr></thead><tbody><tr><td>&quot;foo&quot;</td><td>&quot;A&quot;</td><td>0.3</td><td>0.3</td><td>1.0</td></tr><tr><td>&quot;ham&quot;</td><td>&quot;A&quot;</td><td>0.7</td><td>0.7</td><td>1.0</td></tr><tr><td>&quot;spam&quot;</td><td>&quot;B&quot;</td><td>0.1</td><td>0.1</td><td>0.7</td></tr><tr><td>&quot;egg&quot;</td><td>&quot;C&quot;</td><td>0.9</td><td>0.9</td><td>0.9</td></tr><tr><td>null</td><td>&quot;B&quot;</td><td>0.6</td><td>0.6</td><td>0.7</td></tr></tbody></table></div>"
      ],
      "text/plain": [
       "shape: (5, 5)\n",
       "┌───────┬────────┬────────┬──────────────┬───────────────┐\n",
       "│ names ┆ groups ┆ random ┆ sum_by_names ┆ sum_by_groups │\n",
       "│ ---   ┆ ---    ┆ ---    ┆ ---          ┆ ---           │\n",
       "│ str   ┆ str    ┆ f64    ┆ f64          ┆ f64           │\n",
       "╞═══════╪════════╪════════╪══════════════╪═══════════════╡\n",
       "│ foo   ┆ A      ┆ 0.3    ┆ 0.3          ┆ 1.0           │\n",
       "│ ham   ┆ A      ┆ 0.7    ┆ 0.7          ┆ 1.0           │\n",
       "│ spam  ┆ B      ┆ 0.1    ┆ 0.1          ┆ 0.7           │\n",
       "│ egg   ┆ C      ┆ 0.9    ┆ 0.9          ┆ 0.9           │\n",
       "│ null  ┆ B      ┆ 0.6    ┆ 0.6          ┆ 0.7           │\n",
       "└───────┴────────┴────────┴──────────────┴───────────────┘"
      ]
     },
     "execution_count": 55,
     "metadata": {},
     "output_type": "execute_result"
    }
   ],
   "source": [
    "# Window functions allow to group by several columns simultaneously\n",
    "df.select(\n",
    "    \"names\",\n",
    "    \"groups\",\n",
    "    \"random\",\n",
    "    pl.col(\"random\").sum().over(\"names\").alias(\"sum_by_names\"),\n",
    "    pl.col(\"random\").sum().over(\"groups\").alias(\"sum_by_groups\"),\n",
    ")"
   ]
  },
  {
   "cell_type": "markdown",
   "id": "b361df66",
   "metadata": {},
   "source": [
    "### Date Range Creation"
   ]
  },
  {
   "cell_type": "code",
   "execution_count": 56,
   "id": "ffab565d",
   "metadata": {
    "execution": {
     "iopub.execute_input": "2024-05-15T11:40:53.814554Z",
     "iopub.status.busy": "2024-05-15T11:40:53.814341Z",
     "iopub.status.idle": "2024-05-15T11:40:53.822228Z",
     "shell.execute_reply": "2024-05-15T11:40:53.821126Z"
    }
   },
   "outputs": [
    {
     "data": {
      "text/html": [
       "<div><style>\n",
       ".dataframe > thead > tr,\n",
       ".dataframe > tbody > tr {\n",
       "  text-align: right;\n",
       "  white-space: pre-wrap;\n",
       "}\n",
       "</style>\n",
       "<small>shape: (7, 2)</small><table border=\"1\" class=\"dataframe\"><thead><tr><th>date</th><th>value</th></tr><tr><td>date</td><td>i64</td></tr></thead><tbody><tr><td>2024-01-01</td><td>1</td></tr><tr><td>2024-01-02</td><td>2</td></tr><tr><td>2024-01-03</td><td>3</td></tr><tr><td>2024-01-04</td><td>4</td></tr><tr><td>2024-01-05</td><td>5</td></tr><tr><td>2024-01-06</td><td>6</td></tr><tr><td>2024-01-07</td><td>7</td></tr></tbody></table></div>"
      ],
      "text/plain": [
       "shape: (7, 2)\n",
       "┌────────────┬───────┐\n",
       "│ date       ┆ value │\n",
       "│ ---        ┆ ---   │\n",
       "│ date       ┆ i64   │\n",
       "╞════════════╪═══════╡\n",
       "│ 2024-01-01 ┆ 1     │\n",
       "│ 2024-01-02 ┆ 2     │\n",
       "│ 2024-01-03 ┆ 3     │\n",
       "│ 2024-01-04 ┆ 4     │\n",
       "│ 2024-01-05 ┆ 5     │\n",
       "│ 2024-01-06 ┆ 6     │\n",
       "│ 2024-01-07 ┆ 7     │\n",
       "└────────────┴───────┘"
      ]
     },
     "execution_count": 56,
     "metadata": {},
     "output_type": "execute_result"
    }
   ],
   "source": [
    "# create data with pl.date_range\n",
    "from datetime import date\n",
    "\n",
    "\n",
    "df_date = pl.DataFrame(\n",
    "    {\n",
    "        # eager=True is important to turn the expression into actual data\n",
    "        \"date\": pl.date_range(\n",
    "            date(2024, 1, 1), date(2024, 1, 7), interval=\"1d\", eager=True\n",
    "        ),\n",
    "        \"value\": [1, 2, 3, 4, 5, 6, 7],\n",
    "    }\n",
    ")\n",
    "df_date"
   ]
  },
  {
   "cell_type": "markdown",
   "id": "b1d1a267",
   "metadata": {},
   "source": [
    "### Time-based Upsampling - `group_by_dynamic()`\n",
    "`group_by_dynamic` has **many** useful options.\n",
    "\n",
    "[[docs]](https://docs.pola.rs/py-polars/html/reference/dataframe/api/polars.DataFrame.group_by_dynamic.html#polars.DataFrame.group_by_dynamic)"
   ]
  },
  {
   "cell_type": "code",
   "execution_count": 57,
   "id": "08989df1",
   "metadata": {
    "execution": {
     "iopub.execute_input": "2024-05-15T11:40:53.825425Z",
     "iopub.status.busy": "2024-05-15T11:40:53.825032Z",
     "iopub.status.idle": "2024-05-15T11:40:53.833907Z",
     "shell.execute_reply": "2024-05-15T11:40:53.832800Z"
    },
    "lines_to_next_cell": 2
   },
   "outputs": [
    {
     "data": {
      "text/html": [
       "<div><style>\n",
       ".dataframe > thead > tr,\n",
       ".dataframe > tbody > tr {\n",
       "  text-align: right;\n",
       "  white-space: pre-wrap;\n",
       "}\n",
       "</style>\n",
       "<small>shape: (1, 2)</small><table border=\"1\" class=\"dataframe\"><thead><tr><th>date</th><th>value</th></tr><tr><td>date</td><td>i64</td></tr></thead><tbody><tr><td>2024-01-01</td><td>28</td></tr></tbody></table></div>"
      ],
      "text/plain": [
       "shape: (1, 2)\n",
       "┌────────────┬───────┐\n",
       "│ date       ┆ value │\n",
       "│ ---        ┆ ---   │\n",
       "│ date       ┆ i64   │\n",
       "╞════════════╪═══════╡\n",
       "│ 2024-01-01 ┆ 28    │\n",
       "└────────────┴───────┘"
      ]
     },
     "execution_count": 57,
     "metadata": {},
     "output_type": "execute_result"
    }
   ],
   "source": [
    "(df_date.group_by_dynamic(\"date\", every=\"1w\").agg(c.value.sum()))"
   ]
  },
  {
   "cell_type": "markdown",
   "id": "7ff23fbf",
   "metadata": {
    "lines_to_next_cell": 2
   },
   "source": [
    "### Custom Expressions\n",
    "You can create your own expression and reuse them throughout your projects."
   ]
  },
  {
   "cell_type": "code",
   "execution_count": 58,
   "id": "7fb2d069",
   "metadata": {
    "execution": {
     "iopub.execute_input": "2024-05-15T11:40:53.838928Z",
     "iopub.status.busy": "2024-05-15T11:40:53.838231Z",
     "iopub.status.idle": "2024-05-15T11:40:53.848365Z",
     "shell.execute_reply": "2024-05-15T11:40:53.847260Z"
    }
   },
   "outputs": [
    {
     "data": {
      "text/html": [
       "<div><style>\n",
       ".dataframe > thead > tr,\n",
       ".dataframe > tbody > tr {\n",
       "  text-align: right;\n",
       "  white-space: pre-wrap;\n",
       "}\n",
       "</style>\n",
       "<small>shape: (5, 1)</small><table border=\"1\" class=\"dataframe\"><thead><tr><th>new_col</th></tr><tr><td>str</td></tr></thead><tbody><tr><td>&quot;a&quot;</td></tr><tr><td>&quot;a&quot;</td></tr><tr><td>&quot;b&quot;</td></tr><tr><td>&quot;c&quot;</td></tr><tr><td>&quot;b&quot;</td></tr></tbody></table></div>"
      ],
      "text/plain": [
       "shape: (5, 1)\n",
       "┌─────────┐\n",
       "│ new_col │\n",
       "│ ---     │\n",
       "│ str     │\n",
       "╞═════════╡\n",
       "│ a       │\n",
       "│ a       │\n",
       "│ b       │\n",
       "│ c       │\n",
       "│ b       │\n",
       "└─────────┘"
      ]
     },
     "execution_count": 58,
     "metadata": {},
     "output_type": "execute_result"
    }
   ],
   "source": [
    "def normalize_str_col(col_name: str) -> pl.Expr:\n",
    "    return pl.col(col_name).str.to_lowercase().str.replace_all(\" \", \"_\")\n",
    "\n",
    "\n",
    "df.select(new_col=normalize_str_col(col_name=\"groups\"))"
   ]
  },
  {
   "cell_type": "markdown",
   "id": "b594c894",
   "metadata": {},
   "source": [
    "## Plotting\n",
    "Polars does not implement plotting itself, but delegates to `hvplot`.\n",
    "The plot functions are available via the `.plot` accessor.\n",
    "\n",
    "[[docs]](https://docs.pola.rs/py-polars/html/reference/dataframe/plot.html)"
   ]
  },
  {
   "cell_type": "code",
   "execution_count": 59,
   "id": "179c264c",
   "metadata": {
    "execution": {
     "iopub.execute_input": "2024-05-15T11:40:53.853581Z",
     "iopub.status.busy": "2024-05-15T11:40:53.852852Z",
     "iopub.status.idle": "2024-05-15T11:40:53.861183Z",
     "shell.execute_reply": "2024-05-15T11:40:53.860094Z"
    }
   },
   "outputs": [
    {
     "data": {
      "text/html": [
       "<div><style>\n",
       ".dataframe > thead > tr,\n",
       ".dataframe > tbody > tr {\n",
       "  text-align: right;\n",
       "  white-space: pre-wrap;\n",
       "}\n",
       "</style>\n",
       "<small>shape: (5, 4)</small><table border=\"1\" class=\"dataframe\"><thead><tr><th>nrs</th><th>names</th><th>random</th><th>groups</th></tr><tr><td>i64</td><td>str</td><td>f64</td><td>str</td></tr></thead><tbody><tr><td>1</td><td>&quot;foo&quot;</td><td>0.3</td><td>&quot;A&quot;</td></tr><tr><td>2</td><td>&quot;ham&quot;</td><td>0.7</td><td>&quot;A&quot;</td></tr><tr><td>3</td><td>&quot;spam&quot;</td><td>0.1</td><td>&quot;B&quot;</td></tr><tr><td>null</td><td>&quot;egg&quot;</td><td>0.9</td><td>&quot;C&quot;</td></tr><tr><td>5</td><td>null</td><td>0.6</td><td>&quot;B&quot;</td></tr></tbody></table></div>"
      ],
      "text/plain": [
       "shape: (5, 4)\n",
       "┌──────┬───────┬────────┬────────┐\n",
       "│ nrs  ┆ names ┆ random ┆ groups │\n",
       "│ ---  ┆ ---   ┆ ---    ┆ ---    │\n",
       "│ i64  ┆ str   ┆ f64    ┆ str    │\n",
       "╞══════╪═══════╪════════╪════════╡\n",
       "│ 1    ┆ foo   ┆ 0.3    ┆ A      │\n",
       "│ 2    ┆ ham   ┆ 0.7    ┆ A      │\n",
       "│ 3    ┆ spam  ┆ 0.1    ┆ B      │\n",
       "│ null ┆ egg   ┆ 0.9    ┆ C      │\n",
       "│ 5    ┆ null  ┆ 0.6    ┆ B      │\n",
       "└──────┴───────┴────────┴────────┘"
      ]
     },
     "execution_count": 59,
     "metadata": {},
     "output_type": "execute_result"
    }
   ],
   "source": [
    "df"
   ]
  },
  {
   "cell_type": "code",
   "execution_count": 60,
   "id": "aa8d43d4",
   "metadata": {
    "execution": {
     "iopub.execute_input": "2024-05-15T11:40:53.866265Z",
     "iopub.status.busy": "2024-05-15T11:40:53.865420Z",
     "iopub.status.idle": "2024-05-15T11:40:55.881180Z",
     "shell.execute_reply": "2024-05-15T11:40:55.880636Z"
    },
    "lines_to_next_cell": 2
   },
   "outputs": [
    {
     "name": "stdout",
     "output_type": "stream",
     "text": [
      "%opts magic unavailable (pyparsing cannot be imported)\n",
      "%compositor magic unavailable (pyparsing cannot be imported)\n"
     ]
    },
    {
     "data": {
      "application/javascript": [
       "(function(root) {\n",
       "  function now() {\n",
       "    return new Date();\n",
       "  }\n",
       "\n",
       "  var force = true;\n",
       "  var py_version = '3.4.1'.replace('rc', '-rc.').replace('.dev', '-dev.');\n",
       "  var reloading = false;\n",
       "  var Bokeh = root.Bokeh;\n",
       "\n",
       "  if (typeof (root._bokeh_timeout) === \"undefined\" || force) {\n",
       "    root._bokeh_timeout = Date.now() + 5000;\n",
       "    root._bokeh_failed_load = false;\n",
       "  }\n",
       "\n",
       "  function run_callbacks() {\n",
       "    try {\n",
       "      root._bokeh_onload_callbacks.forEach(function(callback) {\n",
       "        if (callback != null)\n",
       "          callback();\n",
       "      });\n",
       "    } finally {\n",
       "      delete root._bokeh_onload_callbacks;\n",
       "    }\n",
       "    console.debug(\"Bokeh: all callbacks have finished\");\n",
       "  }\n",
       "\n",
       "  function load_libs(css_urls, js_urls, js_modules, js_exports, callback) {\n",
       "    if (css_urls == null) css_urls = [];\n",
       "    if (js_urls == null) js_urls = [];\n",
       "    if (js_modules == null) js_modules = [];\n",
       "    if (js_exports == null) js_exports = {};\n",
       "\n",
       "    root._bokeh_onload_callbacks.push(callback);\n",
       "\n",
       "    if (root._bokeh_is_loading > 0) {\n",
       "      console.debug(\"Bokeh: BokehJS is being loaded, scheduling callback at\", now());\n",
       "      return null;\n",
       "    }\n",
       "    if (js_urls.length === 0 && js_modules.length === 0 && Object.keys(js_exports).length === 0) {\n",
       "      run_callbacks();\n",
       "      return null;\n",
       "    }\n",
       "    if (!reloading) {\n",
       "      console.debug(\"Bokeh: BokehJS not loaded, scheduling load and callback at\", now());\n",
       "    }\n",
       "\n",
       "    function on_load() {\n",
       "      root._bokeh_is_loading--;\n",
       "      if (root._bokeh_is_loading === 0) {\n",
       "        console.debug(\"Bokeh: all BokehJS libraries/stylesheets loaded\");\n",
       "        run_callbacks()\n",
       "      }\n",
       "    }\n",
       "    window._bokeh_on_load = on_load\n",
       "\n",
       "    function on_error() {\n",
       "      console.error(\"failed to load \" + url);\n",
       "    }\n",
       "\n",
       "    var skip = [];\n",
       "    if (window.requirejs) {\n",
       "      window.requirejs.config({'packages': {}, 'paths': {}, 'shim': {}});\n",
       "      root._bokeh_is_loading = css_urls.length + 0;\n",
       "    } else {\n",
       "      root._bokeh_is_loading = css_urls.length + js_urls.length + js_modules.length + Object.keys(js_exports).length;\n",
       "    }\n",
       "\n",
       "    var existing_stylesheets = []\n",
       "    var links = document.getElementsByTagName('link')\n",
       "    for (var i = 0; i < links.length; i++) {\n",
       "      var link = links[i]\n",
       "      if (link.href != null) {\n",
       "\texisting_stylesheets.push(link.href)\n",
       "      }\n",
       "    }\n",
       "    for (var i = 0; i < css_urls.length; i++) {\n",
       "      var url = css_urls[i];\n",
       "      if (existing_stylesheets.indexOf(url) !== -1) {\n",
       "\ton_load()\n",
       "\tcontinue;\n",
       "      }\n",
       "      const element = document.createElement(\"link\");\n",
       "      element.onload = on_load;\n",
       "      element.onerror = on_error;\n",
       "      element.rel = \"stylesheet\";\n",
       "      element.type = \"text/css\";\n",
       "      element.href = url;\n",
       "      console.debug(\"Bokeh: injecting link tag for BokehJS stylesheet: \", url);\n",
       "      document.body.appendChild(element);\n",
       "    }    var existing_scripts = []\n",
       "    var scripts = document.getElementsByTagName('script')\n",
       "    for (var i = 0; i < scripts.length; i++) {\n",
       "      var script = scripts[i]\n",
       "      if (script.src != null) {\n",
       "\texisting_scripts.push(script.src)\n",
       "      }\n",
       "    }\n",
       "    for (var i = 0; i < js_urls.length; i++) {\n",
       "      var url = js_urls[i];\n",
       "      if (skip.indexOf(url) !== -1 || existing_scripts.indexOf(url) !== -1) {\n",
       "\tif (!window.requirejs) {\n",
       "\t  on_load();\n",
       "\t}\n",
       "\tcontinue;\n",
       "      }\n",
       "      var element = document.createElement('script');\n",
       "      element.onload = on_load;\n",
       "      element.onerror = on_error;\n",
       "      element.async = false;\n",
       "      element.src = url;\n",
       "      console.debug(\"Bokeh: injecting script tag for BokehJS library: \", url);\n",
       "      document.head.appendChild(element);\n",
       "    }\n",
       "    for (var i = 0; i < js_modules.length; i++) {\n",
       "      var url = js_modules[i];\n",
       "      if (skip.indexOf(url) !== -1 || existing_scripts.indexOf(url) !== -1) {\n",
       "\tif (!window.requirejs) {\n",
       "\t  on_load();\n",
       "\t}\n",
       "\tcontinue;\n",
       "      }\n",
       "      var element = document.createElement('script');\n",
       "      element.onload = on_load;\n",
       "      element.onerror = on_error;\n",
       "      element.async = false;\n",
       "      element.src = url;\n",
       "      element.type = \"module\";\n",
       "      console.debug(\"Bokeh: injecting script tag for BokehJS library: \", url);\n",
       "      document.head.appendChild(element);\n",
       "    }\n",
       "    for (const name in js_exports) {\n",
       "      var url = js_exports[name];\n",
       "      if (skip.indexOf(url) >= 0 || root[name] != null) {\n",
       "\tif (!window.requirejs) {\n",
       "\t  on_load();\n",
       "\t}\n",
       "\tcontinue;\n",
       "      }\n",
       "      var element = document.createElement('script');\n",
       "      element.onerror = on_error;\n",
       "      element.async = false;\n",
       "      element.type = \"module\";\n",
       "      console.debug(\"Bokeh: injecting script tag for BokehJS library: \", url);\n",
       "      element.textContent = `\n",
       "      import ${name} from \"${url}\"\n",
       "      window.${name} = ${name}\n",
       "      window._bokeh_on_load()\n",
       "      `\n",
       "      document.head.appendChild(element);\n",
       "    }\n",
       "    if (!js_urls.length && !js_modules.length) {\n",
       "      on_load()\n",
       "    }\n",
       "  };\n",
       "\n",
       "  function inject_raw_css(css) {\n",
       "    const element = document.createElement(\"style\");\n",
       "    element.appendChild(document.createTextNode(css));\n",
       "    document.body.appendChild(element);\n",
       "  }\n",
       "\n",
       "  var js_urls = [\"https://cdn.bokeh.org/bokeh/release/bokeh-3.4.1.min.js\", \"https://cdn.bokeh.org/bokeh/release/bokeh-gl-3.4.1.min.js\", \"https://cdn.bokeh.org/bokeh/release/bokeh-widgets-3.4.1.min.js\", \"https://cdn.bokeh.org/bokeh/release/bokeh-tables-3.4.1.min.js\", \"https://cdn.holoviz.org/panel/1.4.2/dist/panel.min.js\"];\n",
       "  var js_modules = [];\n",
       "  var js_exports = {};\n",
       "  var css_urls = [];\n",
       "  var inline_js = [    function(Bokeh) {\n",
       "      Bokeh.set_log_level(\"info\");\n",
       "    },\n",
       "function(Bokeh) {} // ensure no trailing comma for IE\n",
       "  ];\n",
       "\n",
       "  function run_inline_js() {\n",
       "    if ((root.Bokeh !== undefined) || (force === true)) {\n",
       "      for (var i = 0; i < inline_js.length; i++) {\n",
       "\ttry {\n",
       "          inline_js[i].call(root, root.Bokeh);\n",
       "\t} catch(e) {\n",
       "\t  if (!reloading) {\n",
       "\t    throw e;\n",
       "\t  }\n",
       "\t}\n",
       "      }\n",
       "      // Cache old bokeh versions\n",
       "      if (Bokeh != undefined && !reloading) {\n",
       "\tvar NewBokeh = root.Bokeh;\n",
       "\tif (Bokeh.versions === undefined) {\n",
       "\t  Bokeh.versions = new Map();\n",
       "\t}\n",
       "\tif (NewBokeh.version !== Bokeh.version) {\n",
       "\t  Bokeh.versions.set(NewBokeh.version, NewBokeh)\n",
       "\t}\n",
       "\troot.Bokeh = Bokeh;\n",
       "      }} else if (Date.now() < root._bokeh_timeout) {\n",
       "      setTimeout(run_inline_js, 100);\n",
       "    } else if (!root._bokeh_failed_load) {\n",
       "      console.log(\"Bokeh: BokehJS failed to load within specified timeout.\");\n",
       "      root._bokeh_failed_load = true;\n",
       "    }\n",
       "    root._bokeh_is_initializing = false\n",
       "  }\n",
       "\n",
       "  function load_or_wait() {\n",
       "    // Implement a backoff loop that tries to ensure we do not load multiple\n",
       "    // versions of Bokeh and its dependencies at the same time.\n",
       "    // In recent versions we use the root._bokeh_is_initializing flag\n",
       "    // to determine whether there is an ongoing attempt to initialize\n",
       "    // bokeh, however for backward compatibility we also try to ensure\n",
       "    // that we do not start loading a newer (Panel>=1.0 and Bokeh>3) version\n",
       "    // before older versions are fully initialized.\n",
       "    if (root._bokeh_is_initializing && Date.now() > root._bokeh_timeout) {\n",
       "      root._bokeh_is_initializing = false;\n",
       "      root._bokeh_onload_callbacks = undefined;\n",
       "      console.log(\"Bokeh: BokehJS was loaded multiple times but one version failed to initialize.\");\n",
       "      load_or_wait();\n",
       "    } else if (root._bokeh_is_initializing || (typeof root._bokeh_is_initializing === \"undefined\" && root._bokeh_onload_callbacks !== undefined)) {\n",
       "      setTimeout(load_or_wait, 100);\n",
       "    } else {\n",
       "      root._bokeh_is_initializing = true\n",
       "      root._bokeh_onload_callbacks = []\n",
       "      var bokeh_loaded = Bokeh != null && (Bokeh.version === py_version || (Bokeh.versions !== undefined && Bokeh.versions.has(py_version)));\n",
       "      if (!reloading && !bokeh_loaded) {\n",
       "\troot.Bokeh = undefined;\n",
       "      }\n",
       "      load_libs(css_urls, js_urls, js_modules, js_exports, function() {\n",
       "\tconsole.debug(\"Bokeh: BokehJS plotting callback run at\", now());\n",
       "\trun_inline_js();\n",
       "      });\n",
       "    }\n",
       "  }\n",
       "  // Give older versions of the autoload script a head-start to ensure\n",
       "  // they initialize before we start loading newer version.\n",
       "  setTimeout(load_or_wait, 100)\n",
       "}(window));"
      ],
      "application/vnd.holoviews_load.v0+json": "(function(root) {\n  function now() {\n    return new Date();\n  }\n\n  var force = true;\n  var py_version = '3.4.1'.replace('rc', '-rc.').replace('.dev', '-dev.');\n  var reloading = false;\n  var Bokeh = root.Bokeh;\n\n  if (typeof (root._bokeh_timeout) === \"undefined\" || force) {\n    root._bokeh_timeout = Date.now() + 5000;\n    root._bokeh_failed_load = false;\n  }\n\n  function run_callbacks() {\n    try {\n      root._bokeh_onload_callbacks.forEach(function(callback) {\n        if (callback != null)\n          callback();\n      });\n    } finally {\n      delete root._bokeh_onload_callbacks;\n    }\n    console.debug(\"Bokeh: all callbacks have finished\");\n  }\n\n  function load_libs(css_urls, js_urls, js_modules, js_exports, callback) {\n    if (css_urls == null) css_urls = [];\n    if (js_urls == null) js_urls = [];\n    if (js_modules == null) js_modules = [];\n    if (js_exports == null) js_exports = {};\n\n    root._bokeh_onload_callbacks.push(callback);\n\n    if (root._bokeh_is_loading > 0) {\n      console.debug(\"Bokeh: BokehJS is being loaded, scheduling callback at\", now());\n      return null;\n    }\n    if (js_urls.length === 0 && js_modules.length === 0 && Object.keys(js_exports).length === 0) {\n      run_callbacks();\n      return null;\n    }\n    if (!reloading) {\n      console.debug(\"Bokeh: BokehJS not loaded, scheduling load and callback at\", now());\n    }\n\n    function on_load() {\n      root._bokeh_is_loading--;\n      if (root._bokeh_is_loading === 0) {\n        console.debug(\"Bokeh: all BokehJS libraries/stylesheets loaded\");\n        run_callbacks()\n      }\n    }\n    window._bokeh_on_load = on_load\n\n    function on_error() {\n      console.error(\"failed to load \" + url);\n    }\n\n    var skip = [];\n    if (window.requirejs) {\n      window.requirejs.config({'packages': {}, 'paths': {}, 'shim': {}});\n      root._bokeh_is_loading = css_urls.length + 0;\n    } else {\n      root._bokeh_is_loading = css_urls.length + js_urls.length + js_modules.length + Object.keys(js_exports).length;\n    }\n\n    var existing_stylesheets = []\n    var links = document.getElementsByTagName('link')\n    for (var i = 0; i < links.length; i++) {\n      var link = links[i]\n      if (link.href != null) {\n\texisting_stylesheets.push(link.href)\n      }\n    }\n    for (var i = 0; i < css_urls.length; i++) {\n      var url = css_urls[i];\n      if (existing_stylesheets.indexOf(url) !== -1) {\n\ton_load()\n\tcontinue;\n      }\n      const element = document.createElement(\"link\");\n      element.onload = on_load;\n      element.onerror = on_error;\n      element.rel = \"stylesheet\";\n      element.type = \"text/css\";\n      element.href = url;\n      console.debug(\"Bokeh: injecting link tag for BokehJS stylesheet: \", url);\n      document.body.appendChild(element);\n    }    var existing_scripts = []\n    var scripts = document.getElementsByTagName('script')\n    for (var i = 0; i < scripts.length; i++) {\n      var script = scripts[i]\n      if (script.src != null) {\n\texisting_scripts.push(script.src)\n      }\n    }\n    for (var i = 0; i < js_urls.length; i++) {\n      var url = js_urls[i];\n      if (skip.indexOf(url) !== -1 || existing_scripts.indexOf(url) !== -1) {\n\tif (!window.requirejs) {\n\t  on_load();\n\t}\n\tcontinue;\n      }\n      var element = document.createElement('script');\n      element.onload = on_load;\n      element.onerror = on_error;\n      element.async = false;\n      element.src = url;\n      console.debug(\"Bokeh: injecting script tag for BokehJS library: \", url);\n      document.head.appendChild(element);\n    }\n    for (var i = 0; i < js_modules.length; i++) {\n      var url = js_modules[i];\n      if (skip.indexOf(url) !== -1 || existing_scripts.indexOf(url) !== -1) {\n\tif (!window.requirejs) {\n\t  on_load();\n\t}\n\tcontinue;\n      }\n      var element = document.createElement('script');\n      element.onload = on_load;\n      element.onerror = on_error;\n      element.async = false;\n      element.src = url;\n      element.type = \"module\";\n      console.debug(\"Bokeh: injecting script tag for BokehJS library: \", url);\n      document.head.appendChild(element);\n    }\n    for (const name in js_exports) {\n      var url = js_exports[name];\n      if (skip.indexOf(url) >= 0 || root[name] != null) {\n\tif (!window.requirejs) {\n\t  on_load();\n\t}\n\tcontinue;\n      }\n      var element = document.createElement('script');\n      element.onerror = on_error;\n      element.async = false;\n      element.type = \"module\";\n      console.debug(\"Bokeh: injecting script tag for BokehJS library: \", url);\n      element.textContent = `\n      import ${name} from \"${url}\"\n      window.${name} = ${name}\n      window._bokeh_on_load()\n      `\n      document.head.appendChild(element);\n    }\n    if (!js_urls.length && !js_modules.length) {\n      on_load()\n    }\n  };\n\n  function inject_raw_css(css) {\n    const element = document.createElement(\"style\");\n    element.appendChild(document.createTextNode(css));\n    document.body.appendChild(element);\n  }\n\n  var js_urls = [\"https://cdn.bokeh.org/bokeh/release/bokeh-3.4.1.min.js\", \"https://cdn.bokeh.org/bokeh/release/bokeh-gl-3.4.1.min.js\", \"https://cdn.bokeh.org/bokeh/release/bokeh-widgets-3.4.1.min.js\", \"https://cdn.bokeh.org/bokeh/release/bokeh-tables-3.4.1.min.js\", \"https://cdn.holoviz.org/panel/1.4.2/dist/panel.min.js\"];\n  var js_modules = [];\n  var js_exports = {};\n  var css_urls = [];\n  var inline_js = [    function(Bokeh) {\n      Bokeh.set_log_level(\"info\");\n    },\nfunction(Bokeh) {} // ensure no trailing comma for IE\n  ];\n\n  function run_inline_js() {\n    if ((root.Bokeh !== undefined) || (force === true)) {\n      for (var i = 0; i < inline_js.length; i++) {\n\ttry {\n          inline_js[i].call(root, root.Bokeh);\n\t} catch(e) {\n\t  if (!reloading) {\n\t    throw e;\n\t  }\n\t}\n      }\n      // Cache old bokeh versions\n      if (Bokeh != undefined && !reloading) {\n\tvar NewBokeh = root.Bokeh;\n\tif (Bokeh.versions === undefined) {\n\t  Bokeh.versions = new Map();\n\t}\n\tif (NewBokeh.version !== Bokeh.version) {\n\t  Bokeh.versions.set(NewBokeh.version, NewBokeh)\n\t}\n\troot.Bokeh = Bokeh;\n      }} else if (Date.now() < root._bokeh_timeout) {\n      setTimeout(run_inline_js, 100);\n    } else if (!root._bokeh_failed_load) {\n      console.log(\"Bokeh: BokehJS failed to load within specified timeout.\");\n      root._bokeh_failed_load = true;\n    }\n    root._bokeh_is_initializing = false\n  }\n\n  function load_or_wait() {\n    // Implement a backoff loop that tries to ensure we do not load multiple\n    // versions of Bokeh and its dependencies at the same time.\n    // In recent versions we use the root._bokeh_is_initializing flag\n    // to determine whether there is an ongoing attempt to initialize\n    // bokeh, however for backward compatibility we also try to ensure\n    // that we do not start loading a newer (Panel>=1.0 and Bokeh>3) version\n    // before older versions are fully initialized.\n    if (root._bokeh_is_initializing && Date.now() > root._bokeh_timeout) {\n      root._bokeh_is_initializing = false;\n      root._bokeh_onload_callbacks = undefined;\n      console.log(\"Bokeh: BokehJS was loaded multiple times but one version failed to initialize.\");\n      load_or_wait();\n    } else if (root._bokeh_is_initializing || (typeof root._bokeh_is_initializing === \"undefined\" && root._bokeh_onload_callbacks !== undefined)) {\n      setTimeout(load_or_wait, 100);\n    } else {\n      root._bokeh_is_initializing = true\n      root._bokeh_onload_callbacks = []\n      var bokeh_loaded = Bokeh != null && (Bokeh.version === py_version || (Bokeh.versions !== undefined && Bokeh.versions.has(py_version)));\n      if (!reloading && !bokeh_loaded) {\n\troot.Bokeh = undefined;\n      }\n      load_libs(css_urls, js_urls, js_modules, js_exports, function() {\n\tconsole.debug(\"Bokeh: BokehJS plotting callback run at\", now());\n\trun_inline_js();\n      });\n    }\n  }\n  // Give older versions of the autoload script a head-start to ensure\n  // they initialize before we start loading newer version.\n  setTimeout(load_or_wait, 100)\n}(window));"
     },
     "metadata": {},
     "output_type": "display_data"
    },
    {
     "data": {
      "application/javascript": [
       "\n",
       "if ((window.PyViz === undefined) || (window.PyViz instanceof HTMLElement)) {\n",
       "  window.PyViz = {comms: {}, comm_status:{}, kernels:{}, receivers: {}, plot_index: []}\n",
       "}\n",
       "\n",
       "\n",
       "    function JupyterCommManager() {\n",
       "    }\n",
       "\n",
       "    JupyterCommManager.prototype.register_target = function(plot_id, comm_id, msg_handler) {\n",
       "      if (window.comm_manager || ((window.Jupyter !== undefined) && (Jupyter.notebook.kernel != null))) {\n",
       "        var comm_manager = window.comm_manager || Jupyter.notebook.kernel.comm_manager;\n",
       "        comm_manager.register_target(comm_id, function(comm) {\n",
       "          comm.on_msg(msg_handler);\n",
       "        });\n",
       "      } else if ((plot_id in window.PyViz.kernels) && (window.PyViz.kernels[plot_id])) {\n",
       "        window.PyViz.kernels[plot_id].registerCommTarget(comm_id, function(comm) {\n",
       "          comm.onMsg = msg_handler;\n",
       "        });\n",
       "      } else if (typeof google != 'undefined' && google.colab.kernel != null) {\n",
       "        google.colab.kernel.comms.registerTarget(comm_id, (comm) => {\n",
       "          var messages = comm.messages[Symbol.asyncIterator]();\n",
       "          function processIteratorResult(result) {\n",
       "            var message = result.value;\n",
       "            console.log(message)\n",
       "            var content = {data: message.data, comm_id};\n",
       "            var buffers = []\n",
       "            for (var buffer of message.buffers || []) {\n",
       "              buffers.push(new DataView(buffer))\n",
       "            }\n",
       "            var metadata = message.metadata || {};\n",
       "            var msg = {content, buffers, metadata}\n",
       "            msg_handler(msg);\n",
       "            return messages.next().then(processIteratorResult);\n",
       "          }\n",
       "          return messages.next().then(processIteratorResult);\n",
       "        })\n",
       "      }\n",
       "    }\n",
       "\n",
       "    JupyterCommManager.prototype.get_client_comm = function(plot_id, comm_id, msg_handler) {\n",
       "      if (comm_id in window.PyViz.comms) {\n",
       "        return window.PyViz.comms[comm_id];\n",
       "      } else if (window.comm_manager || ((window.Jupyter !== undefined) && (Jupyter.notebook.kernel != null))) {\n",
       "        var comm_manager = window.comm_manager || Jupyter.notebook.kernel.comm_manager;\n",
       "        var comm = comm_manager.new_comm(comm_id, {}, {}, {}, comm_id);\n",
       "        if (msg_handler) {\n",
       "          comm.on_msg(msg_handler);\n",
       "        }\n",
       "      } else if ((plot_id in window.PyViz.kernels) && (window.PyViz.kernels[plot_id])) {\n",
       "        var comm = window.PyViz.kernels[plot_id].connectToComm(comm_id);\n",
       "        comm.open();\n",
       "        if (msg_handler) {\n",
       "          comm.onMsg = msg_handler;\n",
       "        }\n",
       "      } else if (typeof google != 'undefined' && google.colab.kernel != null) {\n",
       "        var comm_promise = google.colab.kernel.comms.open(comm_id)\n",
       "        comm_promise.then((comm) => {\n",
       "          window.PyViz.comms[comm_id] = comm;\n",
       "          if (msg_handler) {\n",
       "            var messages = comm.messages[Symbol.asyncIterator]();\n",
       "            function processIteratorResult(result) {\n",
       "              var message = result.value;\n",
       "              var content = {data: message.data};\n",
       "              var metadata = message.metadata || {comm_id};\n",
       "              var msg = {content, metadata}\n",
       "              msg_handler(msg);\n",
       "              return messages.next().then(processIteratorResult);\n",
       "            }\n",
       "            return messages.next().then(processIteratorResult);\n",
       "          }\n",
       "        }) \n",
       "        var sendClosure = (data, metadata, buffers, disposeOnDone) => {\n",
       "          return comm_promise.then((comm) => {\n",
       "            comm.send(data, metadata, buffers, disposeOnDone);\n",
       "          });\n",
       "        };\n",
       "        var comm = {\n",
       "          send: sendClosure\n",
       "        };\n",
       "      }\n",
       "      window.PyViz.comms[comm_id] = comm;\n",
       "      return comm;\n",
       "    }\n",
       "    window.PyViz.comm_manager = new JupyterCommManager();\n",
       "    \n",
       "\n",
       "\n",
       "var JS_MIME_TYPE = 'application/javascript';\n",
       "var HTML_MIME_TYPE = 'text/html';\n",
       "var EXEC_MIME_TYPE = 'application/vnd.holoviews_exec.v0+json';\n",
       "var CLASS_NAME = 'output';\n",
       "\n",
       "/**\n",
       " * Render data to the DOM node\n",
       " */\n",
       "function render(props, node) {\n",
       "  var div = document.createElement(\"div\");\n",
       "  var script = document.createElement(\"script\");\n",
       "  node.appendChild(div);\n",
       "  node.appendChild(script);\n",
       "}\n",
       "\n",
       "/**\n",
       " * Handle when a new output is added\n",
       " */\n",
       "function handle_add_output(event, handle) {\n",
       "  var output_area = handle.output_area;\n",
       "  var output = handle.output;\n",
       "  if ((output.data == undefined) || (!output.data.hasOwnProperty(EXEC_MIME_TYPE))) {\n",
       "    return\n",
       "  }\n",
       "  var id = output.metadata[EXEC_MIME_TYPE][\"id\"];\n",
       "  var toinsert = output_area.element.find(\".\" + CLASS_NAME.split(' ')[0]);\n",
       "  if (id !== undefined) {\n",
       "    var nchildren = toinsert.length;\n",
       "    var html_node = toinsert[nchildren-1].children[0];\n",
       "    html_node.innerHTML = output.data[HTML_MIME_TYPE];\n",
       "    var scripts = [];\n",
       "    var nodelist = html_node.querySelectorAll(\"script\");\n",
       "    for (var i in nodelist) {\n",
       "      if (nodelist.hasOwnProperty(i)) {\n",
       "        scripts.push(nodelist[i])\n",
       "      }\n",
       "    }\n",
       "\n",
       "    scripts.forEach( function (oldScript) {\n",
       "      var newScript = document.createElement(\"script\");\n",
       "      var attrs = [];\n",
       "      var nodemap = oldScript.attributes;\n",
       "      for (var j in nodemap) {\n",
       "        if (nodemap.hasOwnProperty(j)) {\n",
       "          attrs.push(nodemap[j])\n",
       "        }\n",
       "      }\n",
       "      attrs.forEach(function(attr) { newScript.setAttribute(attr.name, attr.value) });\n",
       "      newScript.appendChild(document.createTextNode(oldScript.innerHTML));\n",
       "      oldScript.parentNode.replaceChild(newScript, oldScript);\n",
       "    });\n",
       "    if (JS_MIME_TYPE in output.data) {\n",
       "      toinsert[nchildren-1].children[1].textContent = output.data[JS_MIME_TYPE];\n",
       "    }\n",
       "    output_area._hv_plot_id = id;\n",
       "    if ((window.Bokeh !== undefined) && (id in Bokeh.index)) {\n",
       "      window.PyViz.plot_index[id] = Bokeh.index[id];\n",
       "    } else {\n",
       "      window.PyViz.plot_index[id] = null;\n",
       "    }\n",
       "  } else if (output.metadata[EXEC_MIME_TYPE][\"server_id\"] !== undefined) {\n",
       "    var bk_div = document.createElement(\"div\");\n",
       "    bk_div.innerHTML = output.data[HTML_MIME_TYPE];\n",
       "    var script_attrs = bk_div.children[0].attributes;\n",
       "    for (var i = 0; i < script_attrs.length; i++) {\n",
       "      toinsert[toinsert.length - 1].childNodes[1].setAttribute(script_attrs[i].name, script_attrs[i].value);\n",
       "    }\n",
       "    // store reference to server id on output_area\n",
       "    output_area._bokeh_server_id = output.metadata[EXEC_MIME_TYPE][\"server_id\"];\n",
       "  }\n",
       "}\n",
       "\n",
       "/**\n",
       " * Handle when an output is cleared or removed\n",
       " */\n",
       "function handle_clear_output(event, handle) {\n",
       "  var id = handle.cell.output_area._hv_plot_id;\n",
       "  var server_id = handle.cell.output_area._bokeh_server_id;\n",
       "  if (((id === undefined) || !(id in PyViz.plot_index)) && (server_id !== undefined)) { return; }\n",
       "  var comm = window.PyViz.comm_manager.get_client_comm(\"hv-extension-comm\", \"hv-extension-comm\", function () {});\n",
       "  if (server_id !== null) {\n",
       "    comm.send({event_type: 'server_delete', 'id': server_id});\n",
       "    return;\n",
       "  } else if (comm !== null) {\n",
       "    comm.send({event_type: 'delete', 'id': id});\n",
       "  }\n",
       "  delete PyViz.plot_index[id];\n",
       "  if ((window.Bokeh !== undefined) & (id in window.Bokeh.index)) {\n",
       "    var doc = window.Bokeh.index[id].model.document\n",
       "    doc.clear();\n",
       "    const i = window.Bokeh.documents.indexOf(doc);\n",
       "    if (i > -1) {\n",
       "      window.Bokeh.documents.splice(i, 1);\n",
       "    }\n",
       "  }\n",
       "}\n",
       "\n",
       "/**\n",
       " * Handle kernel restart event\n",
       " */\n",
       "function handle_kernel_cleanup(event, handle) {\n",
       "  delete PyViz.comms[\"hv-extension-comm\"];\n",
       "  window.PyViz.plot_index = {}\n",
       "}\n",
       "\n",
       "/**\n",
       " * Handle update_display_data messages\n",
       " */\n",
       "function handle_update_output(event, handle) {\n",
       "  handle_clear_output(event, {cell: {output_area: handle.output_area}})\n",
       "  handle_add_output(event, handle)\n",
       "}\n",
       "\n",
       "function register_renderer(events, OutputArea) {\n",
       "  function append_mime(data, metadata, element) {\n",
       "    // create a DOM node to render to\n",
       "    var toinsert = this.create_output_subarea(\n",
       "    metadata,\n",
       "    CLASS_NAME,\n",
       "    EXEC_MIME_TYPE\n",
       "    );\n",
       "    this.keyboard_manager.register_events(toinsert);\n",
       "    // Render to node\n",
       "    var props = {data: data, metadata: metadata[EXEC_MIME_TYPE]};\n",
       "    render(props, toinsert[0]);\n",
       "    element.append(toinsert);\n",
       "    return toinsert\n",
       "  }\n",
       "\n",
       "  events.on('output_added.OutputArea', handle_add_output);\n",
       "  events.on('output_updated.OutputArea', handle_update_output);\n",
       "  events.on('clear_output.CodeCell', handle_clear_output);\n",
       "  events.on('delete.Cell', handle_clear_output);\n",
       "  events.on('kernel_ready.Kernel', handle_kernel_cleanup);\n",
       "\n",
       "  OutputArea.prototype.register_mime_type(EXEC_MIME_TYPE, append_mime, {\n",
       "    safe: true,\n",
       "    index: 0\n",
       "  });\n",
       "}\n",
       "\n",
       "if (window.Jupyter !== undefined) {\n",
       "  try {\n",
       "    var events = require('base/js/events');\n",
       "    var OutputArea = require('notebook/js/outputarea').OutputArea;\n",
       "    if (OutputArea.prototype.mime_types().indexOf(EXEC_MIME_TYPE) == -1) {\n",
       "      register_renderer(events, OutputArea);\n",
       "    }\n",
       "  } catch(err) {\n",
       "  }\n",
       "}\n"
      ],
      "application/vnd.holoviews_load.v0+json": "\nif ((window.PyViz === undefined) || (window.PyViz instanceof HTMLElement)) {\n  window.PyViz = {comms: {}, comm_status:{}, kernels:{}, receivers: {}, plot_index: []}\n}\n\n\n    function JupyterCommManager() {\n    }\n\n    JupyterCommManager.prototype.register_target = function(plot_id, comm_id, msg_handler) {\n      if (window.comm_manager || ((window.Jupyter !== undefined) && (Jupyter.notebook.kernel != null))) {\n        var comm_manager = window.comm_manager || Jupyter.notebook.kernel.comm_manager;\n        comm_manager.register_target(comm_id, function(comm) {\n          comm.on_msg(msg_handler);\n        });\n      } else if ((plot_id in window.PyViz.kernels) && (window.PyViz.kernels[plot_id])) {\n        window.PyViz.kernels[plot_id].registerCommTarget(comm_id, function(comm) {\n          comm.onMsg = msg_handler;\n        });\n      } else if (typeof google != 'undefined' && google.colab.kernel != null) {\n        google.colab.kernel.comms.registerTarget(comm_id, (comm) => {\n          var messages = comm.messages[Symbol.asyncIterator]();\n          function processIteratorResult(result) {\n            var message = result.value;\n            console.log(message)\n            var content = {data: message.data, comm_id};\n            var buffers = []\n            for (var buffer of message.buffers || []) {\n              buffers.push(new DataView(buffer))\n            }\n            var metadata = message.metadata || {};\n            var msg = {content, buffers, metadata}\n            msg_handler(msg);\n            return messages.next().then(processIteratorResult);\n          }\n          return messages.next().then(processIteratorResult);\n        })\n      }\n    }\n\n    JupyterCommManager.prototype.get_client_comm = function(plot_id, comm_id, msg_handler) {\n      if (comm_id in window.PyViz.comms) {\n        return window.PyViz.comms[comm_id];\n      } else if (window.comm_manager || ((window.Jupyter !== undefined) && (Jupyter.notebook.kernel != null))) {\n        var comm_manager = window.comm_manager || Jupyter.notebook.kernel.comm_manager;\n        var comm = comm_manager.new_comm(comm_id, {}, {}, {}, comm_id);\n        if (msg_handler) {\n          comm.on_msg(msg_handler);\n        }\n      } else if ((plot_id in window.PyViz.kernels) && (window.PyViz.kernels[plot_id])) {\n        var comm = window.PyViz.kernels[plot_id].connectToComm(comm_id);\n        comm.open();\n        if (msg_handler) {\n          comm.onMsg = msg_handler;\n        }\n      } else if (typeof google != 'undefined' && google.colab.kernel != null) {\n        var comm_promise = google.colab.kernel.comms.open(comm_id)\n        comm_promise.then((comm) => {\n          window.PyViz.comms[comm_id] = comm;\n          if (msg_handler) {\n            var messages = comm.messages[Symbol.asyncIterator]();\n            function processIteratorResult(result) {\n              var message = result.value;\n              var content = {data: message.data};\n              var metadata = message.metadata || {comm_id};\n              var msg = {content, metadata}\n              msg_handler(msg);\n              return messages.next().then(processIteratorResult);\n            }\n            return messages.next().then(processIteratorResult);\n          }\n        }) \n        var sendClosure = (data, metadata, buffers, disposeOnDone) => {\n          return comm_promise.then((comm) => {\n            comm.send(data, metadata, buffers, disposeOnDone);\n          });\n        };\n        var comm = {\n          send: sendClosure\n        };\n      }\n      window.PyViz.comms[comm_id] = comm;\n      return comm;\n    }\n    window.PyViz.comm_manager = new JupyterCommManager();\n    \n\n\nvar JS_MIME_TYPE = 'application/javascript';\nvar HTML_MIME_TYPE = 'text/html';\nvar EXEC_MIME_TYPE = 'application/vnd.holoviews_exec.v0+json';\nvar CLASS_NAME = 'output';\n\n/**\n * Render data to the DOM node\n */\nfunction render(props, node) {\n  var div = document.createElement(\"div\");\n  var script = document.createElement(\"script\");\n  node.appendChild(div);\n  node.appendChild(script);\n}\n\n/**\n * Handle when a new output is added\n */\nfunction handle_add_output(event, handle) {\n  var output_area = handle.output_area;\n  var output = handle.output;\n  if ((output.data == undefined) || (!output.data.hasOwnProperty(EXEC_MIME_TYPE))) {\n    return\n  }\n  var id = output.metadata[EXEC_MIME_TYPE][\"id\"];\n  var toinsert = output_area.element.find(\".\" + CLASS_NAME.split(' ')[0]);\n  if (id !== undefined) {\n    var nchildren = toinsert.length;\n    var html_node = toinsert[nchildren-1].children[0];\n    html_node.innerHTML = output.data[HTML_MIME_TYPE];\n    var scripts = [];\n    var nodelist = html_node.querySelectorAll(\"script\");\n    for (var i in nodelist) {\n      if (nodelist.hasOwnProperty(i)) {\n        scripts.push(nodelist[i])\n      }\n    }\n\n    scripts.forEach( function (oldScript) {\n      var newScript = document.createElement(\"script\");\n      var attrs = [];\n      var nodemap = oldScript.attributes;\n      for (var j in nodemap) {\n        if (nodemap.hasOwnProperty(j)) {\n          attrs.push(nodemap[j])\n        }\n      }\n      attrs.forEach(function(attr) { newScript.setAttribute(attr.name, attr.value) });\n      newScript.appendChild(document.createTextNode(oldScript.innerHTML));\n      oldScript.parentNode.replaceChild(newScript, oldScript);\n    });\n    if (JS_MIME_TYPE in output.data) {\n      toinsert[nchildren-1].children[1].textContent = output.data[JS_MIME_TYPE];\n    }\n    output_area._hv_plot_id = id;\n    if ((window.Bokeh !== undefined) && (id in Bokeh.index)) {\n      window.PyViz.plot_index[id] = Bokeh.index[id];\n    } else {\n      window.PyViz.plot_index[id] = null;\n    }\n  } else if (output.metadata[EXEC_MIME_TYPE][\"server_id\"] !== undefined) {\n    var bk_div = document.createElement(\"div\");\n    bk_div.innerHTML = output.data[HTML_MIME_TYPE];\n    var script_attrs = bk_div.children[0].attributes;\n    for (var i = 0; i < script_attrs.length; i++) {\n      toinsert[toinsert.length - 1].childNodes[1].setAttribute(script_attrs[i].name, script_attrs[i].value);\n    }\n    // store reference to server id on output_area\n    output_area._bokeh_server_id = output.metadata[EXEC_MIME_TYPE][\"server_id\"];\n  }\n}\n\n/**\n * Handle when an output is cleared or removed\n */\nfunction handle_clear_output(event, handle) {\n  var id = handle.cell.output_area._hv_plot_id;\n  var server_id = handle.cell.output_area._bokeh_server_id;\n  if (((id === undefined) || !(id in PyViz.plot_index)) && (server_id !== undefined)) { return; }\n  var comm = window.PyViz.comm_manager.get_client_comm(\"hv-extension-comm\", \"hv-extension-comm\", function () {});\n  if (server_id !== null) {\n    comm.send({event_type: 'server_delete', 'id': server_id});\n    return;\n  } else if (comm !== null) {\n    comm.send({event_type: 'delete', 'id': id});\n  }\n  delete PyViz.plot_index[id];\n  if ((window.Bokeh !== undefined) & (id in window.Bokeh.index)) {\n    var doc = window.Bokeh.index[id].model.document\n    doc.clear();\n    const i = window.Bokeh.documents.indexOf(doc);\n    if (i > -1) {\n      window.Bokeh.documents.splice(i, 1);\n    }\n  }\n}\n\n/**\n * Handle kernel restart event\n */\nfunction handle_kernel_cleanup(event, handle) {\n  delete PyViz.comms[\"hv-extension-comm\"];\n  window.PyViz.plot_index = {}\n}\n\n/**\n * Handle update_display_data messages\n */\nfunction handle_update_output(event, handle) {\n  handle_clear_output(event, {cell: {output_area: handle.output_area}})\n  handle_add_output(event, handle)\n}\n\nfunction register_renderer(events, OutputArea) {\n  function append_mime(data, metadata, element) {\n    // create a DOM node to render to\n    var toinsert = this.create_output_subarea(\n    metadata,\n    CLASS_NAME,\n    EXEC_MIME_TYPE\n    );\n    this.keyboard_manager.register_events(toinsert);\n    // Render to node\n    var props = {data: data, metadata: metadata[EXEC_MIME_TYPE]};\n    render(props, toinsert[0]);\n    element.append(toinsert);\n    return toinsert\n  }\n\n  events.on('output_added.OutputArea', handle_add_output);\n  events.on('output_updated.OutputArea', handle_update_output);\n  events.on('clear_output.CodeCell', handle_clear_output);\n  events.on('delete.Cell', handle_clear_output);\n  events.on('kernel_ready.Kernel', handle_kernel_cleanup);\n\n  OutputArea.prototype.register_mime_type(EXEC_MIME_TYPE, append_mime, {\n    safe: true,\n    index: 0\n  });\n}\n\nif (window.Jupyter !== undefined) {\n  try {\n    var events = require('base/js/events');\n    var OutputArea = require('notebook/js/outputarea').OutputArea;\n    if (OutputArea.prototype.mime_types().indexOf(EXEC_MIME_TYPE) == -1) {\n      register_renderer(events, OutputArea);\n    }\n  } catch(err) {\n  }\n}\n"
     },
     "metadata": {},
     "output_type": "display_data"
    },
    {
     "data": {
      "text/html": [
       "<style>*[data-root-id],\n",
       "*[data-root-id] > * {\n",
       "  box-sizing: border-box;\n",
       "  font-family: var(--jp-ui-font-family);\n",
       "  font-size: var(--jp-ui-font-size1);\n",
       "  color: var(--vscode-editor-foreground, var(--jp-ui-font-color1));\n",
       "}\n",
       "\n",
       "/* Override VSCode background color */\n",
       ".cell-output-ipywidget-background:has(\n",
       "    > .cell-output-ipywidget-background > .lm-Widget > *[data-root-id]\n",
       "  ),\n",
       ".cell-output-ipywidget-background:has(> .lm-Widget > *[data-root-id]) {\n",
       "  background-color: transparent !important;\n",
       "}\n",
       "</style>"
      ]
     },
     "metadata": {},
     "output_type": "display_data"
    },
    {
     "data": {
      "application/vnd.holoviews_exec.v0+json": "",
      "text/html": [
       "<div id='p1002'>\n",
       "  <div id=\"e1e49c2d-5344-49f2-a2fa-85270a1c56ce\" data-root-id=\"p1002\" style=\"display: contents;\"></div>\n",
       "</div>\n",
       "<script type=\"application/javascript\">(function(root) {\n",
       "  var docs_json = {\"19acfbe5-e9b9-4c4d-866f-33f1c871a010\":{\"version\":\"3.4.1\",\"title\":\"Bokeh Application\",\"roots\":[{\"type\":\"object\",\"name\":\"panel.models.browser.BrowserInfo\",\"id\":\"p1002\"},{\"type\":\"object\",\"name\":\"panel.models.comm_manager.CommManager\",\"id\":\"p1003\",\"attributes\":{\"plot_id\":\"p1002\",\"comm_id\":\"abf73cac6b2a4b79b83dfe7104dcd31f\",\"client_comm_id\":\"5331037a2c6a47c388e6e4ecadec0387\"}}],\"defs\":[{\"type\":\"model\",\"name\":\"ReactiveHTML1\"},{\"type\":\"model\",\"name\":\"FlexBox1\",\"properties\":[{\"name\":\"align_content\",\"kind\":\"Any\",\"default\":\"flex-start\"},{\"name\":\"align_items\",\"kind\":\"Any\",\"default\":\"flex-start\"},{\"name\":\"flex_direction\",\"kind\":\"Any\",\"default\":\"row\"},{\"name\":\"flex_wrap\",\"kind\":\"Any\",\"default\":\"wrap\"},{\"name\":\"gap\",\"kind\":\"Any\",\"default\":\"\"},{\"name\":\"justify_content\",\"kind\":\"Any\",\"default\":\"flex-start\"}]},{\"type\":\"model\",\"name\":\"FloatPanel1\",\"properties\":[{\"name\":\"config\",\"kind\":\"Any\",\"default\":{\"type\":\"map\"}},{\"name\":\"contained\",\"kind\":\"Any\",\"default\":true},{\"name\":\"position\",\"kind\":\"Any\",\"default\":\"right-top\"},{\"name\":\"offsetx\",\"kind\":\"Any\",\"default\":null},{\"name\":\"offsety\",\"kind\":\"Any\",\"default\":null},{\"name\":\"theme\",\"kind\":\"Any\",\"default\":\"primary\"},{\"name\":\"status\",\"kind\":\"Any\",\"default\":\"normalized\"}]},{\"type\":\"model\",\"name\":\"GridStack1\",\"properties\":[{\"name\":\"mode\",\"kind\":\"Any\",\"default\":\"warn\"},{\"name\":\"ncols\",\"kind\":\"Any\",\"default\":null},{\"name\":\"nrows\",\"kind\":\"Any\",\"default\":null},{\"name\":\"allow_resize\",\"kind\":\"Any\",\"default\":true},{\"name\":\"allow_drag\",\"kind\":\"Any\",\"default\":true},{\"name\":\"state\",\"kind\":\"Any\",\"default\":[]}]},{\"type\":\"model\",\"name\":\"drag1\",\"properties\":[{\"name\":\"slider_width\",\"kind\":\"Any\",\"default\":5},{\"name\":\"slider_color\",\"kind\":\"Any\",\"default\":\"black\"},{\"name\":\"value\",\"kind\":\"Any\",\"default\":50}]},{\"type\":\"model\",\"name\":\"click1\",\"properties\":[{\"name\":\"terminal_output\",\"kind\":\"Any\",\"default\":\"\"},{\"name\":\"debug_name\",\"kind\":\"Any\",\"default\":\"\"},{\"name\":\"clears\",\"kind\":\"Any\",\"default\":0}]},{\"type\":\"model\",\"name\":\"FastWrapper1\",\"properties\":[{\"name\":\"object\",\"kind\":\"Any\",\"default\":null},{\"name\":\"style\",\"kind\":\"Any\",\"default\":null}]},{\"type\":\"model\",\"name\":\"NotificationAreaBase1\",\"properties\":[{\"name\":\"js_events\",\"kind\":\"Any\",\"default\":{\"type\":\"map\"}},{\"name\":\"position\",\"kind\":\"Any\",\"default\":\"bottom-right\"},{\"name\":\"_clear\",\"kind\":\"Any\",\"default\":0}]},{\"type\":\"model\",\"name\":\"NotificationArea1\",\"properties\":[{\"name\":\"js_events\",\"kind\":\"Any\",\"default\":{\"type\":\"map\"}},{\"name\":\"notifications\",\"kind\":\"Any\",\"default\":[]},{\"name\":\"position\",\"kind\":\"Any\",\"default\":\"bottom-right\"},{\"name\":\"_clear\",\"kind\":\"Any\",\"default\":0},{\"name\":\"types\",\"kind\":\"Any\",\"default\":[{\"type\":\"map\",\"entries\":[[\"type\",\"warning\"],[\"background\",\"#ffc107\"],[\"icon\",{\"type\":\"map\",\"entries\":[[\"className\",\"fas fa-exclamation-triangle\"],[\"tagName\",\"i\"],[\"color\",\"white\"]]}]]},{\"type\":\"map\",\"entries\":[[\"type\",\"info\"],[\"background\",\"#007bff\"],[\"icon\",{\"type\":\"map\",\"entries\":[[\"className\",\"fas fa-info-circle\"],[\"tagName\",\"i\"],[\"color\",\"white\"]]}]]}]}]},{\"type\":\"model\",\"name\":\"Notification\",\"properties\":[{\"name\":\"background\",\"kind\":\"Any\",\"default\":null},{\"name\":\"duration\",\"kind\":\"Any\",\"default\":3000},{\"name\":\"icon\",\"kind\":\"Any\",\"default\":null},{\"name\":\"message\",\"kind\":\"Any\",\"default\":\"\"},{\"name\":\"notification_type\",\"kind\":\"Any\",\"default\":null},{\"name\":\"_destroyed\",\"kind\":\"Any\",\"default\":false}]},{\"type\":\"model\",\"name\":\"TemplateActions1\",\"properties\":[{\"name\":\"open_modal\",\"kind\":\"Any\",\"default\":0},{\"name\":\"close_modal\",\"kind\":\"Any\",\"default\":0}]},{\"type\":\"model\",\"name\":\"BootstrapTemplateActions1\",\"properties\":[{\"name\":\"open_modal\",\"kind\":\"Any\",\"default\":0},{\"name\":\"close_modal\",\"kind\":\"Any\",\"default\":0}]},{\"type\":\"model\",\"name\":\"TemplateEditor1\",\"properties\":[{\"name\":\"layout\",\"kind\":\"Any\",\"default\":[]}]},{\"type\":\"model\",\"name\":\"MaterialTemplateActions1\",\"properties\":[{\"name\":\"open_modal\",\"kind\":\"Any\",\"default\":0},{\"name\":\"close_modal\",\"kind\":\"Any\",\"default\":0}]},{\"type\":\"model\",\"name\":\"copy_to_clipboard1\",\"properties\":[{\"name\":\"fill\",\"kind\":\"Any\",\"default\":\"none\"},{\"name\":\"value\",\"kind\":\"Any\",\"default\":null}]}]}};\n",
       "  var render_items = [{\"docid\":\"19acfbe5-e9b9-4c4d-866f-33f1c871a010\",\"roots\":{\"p1002\":\"e1e49c2d-5344-49f2-a2fa-85270a1c56ce\"},\"root_ids\":[\"p1002\"]}];\n",
       "  var docs = Object.values(docs_json)\n",
       "  if (!docs) {\n",
       "    return\n",
       "  }\n",
       "  const py_version = docs[0].version.replace('rc', '-rc.').replace('.dev', '-dev.')\n",
       "  function embed_document(root) {\n",
       "    var Bokeh = get_bokeh(root)\n",
       "    Bokeh.embed.embed_items_notebook(docs_json, render_items);\n",
       "    for (const render_item of render_items) {\n",
       "      for (const root_id of render_item.root_ids) {\n",
       "\tconst id_el = document.getElementById(root_id)\n",
       "\tif (id_el.children.length && (id_el.children[0].className === 'bk-root')) {\n",
       "\t  const root_el = id_el.children[0]\n",
       "\t  root_el.id = root_el.id + '-rendered'\n",
       "\t}\n",
       "      }\n",
       "    }\n",
       "  }\n",
       "  function get_bokeh(root) {\n",
       "    if (root.Bokeh === undefined) {\n",
       "      return null\n",
       "    } else if (root.Bokeh.version !== py_version) {\n",
       "      if (root.Bokeh.versions === undefined || !root.Bokeh.versions.has(py_version)) {\n",
       "\treturn null\n",
       "      }\n",
       "      return root.Bokeh.versions.get(py_version);\n",
       "    } else if (root.Bokeh.version === py_version) {\n",
       "      return root.Bokeh\n",
       "    }\n",
       "    return null\n",
       "  }\n",
       "  function is_loaded(root) {\n",
       "    var Bokeh = get_bokeh(root)\n",
       "    return (Bokeh != null && Bokeh.Panel !== undefined)\n",
       "  }\n",
       "  if (is_loaded(root)) {\n",
       "    embed_document(root);\n",
       "  } else {\n",
       "    var attempts = 0;\n",
       "    var timer = setInterval(function(root) {\n",
       "      if (is_loaded(root)) {\n",
       "        clearInterval(timer);\n",
       "        embed_document(root);\n",
       "      } else if (document.readyState == \"complete\") {\n",
       "        attempts++;\n",
       "        if (attempts > 200) {\n",
       "          clearInterval(timer);\n",
       "\t  var Bokeh = get_bokeh(root)\n",
       "\t  if (Bokeh == null || Bokeh.Panel == null) {\n",
       "            console.warn(\"Panel: ERROR: Unable to run Panel code because Bokeh or Panel library is missing\");\n",
       "\t  } else {\n",
       "\t    console.warn(\"Panel: WARNING: Attempting to render but not all required libraries could be resolved.\")\n",
       "\t    embed_document(root)\n",
       "\t  }\n",
       "        }\n",
       "      }\n",
       "    }, 25, root)\n",
       "  }\n",
       "})(window);</script>"
      ]
     },
     "metadata": {
      "application/vnd.holoviews_exec.v0+json": {
       "id": "p1002"
      }
     },
     "output_type": "display_data"
    },
    {
     "data": {},
     "metadata": {},
     "output_type": "display_data"
    },
    {
     "data": {
      "application/vnd.holoviews_exec.v0+json": "",
      "text/html": [
       "<div id='p1004'>\n",
       "  <div id=\"e7659ec2-27bd-4500-9e42-de36868bb1f5\" data-root-id=\"p1004\" style=\"display: contents;\"></div>\n",
       "</div>\n",
       "<script type=\"application/javascript\">(function(root) {\n",
       "  var docs_json = {\"01e20f6d-f76b-46f7-a305-8e5fcae69e32\":{\"version\":\"3.4.1\",\"title\":\"Bokeh Application\",\"roots\":[{\"type\":\"object\",\"name\":\"Row\",\"id\":\"p1004\",\"attributes\":{\"name\":\"Row00938\",\"tags\":[\"embedded\"],\"stylesheets\":[\"\\n:host(.pn-loading):before, .pn-loading:before {\\n  background-color: #c3c3c3;\\n  mask-size: auto calc(min(50%, 400px));\\n  -webkit-mask-size: auto calc(min(50%, 400px));\\n}\",{\"type\":\"object\",\"name\":\"ImportedStyleSheet\",\"id\":\"p1007\",\"attributes\":{\"url\":\"https://cdn.holoviz.org/panel/1.4.2/dist/css/loading.css\"}},{\"type\":\"object\",\"name\":\"ImportedStyleSheet\",\"id\":\"p1063\",\"attributes\":{\"url\":\"https://cdn.holoviz.org/panel/1.4.2/dist/css/listpanel.css\"}},{\"type\":\"object\",\"name\":\"ImportedStyleSheet\",\"id\":\"p1005\",\"attributes\":{\"url\":\"https://cdn.holoviz.org/panel/1.4.2/dist/bundled/theme/default.css\"}},{\"type\":\"object\",\"name\":\"ImportedStyleSheet\",\"id\":\"p1006\",\"attributes\":{\"url\":\"https://cdn.holoviz.org/panel/1.4.2/dist/bundled/theme/native.css\"}}],\"min_width\":700,\"margin\":0,\"sizing_mode\":\"stretch_width\",\"align\":\"start\",\"children\":[{\"type\":\"object\",\"name\":\"Spacer\",\"id\":\"p1008\",\"attributes\":{\"name\":\"HSpacer00945\",\"stylesheets\":[\"\\n:host(.pn-loading):before, .pn-loading:before {\\n  background-color: #c3c3c3;\\n  mask-size: auto calc(min(50%, 400px));\\n  -webkit-mask-size: auto calc(min(50%, 400px));\\n}\",{\"id\":\"p1007\"},{\"id\":\"p1005\"},{\"id\":\"p1006\"}],\"margin\":0,\"sizing_mode\":\"stretch_width\",\"align\":\"start\"}},{\"type\":\"object\",\"name\":\"Figure\",\"id\":\"p1016\",\"attributes\":{\"width\":700,\"height\":300,\"margin\":[5,10],\"sizing_mode\":\"fixed\",\"align\":\"start\",\"x_range\":{\"type\":\"object\",\"name\":\"FactorRange\",\"id\":\"p1009\",\"attributes\":{\"tags\":[[[\"groups\",\"groups\",null]],[]],\"factors\":[\"A\",\"B\",\"C\"]}},\"y_range\":{\"type\":\"object\",\"name\":\"Range1d\",\"id\":\"p1010\",\"attributes\":{\"tags\":[[[\"random\",\"random\",null]],{\"type\":\"map\",\"entries\":[[\"invert_yaxis\",false],[\"autorange\",false]]}],\"end\":1.03,\"reset_start\":0.0,\"reset_end\":1.03}},\"x_scale\":{\"type\":\"object\",\"name\":\"CategoricalScale\",\"id\":\"p1026\"},\"y_scale\":{\"type\":\"object\",\"name\":\"LinearScale\",\"id\":\"p1027\"},\"title\":{\"type\":\"object\",\"name\":\"Title\",\"id\":\"p1019\",\"attributes\":{\"text_color\":\"black\",\"text_font_size\":\"12pt\"}},\"renderers\":[{\"type\":\"object\",\"name\":\"GlyphRenderer\",\"id\":\"p1056\",\"attributes\":{\"data_source\":{\"type\":\"object\",\"name\":\"ColumnDataSource\",\"id\":\"p1047\",\"attributes\":{\"selected\":{\"type\":\"object\",\"name\":\"Selection\",\"id\":\"p1048\",\"attributes\":{\"indices\":[],\"line_indices\":[]}},\"selection_policy\":{\"type\":\"object\",\"name\":\"UnionRenderers\",\"id\":\"p1049\"},\"data\":{\"type\":\"map\",\"entries\":[[\"groups\",[\"A\",\"B\",\"C\"]],[\"random\",{\"type\":\"ndarray\",\"array\":{\"type\":\"bytes\",\"data\":\"AAAAAAAA8D9mZmZmZmbmP83MzMzMzOw/\"},\"shape\":[3],\"dtype\":\"float64\",\"order\":\"little\"}]]}}},\"view\":{\"type\":\"object\",\"name\":\"CDSView\",\"id\":\"p1057\",\"attributes\":{\"filter\":{\"type\":\"object\",\"name\":\"AllIndices\",\"id\":\"p1058\"}}},\"glyph\":{\"type\":\"object\",\"name\":\"VBar\",\"id\":\"p1053\",\"attributes\":{\"tags\":[\"apply_ranges\"],\"x\":{\"type\":\"field\",\"field\":\"groups\"},\"width\":{\"type\":\"value\",\"value\":0.8},\"top\":{\"type\":\"field\",\"field\":\"random\"},\"fill_color\":{\"type\":\"value\",\"value\":\"#30a2da\"},\"hatch_color\":{\"type\":\"value\",\"value\":\"#30a2da\"}}},\"selection_glyph\":{\"type\":\"object\",\"name\":\"VBar\",\"id\":\"p1059\",\"attributes\":{\"tags\":[\"apply_ranges\"],\"x\":{\"type\":\"field\",\"field\":\"groups\"},\"width\":{\"type\":\"value\",\"value\":0.8},\"bottom\":{\"type\":\"value\",\"value\":0},\"top\":{\"type\":\"field\",\"field\":\"random\"},\"line_color\":{\"type\":\"value\",\"value\":\"black\"},\"line_alpha\":{\"type\":\"value\",\"value\":1.0},\"line_width\":{\"type\":\"value\",\"value\":1},\"line_join\":{\"type\":\"value\",\"value\":\"bevel\"},\"line_cap\":{\"type\":\"value\",\"value\":\"butt\"},\"line_dash\":{\"type\":\"value\",\"value\":[]},\"line_dash_offset\":{\"type\":\"value\",\"value\":0},\"fill_color\":{\"type\":\"value\",\"value\":\"#30a2da\"},\"fill_alpha\":{\"type\":\"value\",\"value\":1.0},\"hatch_color\":{\"type\":\"value\",\"value\":\"#30a2da\"},\"hatch_alpha\":{\"type\":\"value\",\"value\":1.0},\"hatch_scale\":{\"type\":\"value\",\"value\":12.0},\"hatch_pattern\":{\"type\":\"value\",\"value\":null},\"hatch_weight\":{\"type\":\"value\",\"value\":1.0}}},\"nonselection_glyph\":{\"type\":\"object\",\"name\":\"VBar\",\"id\":\"p1054\",\"attributes\":{\"tags\":[\"apply_ranges\"],\"x\":{\"type\":\"field\",\"field\":\"groups\"},\"width\":{\"type\":\"value\",\"value\":0.8},\"top\":{\"type\":\"field\",\"field\":\"random\"},\"line_alpha\":{\"type\":\"value\",\"value\":0.1},\"fill_color\":{\"type\":\"value\",\"value\":\"#30a2da\"},\"fill_alpha\":{\"type\":\"value\",\"value\":0.1},\"hatch_color\":{\"type\":\"value\",\"value\":\"#30a2da\"},\"hatch_alpha\":{\"type\":\"value\",\"value\":0.1}}},\"muted_glyph\":{\"type\":\"object\",\"name\":\"VBar\",\"id\":\"p1055\",\"attributes\":{\"tags\":[\"apply_ranges\"],\"x\":{\"type\":\"field\",\"field\":\"groups\"},\"width\":{\"type\":\"value\",\"value\":0.8},\"top\":{\"type\":\"field\",\"field\":\"random\"},\"line_alpha\":{\"type\":\"value\",\"value\":0.2},\"fill_color\":{\"type\":\"value\",\"value\":\"#30a2da\"},\"fill_alpha\":{\"type\":\"value\",\"value\":0.2},\"hatch_color\":{\"type\":\"value\",\"value\":\"#30a2da\"},\"hatch_alpha\":{\"type\":\"value\",\"value\":0.2}}}}}],\"toolbar\":{\"type\":\"object\",\"name\":\"Toolbar\",\"id\":\"p1025\",\"attributes\":{\"tools\":[{\"type\":\"object\",\"name\":\"WheelZoomTool\",\"id\":\"p1014\",\"attributes\":{\"tags\":[\"hv_created\"],\"renderers\":\"auto\",\"zoom_together\":\"none\"}},{\"type\":\"object\",\"name\":\"HoverTool\",\"id\":\"p1015\",\"attributes\":{\"tags\":[\"hv_created\"],\"renderers\":[{\"id\":\"p1056\"}],\"tooltips\":[[\"groups\",\"@{groups}\"],[\"random\",\"@{random}\"]]}},{\"type\":\"object\",\"name\":\"SaveTool\",\"id\":\"p1038\"},{\"type\":\"object\",\"name\":\"PanTool\",\"id\":\"p1039\"},{\"type\":\"object\",\"name\":\"BoxZoomTool\",\"id\":\"p1040\",\"attributes\":{\"overlay\":{\"type\":\"object\",\"name\":\"BoxAnnotation\",\"id\":\"p1041\",\"attributes\":{\"syncable\":false,\"level\":\"overlay\",\"visible\":false,\"left\":{\"type\":\"number\",\"value\":\"nan\"},\"right\":{\"type\":\"number\",\"value\":\"nan\"},\"top\":{\"type\":\"number\",\"value\":\"nan\"},\"bottom\":{\"type\":\"number\",\"value\":\"nan\"},\"left_units\":\"canvas\",\"right_units\":\"canvas\",\"top_units\":\"canvas\",\"bottom_units\":\"canvas\",\"line_color\":\"black\",\"line_alpha\":1.0,\"line_width\":2,\"line_dash\":[4,4],\"fill_color\":\"lightgrey\",\"fill_alpha\":0.5}}}},{\"type\":\"object\",\"name\":\"ResetTool\",\"id\":\"p1046\"}],\"active_drag\":{\"id\":\"p1039\"},\"active_scroll\":{\"id\":\"p1014\"}}},\"left\":[{\"type\":\"object\",\"name\":\"LinearAxis\",\"id\":\"p1033\",\"attributes\":{\"ticker\":{\"type\":\"object\",\"name\":\"BasicTicker\",\"id\":\"p1034\",\"attributes\":{\"mantissas\":[1,2,5]}},\"formatter\":{\"type\":\"object\",\"name\":\"BasicTickFormatter\",\"id\":\"p1035\"},\"axis_label\":\"random\",\"major_label_policy\":{\"type\":\"object\",\"name\":\"AllLabels\",\"id\":\"p1036\"}}}],\"below\":[{\"type\":\"object\",\"name\":\"CategoricalAxis\",\"id\":\"p1028\",\"attributes\":{\"ticker\":{\"type\":\"object\",\"name\":\"CategoricalTicker\",\"id\":\"p1029\"},\"formatter\":{\"type\":\"object\",\"name\":\"CategoricalTickFormatter\",\"id\":\"p1030\"},\"axis_label\":\"groups\",\"major_label_policy\":{\"type\":\"object\",\"name\":\"AllLabels\",\"id\":\"p1031\"}}}],\"center\":[{\"type\":\"object\",\"name\":\"Grid\",\"id\":\"p1032\",\"attributes\":{\"axis\":{\"id\":\"p1028\"},\"grid_line_color\":null}},{\"type\":\"object\",\"name\":\"Grid\",\"id\":\"p1037\",\"attributes\":{\"dimension\":1,\"axis\":{\"id\":\"p1033\"},\"grid_line_color\":null}}],\"min_border_top\":10,\"min_border_bottom\":10,\"min_border_left\":10,\"min_border_right\":10,\"output_backend\":\"webgl\"}},{\"type\":\"object\",\"name\":\"Spacer\",\"id\":\"p1061\",\"attributes\":{\"name\":\"HSpacer00946\",\"stylesheets\":[\"\\n:host(.pn-loading):before, .pn-loading:before {\\n  background-color: #c3c3c3;\\n  mask-size: auto calc(min(50%, 400px));\\n  -webkit-mask-size: auto calc(min(50%, 400px));\\n}\",{\"id\":\"p1007\"},{\"id\":\"p1005\"},{\"id\":\"p1006\"}],\"margin\":0,\"sizing_mode\":\"stretch_width\",\"align\":\"start\"}}]}}],\"defs\":[{\"type\":\"model\",\"name\":\"ReactiveHTML1\"},{\"type\":\"model\",\"name\":\"FlexBox1\",\"properties\":[{\"name\":\"align_content\",\"kind\":\"Any\",\"default\":\"flex-start\"},{\"name\":\"align_items\",\"kind\":\"Any\",\"default\":\"flex-start\"},{\"name\":\"flex_direction\",\"kind\":\"Any\",\"default\":\"row\"},{\"name\":\"flex_wrap\",\"kind\":\"Any\",\"default\":\"wrap\"},{\"name\":\"gap\",\"kind\":\"Any\",\"default\":\"\"},{\"name\":\"justify_content\",\"kind\":\"Any\",\"default\":\"flex-start\"}]},{\"type\":\"model\",\"name\":\"FloatPanel1\",\"properties\":[{\"name\":\"config\",\"kind\":\"Any\",\"default\":{\"type\":\"map\"}},{\"name\":\"contained\",\"kind\":\"Any\",\"default\":true},{\"name\":\"position\",\"kind\":\"Any\",\"default\":\"right-top\"},{\"name\":\"offsetx\",\"kind\":\"Any\",\"default\":null},{\"name\":\"offsety\",\"kind\":\"Any\",\"default\":null},{\"name\":\"theme\",\"kind\":\"Any\",\"default\":\"primary\"},{\"name\":\"status\",\"kind\":\"Any\",\"default\":\"normalized\"}]},{\"type\":\"model\",\"name\":\"GridStack1\",\"properties\":[{\"name\":\"mode\",\"kind\":\"Any\",\"default\":\"warn\"},{\"name\":\"ncols\",\"kind\":\"Any\",\"default\":null},{\"name\":\"nrows\",\"kind\":\"Any\",\"default\":null},{\"name\":\"allow_resize\",\"kind\":\"Any\",\"default\":true},{\"name\":\"allow_drag\",\"kind\":\"Any\",\"default\":true},{\"name\":\"state\",\"kind\":\"Any\",\"default\":[]}]},{\"type\":\"model\",\"name\":\"drag1\",\"properties\":[{\"name\":\"slider_width\",\"kind\":\"Any\",\"default\":5},{\"name\":\"slider_color\",\"kind\":\"Any\",\"default\":\"black\"},{\"name\":\"value\",\"kind\":\"Any\",\"default\":50}]},{\"type\":\"model\",\"name\":\"click1\",\"properties\":[{\"name\":\"terminal_output\",\"kind\":\"Any\",\"default\":\"\"},{\"name\":\"debug_name\",\"kind\":\"Any\",\"default\":\"\"},{\"name\":\"clears\",\"kind\":\"Any\",\"default\":0}]},{\"type\":\"model\",\"name\":\"FastWrapper1\",\"properties\":[{\"name\":\"object\",\"kind\":\"Any\",\"default\":null},{\"name\":\"style\",\"kind\":\"Any\",\"default\":null}]},{\"type\":\"model\",\"name\":\"NotificationAreaBase1\",\"properties\":[{\"name\":\"js_events\",\"kind\":\"Any\",\"default\":{\"type\":\"map\"}},{\"name\":\"position\",\"kind\":\"Any\",\"default\":\"bottom-right\"},{\"name\":\"_clear\",\"kind\":\"Any\",\"default\":0}]},{\"type\":\"model\",\"name\":\"NotificationArea1\",\"properties\":[{\"name\":\"js_events\",\"kind\":\"Any\",\"default\":{\"type\":\"map\"}},{\"name\":\"notifications\",\"kind\":\"Any\",\"default\":[]},{\"name\":\"position\",\"kind\":\"Any\",\"default\":\"bottom-right\"},{\"name\":\"_clear\",\"kind\":\"Any\",\"default\":0},{\"name\":\"types\",\"kind\":\"Any\",\"default\":[{\"type\":\"map\",\"entries\":[[\"type\",\"warning\"],[\"background\",\"#ffc107\"],[\"icon\",{\"type\":\"map\",\"entries\":[[\"className\",\"fas fa-exclamation-triangle\"],[\"tagName\",\"i\"],[\"color\",\"white\"]]}]]},{\"type\":\"map\",\"entries\":[[\"type\",\"info\"],[\"background\",\"#007bff\"],[\"icon\",{\"type\":\"map\",\"entries\":[[\"className\",\"fas fa-info-circle\"],[\"tagName\",\"i\"],[\"color\",\"white\"]]}]]}]}]},{\"type\":\"model\",\"name\":\"Notification\",\"properties\":[{\"name\":\"background\",\"kind\":\"Any\",\"default\":null},{\"name\":\"duration\",\"kind\":\"Any\",\"default\":3000},{\"name\":\"icon\",\"kind\":\"Any\",\"default\":null},{\"name\":\"message\",\"kind\":\"Any\",\"default\":\"\"},{\"name\":\"notification_type\",\"kind\":\"Any\",\"default\":null},{\"name\":\"_destroyed\",\"kind\":\"Any\",\"default\":false}]},{\"type\":\"model\",\"name\":\"TemplateActions1\",\"properties\":[{\"name\":\"open_modal\",\"kind\":\"Any\",\"default\":0},{\"name\":\"close_modal\",\"kind\":\"Any\",\"default\":0}]},{\"type\":\"model\",\"name\":\"BootstrapTemplateActions1\",\"properties\":[{\"name\":\"open_modal\",\"kind\":\"Any\",\"default\":0},{\"name\":\"close_modal\",\"kind\":\"Any\",\"default\":0}]},{\"type\":\"model\",\"name\":\"TemplateEditor1\",\"properties\":[{\"name\":\"layout\",\"kind\":\"Any\",\"default\":[]}]},{\"type\":\"model\",\"name\":\"MaterialTemplateActions1\",\"properties\":[{\"name\":\"open_modal\",\"kind\":\"Any\",\"default\":0},{\"name\":\"close_modal\",\"kind\":\"Any\",\"default\":0}]},{\"type\":\"model\",\"name\":\"copy_to_clipboard1\",\"properties\":[{\"name\":\"fill\",\"kind\":\"Any\",\"default\":\"none\"},{\"name\":\"value\",\"kind\":\"Any\",\"default\":null}]}]}};\n",
       "  var render_items = [{\"docid\":\"01e20f6d-f76b-46f7-a305-8e5fcae69e32\",\"roots\":{\"p1004\":\"e7659ec2-27bd-4500-9e42-de36868bb1f5\"},\"root_ids\":[\"p1004\"]}];\n",
       "  var docs = Object.values(docs_json)\n",
       "  if (!docs) {\n",
       "    return\n",
       "  }\n",
       "  const py_version = docs[0].version.replace('rc', '-rc.').replace('.dev', '-dev.')\n",
       "  function embed_document(root) {\n",
       "    var Bokeh = get_bokeh(root)\n",
       "    Bokeh.embed.embed_items_notebook(docs_json, render_items);\n",
       "    for (const render_item of render_items) {\n",
       "      for (const root_id of render_item.root_ids) {\n",
       "\tconst id_el = document.getElementById(root_id)\n",
       "\tif (id_el.children.length && (id_el.children[0].className === 'bk-root')) {\n",
       "\t  const root_el = id_el.children[0]\n",
       "\t  root_el.id = root_el.id + '-rendered'\n",
       "\t}\n",
       "      }\n",
       "    }\n",
       "  }\n",
       "  function get_bokeh(root) {\n",
       "    if (root.Bokeh === undefined) {\n",
       "      return null\n",
       "    } else if (root.Bokeh.version !== py_version) {\n",
       "      if (root.Bokeh.versions === undefined || !root.Bokeh.versions.has(py_version)) {\n",
       "\treturn null\n",
       "      }\n",
       "      return root.Bokeh.versions.get(py_version);\n",
       "    } else if (root.Bokeh.version === py_version) {\n",
       "      return root.Bokeh\n",
       "    }\n",
       "    return null\n",
       "  }\n",
       "  function is_loaded(root) {\n",
       "    var Bokeh = get_bokeh(root)\n",
       "    return (Bokeh != null && Bokeh.Panel !== undefined)\n",
       "  }\n",
       "  if (is_loaded(root)) {\n",
       "    embed_document(root);\n",
       "  } else {\n",
       "    var attempts = 0;\n",
       "    var timer = setInterval(function(root) {\n",
       "      if (is_loaded(root)) {\n",
       "        clearInterval(timer);\n",
       "        embed_document(root);\n",
       "      } else if (document.readyState == \"complete\") {\n",
       "        attempts++;\n",
       "        if (attempts > 200) {\n",
       "          clearInterval(timer);\n",
       "\t  var Bokeh = get_bokeh(root)\n",
       "\t  if (Bokeh == null || Bokeh.Panel == null) {\n",
       "            console.warn(\"Panel: ERROR: Unable to run Panel code because Bokeh or Panel library is missing\");\n",
       "\t  } else {\n",
       "\t    console.warn(\"Panel: WARNING: Attempting to render but not all required libraries could be resolved.\")\n",
       "\t    embed_document(root)\n",
       "\t  }\n",
       "        }\n",
       "      }\n",
       "    }, 25, root)\n",
       "  }\n",
       "})(window);</script>"
      ],
      "text/plain": [
       ":Bars   [groups]   (random)"
      ]
     },
     "execution_count": 60,
     "metadata": {
      "application/vnd.holoviews_exec.v0+json": {
       "id": "p1004"
      }
     },
     "output_type": "execute_result"
    }
   ],
   "source": [
    "(\n",
    "    df.group_by(\"groups\", maintain_order=True)\n",
    "    .agg(pl.sum(\"random\"))\n",
    "    .plot.bar(x=\"groups\", y=\"random\")\n",
    ")"
   ]
  },
  {
   "cell_type": "markdown",
   "id": "48bb691a",
   "metadata": {
    "lines_to_next_cell": 2
   },
   "source": [
    "## Debugging\n",
    "If you have a long chain of transformations, it can be handy to look at / log intemediate steps.\n",
    "Write little helpers to make this easy and call them via `pipe()`."
   ]
  },
  {
   "cell_type": "code",
   "execution_count": 61,
   "id": "a36abb98",
   "metadata": {
    "execution": {
     "iopub.execute_input": "2024-05-15T11:40:55.886096Z",
     "iopub.status.busy": "2024-05-15T11:40:55.885901Z",
     "iopub.status.idle": "2024-05-15T11:40:55.892098Z",
     "shell.execute_reply": "2024-05-15T11:40:55.891597Z"
    }
   },
   "outputs": [
    {
     "name": "stdout",
     "output_type": "stream",
     "text": [
      "step 1: shape:(5, 4)  schema: {'nrs': Int64, 'names': String, 'random': Float64, 'groups': String}\n",
      "step 2: shape:(3, 4)  schema: {'nrs': Int64, 'names': String, 'random': Float64, 'groups': String}\n",
      "step 3: shape:(3, 1)  schema: {'names': String}\n"
     ]
    },
    {
     "data": {
      "text/html": [
       "<div><style>\n",
       ".dataframe > thead > tr,\n",
       ".dataframe > tbody > tr {\n",
       "  text-align: right;\n",
       "  white-space: pre-wrap;\n",
       "}\n",
       "</style>\n",
       "<small>shape: (3, 1)</small><table border=\"1\" class=\"dataframe\"><thead><tr><th>names</th></tr><tr><td>str</td></tr></thead><tbody><tr><td>&quot;ham&quot;</td></tr><tr><td>&quot;egg&quot;</td></tr><tr><td>null</td></tr></tbody></table></div>"
      ],
      "text/plain": [
       "shape: (3, 1)\n",
       "┌───────┐\n",
       "│ names │\n",
       "│ ---   │\n",
       "│ str   │\n",
       "╞═══════╡\n",
       "│ ham   │\n",
       "│ egg   │\n",
       "│ null  │\n",
       "└───────┘"
      ]
     },
     "execution_count": 61,
     "metadata": {},
     "output_type": "execute_result"
    }
   ],
   "source": [
    "def log_df(df: pl.DataFrame, prefix=\"\") -> pl.DataFrame:\n",
    "    print(f\"{prefix}shape:{df.shape}  schema: {dict(df.schema)}\")\n",
    "    return df\n",
    "\n",
    "\n",
    "(\n",
    "    df.pipe(log_df, \"step 1: \")\n",
    "    .filter(c.random > 0.5)\n",
    "    .pipe(log_df, \"step 2: \")\n",
    "    .select(\"names\")\n",
    "    .pipe(log_df, \"step 3: \")\n",
    ")"
   ]
  },
  {
   "cell_type": "markdown",
   "id": "b6512c88",
   "metadata": {},
   "source": [
    "## Eager, lazy, out-of-core\n",
    "Lazy mode allows optimization of the query plan.\n",
    "\n",
    "Out-of-core or streaming allows to work with data that is bigger than the RAM."
   ]
  },
  {
   "cell_type": "code",
   "execution_count": 62,
   "id": "863663d7",
   "metadata": {
    "execution": {
     "iopub.execute_input": "2024-05-15T11:40:55.897100Z",
     "iopub.status.busy": "2024-05-15T11:40:55.896909Z",
     "iopub.status.idle": "2024-05-15T11:40:55.904156Z",
     "shell.execute_reply": "2024-05-15T11:40:55.903306Z"
    }
   },
   "outputs": [
    {
     "data": {
      "text/html": [
       "<div><style>\n",
       ".dataframe > thead > tr,\n",
       ".dataframe > tbody > tr {\n",
       "  text-align: right;\n",
       "  white-space: pre-wrap;\n",
       "}\n",
       "</style>\n",
       "<small>shape: (3, 2)</small><table border=\"1\" class=\"dataframe\"><thead><tr><th>groups</th><th>total</th></tr><tr><td>str</td><td>f64</td></tr></thead><tbody><tr><td>&quot;B&quot;</td><td>0.7</td></tr><tr><td>&quot;C&quot;</td><td>0.9</td></tr><tr><td>&quot;A&quot;</td><td>1.0</td></tr></tbody></table></div>"
      ],
      "text/plain": [
       "shape: (3, 2)\n",
       "┌────────┬───────┐\n",
       "│ groups ┆ total │\n",
       "│ ---    ┆ ---   │\n",
       "│ str    ┆ f64   │\n",
       "╞════════╪═══════╡\n",
       "│ B      ┆ 0.7   │\n",
       "│ C      ┆ 0.9   │\n",
       "│ A      ┆ 1.0   │\n",
       "└────────┴───────┘"
      ]
     },
     "execution_count": 62,
     "metadata": {},
     "output_type": "execute_result"
    }
   ],
   "source": [
    "# eager loading, lazy execution\n",
    "data = pl.read_parquet(\"df.parquet\")\n",
    "(\n",
    "    data.lazy()\n",
    "    .group_by(\"groups\")\n",
    "    .agg(pl.sum(\"random\").alias(\"total\"))\n",
    "    .sort(\"total\")\n",
    "    # till here nothing really happened\n",
    "    .collect()  # now we execute the plan and collect the results\n",
    ")"
   ]
  },
  {
   "cell_type": "code",
   "execution_count": 63,
   "id": "a1443315",
   "metadata": {
    "execution": {
     "iopub.execute_input": "2024-05-15T11:40:55.907925Z",
     "iopub.status.busy": "2024-05-15T11:40:55.907741Z",
     "iopub.status.idle": "2024-05-15T11:40:55.914489Z",
     "shell.execute_reply": "2024-05-15T11:40:55.913715Z"
    }
   },
   "outputs": [
    {
     "data": {
      "text/html": [
       "<div><style>\n",
       ".dataframe > thead > tr,\n",
       ".dataframe > tbody > tr {\n",
       "  text-align: right;\n",
       "  white-space: pre-wrap;\n",
       "}\n",
       "</style>\n",
       "<small>shape: (3, 2)</small><table border=\"1\" class=\"dataframe\"><thead><tr><th>groups</th><th>total</th></tr><tr><td>str</td><td>f64</td></tr></thead><tbody><tr><td>&quot;B&quot;</td><td>0.7</td></tr><tr><td>&quot;C&quot;</td><td>0.9</td></tr><tr><td>&quot;A&quot;</td><td>1.0</td></tr></tbody></table></div>"
      ],
      "text/plain": [
       "shape: (3, 2)\n",
       "┌────────┬───────┐\n",
       "│ groups ┆ total │\n",
       "│ ---    ┆ ---   │\n",
       "│ str    ┆ f64   │\n",
       "╞════════╪═══════╡\n",
       "│ B      ┆ 0.7   │\n",
       "│ C      ┆ 0.9   │\n",
       "│ A      ┆ 1.0   │\n",
       "└────────┴───────┘"
      ]
     },
     "execution_count": 63,
     "metadata": {},
     "output_type": "execute_result"
    }
   ],
   "source": [
    "# lazy loading, lazy execution\n",
    "data = pl.scan_parquet(\"df.parquet\")\n",
    "(\n",
    "    data.lazy()\n",
    "    .group_by(\"groups\")\n",
    "    .agg(pl.sum(\"random\").alias(\"total\"))\n",
    "    .sort(\"total\")\n",
    "    # till here nothing really happened\n",
    "    # with the next line, we execute the plan and collect the results\n",
    "    .collect()\n",
    ")"
   ]
  },
  {
   "cell_type": "code",
   "execution_count": 64,
   "id": "91a10b50",
   "metadata": {
    "execution": {
     "iopub.execute_input": "2024-05-15T11:40:55.916805Z",
     "iopub.status.busy": "2024-05-15T11:40:55.916624Z",
     "iopub.status.idle": "2024-05-15T11:40:55.925410Z",
     "shell.execute_reply": "2024-05-15T11:40:55.924807Z"
    }
   },
   "outputs": [
    {
     "data": {
      "text/html": [
       "<div><style>\n",
       ".dataframe > thead > tr,\n",
       ".dataframe > tbody > tr {\n",
       "  text-align: right;\n",
       "  white-space: pre-wrap;\n",
       "}\n",
       "</style>\n",
       "<small>shape: (3, 2)</small><table border=\"1\" class=\"dataframe\"><thead><tr><th>groups</th><th>total</th></tr><tr><td>str</td><td>f64</td></tr></thead><tbody><tr><td>&quot;B&quot;</td><td>0.7</td></tr><tr><td>&quot;C&quot;</td><td>0.9</td></tr><tr><td>&quot;A&quot;</td><td>1.0</td></tr></tbody></table></div>"
      ],
      "text/plain": [
       "shape: (3, 2)\n",
       "┌────────┬───────┐\n",
       "│ groups ┆ total │\n",
       "│ ---    ┆ ---   │\n",
       "│ str    ┆ f64   │\n",
       "╞════════╪═══════╡\n",
       "│ B      ┆ 0.7   │\n",
       "│ C      ┆ 0.9   │\n",
       "│ A      ┆ 1.0   │\n",
       "└────────┴───────┘"
      ]
     },
     "execution_count": 64,
     "metadata": {},
     "output_type": "execute_result"
    }
   ],
   "source": [
    "# stream data\n",
    "data = pl.scan_parquet(\"df.parquet\")\n",
    "(\n",
    "    data.lazy()\n",
    "    .group_by(\"groups\")\n",
    "    .agg(pl.sum(\"random\").alias(\"total\"))\n",
    "    .sort(\"total\")\n",
    "    # till here nothing really happened\n",
    "    # with the next line, we execute the plan in a streaming fashion\n",
    "    .collect(streaming=True)\n",
    ")"
   ]
  },
  {
   "cell_type": "markdown",
   "id": "11df4130",
   "metadata": {},
   "source": [
    "## Data Validation with Pandera\n",
    "\n",
    "Since 0.19 [pandera offers polars support](https://pandera.readthedocs.io/en/stable/polars.html).\n",
    "That means you can validate the schema and data of your polars DataFrame.\n",
    "\n",
    "This is just a sneak peak, read the docs for more."
   ]
  },
  {
   "cell_type": "code",
   "execution_count": 65,
   "id": "f00833d8",
   "metadata": {
    "execution": {
     "iopub.execute_input": "2024-05-15T11:40:55.928000Z",
     "iopub.status.busy": "2024-05-15T11:40:55.927554Z",
     "iopub.status.idle": "2024-05-15T11:40:56.118499Z",
     "shell.execute_reply": "2024-05-15T11:40:56.117539Z"
    }
   },
   "outputs": [],
   "source": [
    "import pandera.polars as pa\n",
    "\n",
    "\n",
    "# define your schema in as much detail as you want\n",
    "\n",
    "\n",
    "class MySchema(pa.DataFrameModel):\n",
    "    nrs: int\n",
    "    names: str  # or pl.String\n",
    "    # different range\n",
    "    random: float = pa.Field(in_range={\"min_value\": 1.0, \"max_value\": 2.0})\n",
    "    # C is not allowed\n",
    "    groups: str = pa.Field(isin=[\"A\", \"B\"])\n",
    "\n",
    "    class Config:\n",
    "        # All existing columns must be listed in the schema\n",
    "        strict = True"
   ]
  },
  {
   "cell_type": "code",
   "execution_count": 66,
   "id": "1e1092c1",
   "metadata": {
    "execution": {
     "iopub.execute_input": "2024-05-15T11:40:56.122455Z",
     "iopub.status.busy": "2024-05-15T11:40:56.122255Z",
     "iopub.status.idle": "2024-05-15T11:40:56.141579Z",
     "shell.execute_reply": "2024-05-15T11:40:56.140667Z"
    }
   },
   "outputs": [
    {
     "name": "stdout",
     "output_type": "stream",
     "text": [
      "Got SchemaErrors exception.\n",
      "{\n",
      "    \"SCHEMA\": {\n",
      "        \"SERIES_CONTAINS_NULLS\": [\n",
      "            {\n",
      "                \"schema\": \"MySchema\",\n",
      "                \"column\": \"nrs\",\n",
      "                \"check\": \"not_nullable\",\n",
      "                \"error\": \"non-nullable column 'nrs' contains null values\"\n",
      "            },\n",
      "            {\n",
      "                \"schema\": \"MySchema\",\n",
      "                \"column\": \"names\",\n",
      "                \"check\": \"not_nullable\",\n",
      "                \"error\": \"non-nullable column 'names' contains null values\"\n",
      "            }\n",
      "        ]\n",
      "    },\n",
      "    \"DATA\": {\n",
      "        \"DATAFRAME_CHECK\": [\n",
      "            {\n",
      "                \"schema\": \"MySchema\",\n",
      "                \"column\": \"random\",\n",
      "                \"check\": \"in_range(1.0, 2.0)\",\n",
      "                \"error\": \"Column 'random' failed validator number 0: <Check in_range: in_range(1.0, 2.0)> failure case examples: [{'random': 0.3}, {'random': 0.7}, {'random': 0.1}, {'random': 0.9}, {'random': 0.6}]\"\n",
      "            },\n",
      "            {\n",
      "                \"schema\": \"MySchema\",\n",
      "                \"column\": \"groups\",\n",
      "                \"check\": \"isin(['A', 'B'])\",\n",
      "                \"error\": \"Column 'groups' failed validator number 0: <Check isin: isin(['A', 'B'])> failure case examples: [{'groups': 'C'}]\"\n",
      "            }\n",
      "        ]\n",
      "    }\n",
      "}\n"
     ]
    }
   ],
   "source": [
    "# Then validate it.\n",
    "# Use lazy=True to run all validations before throwing the SchemaErrors\n",
    "try:\n",
    "    MySchema.validate(df, lazy=True)\n",
    "except pa.errors.SchemaErrors as e:\n",
    "    print(\"Got SchemaErrors exception.\")\n",
    "    print(e)"
   ]
  }
 ],
 "metadata": {
  "jupytext": {
   "formats": "ipynb,py:percent"
  },
  "kernelspec": {
   "display_name": "Python 3 (ipykernel)",
   "language": "python",
   "name": "python3"
  },
  "language_info": {
   "codemirror_mode": {
    "name": "ipython",
    "version": 3
   },
   "file_extension": ".py",
   "mimetype": "text/x-python",
   "name": "python",
   "nbconvert_exporter": "python",
   "pygments_lexer": "ipython3",
   "version": "3.11.9"
  }
 },
 "nbformat": 4,
 "nbformat_minor": 5
}
